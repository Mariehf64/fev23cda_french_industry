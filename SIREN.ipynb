{
 "cells": [
  {
   "cell_type": "markdown",
   "id": "099df9ea",
   "metadata": {},
   "source": [
    "# FICHIER SIREN #"
   ]
  },
  {
   "cell_type": "markdown",
   "id": "5ac7476d",
   "metadata": {},
   "source": [
    "Le fichier SIREN repertorie l'ensemble des établissements en France.  \n",
    "Chaque établissement a une clé unique: le SIRET.  \n",
    "Une entreprise peut comprendre plusieurs établissements  \n",
    "On identifie une entreprise via le SIREN.\n",
    "\n",
    "Le fichier SIREN est très volumineux (> 6 GO).  \n",
    "Il peut difficilement être ouvert via un read_csv et demande un matériel informatique suffisamment puissant.\n",
    "\n",
    "Certaines entreprises, largement minoritaires, refusent leur diffusion via ce type de fichier.  \n",
    "Elle sont donc absentes (variable statutDiffusionEtablissement)\n",
    "\n",
    "Dans le cadre du projet French Industry, Nous souhaitons :\n",
    "\n",
    "- SIRET\n",
    "- SIREN\n",
    "- Avoir les entreprises actives (etatAdministratifEtablissement == 'A')\n",
    "- Disposer d'informations géographiques (codeCommuneEtablissement)\n",
    "- Connaître la taille de l'établissement (trancheEffectifsEtablissement & anneeEffectifsEtablissement)"
   ]
  },
  {
   "cell_type": "markdown",
   "id": "e78e45ec",
   "metadata": {},
   "source": [
    "# FICHIER SOURCE #"
   ]
  },
  {
   "cell_type": "markdown",
   "id": "eab1a3d0",
   "metadata": {},
   "source": [
    "**Lien** : https://www.data.gouv.fr/fr/datasets/base-sirene-des-entreprises-et-de-leurs-etablissements-siren-siret/  \n",
    "**Fichier à télécharger** : StockEtablissement_utf8.csv"
   ]
  },
  {
   "cell_type": "markdown",
   "id": "3f3c9360",
   "metadata": {},
   "source": [
    "# SIREN : STOCK ETABLISSEMENT #"
   ]
  },
  {
   "cell_type": "code",
   "execution_count": 1,
   "id": "b7f1a87c",
   "metadata": {},
   "outputs": [],
   "source": [
    "import pandas as pd\n",
    "import numpy as np\n",
    "import time\n",
    "from unidecode import unidecode"
   ]
  },
  {
   "cell_type": "code",
   "execution_count": 2,
   "id": "5b66ade8",
   "metadata": {
    "scrolled": true
   },
   "outputs": [
    {
     "name": "stdout",
     "output_type": "stream",
     "text": [
      "Temps d'excution : 348.11\n"
     ]
    },
    {
     "data": {
      "text/html": [
       "<div>\n",
       "<style scoped>\n",
       "    .dataframe tbody tr th:only-of-type {\n",
       "        vertical-align: middle;\n",
       "    }\n",
       "\n",
       "    .dataframe tbody tr th {\n",
       "        vertical-align: top;\n",
       "    }\n",
       "\n",
       "    .dataframe thead th {\n",
       "        text-align: right;\n",
       "    }\n",
       "</style>\n",
       "<table border=\"1\" class=\"dataframe\">\n",
       "  <thead>\n",
       "    <tr style=\"text-align: right;\">\n",
       "      <th></th>\n",
       "      <th>siret</th>\n",
       "      <th>siren</th>\n",
       "      <th>etatAdministratifEtablissement</th>\n",
       "      <th>etablissementSiege</th>\n",
       "      <th>codeCommuneEtablissement</th>\n",
       "      <th>trancheEffectifsEtablissement</th>\n",
       "      <th>anneeEffectifsEtablissement</th>\n",
       "      <th>codePostalEtablissement</th>\n",
       "      <th>libelleCommuneEtablissement</th>\n",
       "    </tr>\n",
       "  </thead>\n",
       "  <tbody>\n",
       "    <tr>\n",
       "      <th>0</th>\n",
       "      <td>00032517500016</td>\n",
       "      <td>000325175</td>\n",
       "      <td>F</td>\n",
       "      <td>false</td>\n",
       "      <td>98727</td>\n",
       "      <td>&lt;NA&gt;</td>\n",
       "      <td>&lt;NA&gt;</td>\n",
       "      <td>98770</td>\n",
       "      <td>MANIHI</td>\n",
       "    </tr>\n",
       "    <tr>\n",
       "      <th>1</th>\n",
       "      <td>00032517500024</td>\n",
       "      <td>000325175</td>\n",
       "      <td>F</td>\n",
       "      <td>false</td>\n",
       "      <td>84007</td>\n",
       "      <td>&lt;NA&gt;</td>\n",
       "      <td>&lt;NA&gt;</td>\n",
       "      <td>84140</td>\n",
       "      <td>AVIGNON</td>\n",
       "    </tr>\n",
       "    <tr>\n",
       "      <th>2</th>\n",
       "      <td>00032517500032</td>\n",
       "      <td>000325175</td>\n",
       "      <td>F</td>\n",
       "      <td>false</td>\n",
       "      <td>84007</td>\n",
       "      <td>&lt;NA&gt;</td>\n",
       "      <td>&lt;NA&gt;</td>\n",
       "      <td>84000</td>\n",
       "      <td>AVIGNON</td>\n",
       "    </tr>\n",
       "    <tr>\n",
       "      <th>3</th>\n",
       "      <td>00032517500040</td>\n",
       "      <td>000325175</td>\n",
       "      <td>F</td>\n",
       "      <td>false</td>\n",
       "      <td>13042</td>\n",
       "      <td>&lt;NA&gt;</td>\n",
       "      <td>&lt;NA&gt;</td>\n",
       "      <td>13420</td>\n",
       "      <td>GEMENOS</td>\n",
       "    </tr>\n",
       "    <tr>\n",
       "      <th>4</th>\n",
       "      <td>00032517500057</td>\n",
       "      <td>000325175</td>\n",
       "      <td>F</td>\n",
       "      <td>false</td>\n",
       "      <td>13204</td>\n",
       "      <td>&lt;NA&gt;</td>\n",
       "      <td>&lt;NA&gt;</td>\n",
       "      <td>13004</td>\n",
       "      <td>MARSEILLE 4</td>\n",
       "    </tr>\n",
       "  </tbody>\n",
       "</table>\n",
       "</div>"
      ],
      "text/plain": [
       "            siret      siren etatAdministratifEtablissement  \\\n",
       "0  00032517500016  000325175                              F   \n",
       "1  00032517500024  000325175                              F   \n",
       "2  00032517500032  000325175                              F   \n",
       "3  00032517500040  000325175                              F   \n",
       "4  00032517500057  000325175                              F   \n",
       "\n",
       "  etablissementSiege codeCommuneEtablissement trancheEffectifsEtablissement  \\\n",
       "0              false                    98727                          <NA>   \n",
       "1              false                    84007                          <NA>   \n",
       "2              false                    84007                          <NA>   \n",
       "3              false                    13042                          <NA>   \n",
       "4              false                    13204                          <NA>   \n",
       "\n",
       "  anneeEffectifsEtablissement codePostalEtablissement  \\\n",
       "0                        <NA>                   98770   \n",
       "1                        <NA>                   84140   \n",
       "2                        <NA>                   84000   \n",
       "3                        <NA>                   13420   \n",
       "4                        <NA>                   13004   \n",
       "\n",
       "  libelleCommuneEtablissement  \n",
       "0                      MANIHI  \n",
       "1                     AVIGNON  \n",
       "2                     AVIGNON  \n",
       "3                     GEMENOS  \n",
       "4                 MARSEILLE 4  "
      ]
     },
     "execution_count": 2,
     "metadata": {},
     "output_type": "execute_result"
    }
   ],
   "source": [
    "\n",
    "#début de l'execution du code\n",
    "start = time.time()\n",
    "\n",
    "siret = pd.Series([], dtype='string') # 'siret'\n",
    "siren = pd.Series([], dtype='string') # 'siret'\n",
    "etablissementSiege = pd.Series([], dtype='boolean') # 'etablissementSiege'\n",
    "codeCommuneEtablissement = pd.Series([], dtype='string') # 'codeCommuneEtablissement'\n",
    "trancheEffectifsEtablissement = pd.Series([], dtype='string') # 'trancheEffectifsEtablissement'\n",
    "anneeEffectifsEtablissement = pd.Series([], dtype='string') # 'anneeEffectifsEtablissement'\n",
    "libelleVoieEtablissement = pd.Series([], dtype='string') # 'libelleVoieEtablissement'\n",
    "codePostalEtablissement = pd.Series([], dtype='string') # 'codePostalEtablissement'\n",
    "libelleCommuneEtablissement = pd.Series([], dtype='string') # 'libelleCommuneEtablissement'\n",
    "etatAdministratifEtablissement = pd.Series([], dtype='string') # 'etatAdministratifEtablissement'\n",
    "trancheEffectifsEtablissement = pd.Series([], dtype='string') # 'trancheEffectifsEtablissement'\n",
    "\n",
    "for chunk in pd.read_csv(\"C:\\\\Users\\\\vrenouf\\\\Documents\\\\SIREN SFDC Data files\\\\StockEtablissement_utf8.csv\", encoding='UTF-8', dtype='string', chunksize=1000000):\n",
    "    siret = pd.concat([siret, chunk['siret']])\n",
    "    siren = pd.concat([siren, chunk['siren']])\n",
    "    etablissementSiege = pd.concat([etablissementSiege, chunk['etablissementSiege']])\n",
    "    codeCommuneEtablissement = pd.concat([codeCommuneEtablissement, chunk['codeCommuneEtablissement']])\n",
    "    trancheEffectifsEtablissement = pd.concat([trancheEffectifsEtablissement, chunk['trancheEffectifsEtablissement']])\n",
    "    anneeEffectifsEtablissement = pd.concat([anneeEffectifsEtablissement, chunk['anneeEffectifsEtablissement']])\n",
    "    codePostalEtablissement = pd.concat([codePostalEtablissement, chunk['codePostalEtablissement']])\n",
    "    libelleCommuneEtablissement = pd.concat([libelleCommuneEtablissement, chunk['libelleCommuneEtablissement']])\n",
    "    etatAdministratifEtablissement = pd.concat([etatAdministratifEtablissement, chunk['etatAdministratifEtablissement']])\n",
    "\n",
    "StockEtablissement = pd.concat([siret, \n",
    "                                siren,\n",
    "                                etatAdministratifEtablissement,\n",
    "                                etablissementSiege, \n",
    "                                codeCommuneEtablissement,\n",
    "                                trancheEffectifsEtablissement,\n",
    "                                anneeEffectifsEtablissement,\n",
    "                                codePostalEtablissement,\n",
    "                                libelleCommuneEtablissement], axis=1)\n",
    "\n",
    "StockEtablissement.columns = ['siret', \n",
    "                                'siren',\n",
    "                                'etatAdministratifEtablissement',\n",
    "                                'etablissementSiege', \n",
    "                                'codeCommuneEtablissement',\n",
    "                                'trancheEffectifsEtablissement',\n",
    "                                'anneeEffectifsEtablissement',\n",
    "                                'codePostalEtablissement',\n",
    "                                'libelleCommuneEtablissement',]\n",
    "\n",
    "\n",
    "end = time.time()\n",
    "execution = end - start\n",
    "print('Temps d\\'excution : {}'.format(np.round(execution, 2)))\n",
    "StockEtablissement.head()"
   ]
  },
  {
   "cell_type": "markdown",
   "id": "c656d82e",
   "metadata": {},
   "source": [
    "# EXPORT DES ETABLISSEMENTS ACTIFS AU 1ER AVRIL 2023 #"
   ]
  },
  {
   "cell_type": "code",
   "execution_count": 3,
   "id": "193d56e1",
   "metadata": {},
   "outputs": [],
   "source": [
    "StockEtablissement_A = StockEtablissement[StockEtablissement['etatAdministratifEtablissement'] == 'A'].reset_index(drop=True)"
   ]
  },
  {
   "cell_type": "code",
   "execution_count": 4,
   "id": "4eb8747a",
   "metadata": {},
   "outputs": [],
   "source": [
    "StockEtablissement_A.to_csv(\"StockEtablissement_A.csv\")"
   ]
  },
  {
   "cell_type": "code",
   "execution_count": 5,
   "id": "1fe95fb2",
   "metadata": {},
   "outputs": [
    {
     "data": {
      "text/html": [
       "<div>\n",
       "<style scoped>\n",
       "    .dataframe tbody tr th:only-of-type {\n",
       "        vertical-align: middle;\n",
       "    }\n",
       "\n",
       "    .dataframe tbody tr th {\n",
       "        vertical-align: top;\n",
       "    }\n",
       "\n",
       "    .dataframe thead th {\n",
       "        text-align: right;\n",
       "    }\n",
       "</style>\n",
       "<table border=\"1\" class=\"dataframe\">\n",
       "  <thead>\n",
       "    <tr style=\"text-align: right;\">\n",
       "      <th></th>\n",
       "      <th>siret</th>\n",
       "      <th>siren</th>\n",
       "      <th>etatAdministratifEtablissement</th>\n",
       "      <th>etablissementSiege</th>\n",
       "      <th>codeCommuneEtablissement</th>\n",
       "      <th>trancheEffectifsEtablissement</th>\n",
       "      <th>anneeEffectifsEtablissement</th>\n",
       "      <th>codePostalEtablissement</th>\n",
       "      <th>libelleCommuneEtablissement</th>\n",
       "    </tr>\n",
       "  </thead>\n",
       "  <tbody>\n",
       "    <tr>\n",
       "      <th>0</th>\n",
       "      <td>00032517500065</td>\n",
       "      <td>000325175</td>\n",
       "      <td>A</td>\n",
       "      <td>true</td>\n",
       "      <td>13204</td>\n",
       "      <td>&lt;NA&gt;</td>\n",
       "      <td>&lt;NA&gt;</td>\n",
       "      <td>13004</td>\n",
       "      <td>MARSEILLE 4</td>\n",
       "    </tr>\n",
       "    <tr>\n",
       "      <th>1</th>\n",
       "      <td>00542002100056</td>\n",
       "      <td>005420021</td>\n",
       "      <td>A</td>\n",
       "      <td>true</td>\n",
       "      <td>80001</td>\n",
       "      <td>NN</td>\n",
       "      <td>&lt;NA&gt;</td>\n",
       "      <td>80100</td>\n",
       "      <td>ABBEVILLE</td>\n",
       "    </tr>\n",
       "    <tr>\n",
       "      <th>2</th>\n",
       "      <td>00542012000015</td>\n",
       "      <td>005420120</td>\n",
       "      <td>A</td>\n",
       "      <td>false</td>\n",
       "      <td>80688</td>\n",
       "      <td>02</td>\n",
       "      <td>2020</td>\n",
       "      <td>80120</td>\n",
       "      <td>RUE</td>\n",
       "    </tr>\n",
       "    <tr>\n",
       "      <th>3</th>\n",
       "      <td>00542012000023</td>\n",
       "      <td>005420120</td>\n",
       "      <td>A</td>\n",
       "      <td>false</td>\n",
       "      <td>62688</td>\n",
       "      <td>NN</td>\n",
       "      <td>&lt;NA&gt;</td>\n",
       "      <td>62180</td>\n",
       "      <td>RANG-DU-FLIERS</td>\n",
       "    </tr>\n",
       "    <tr>\n",
       "      <th>4</th>\n",
       "      <td>00542012000031</td>\n",
       "      <td>005420120</td>\n",
       "      <td>A</td>\n",
       "      <td>true</td>\n",
       "      <td>62550</td>\n",
       "      <td>03</td>\n",
       "      <td>2020</td>\n",
       "      <td>62140</td>\n",
       "      <td>MARCONNELLE</td>\n",
       "    </tr>\n",
       "  </tbody>\n",
       "</table>\n",
       "</div>"
      ],
      "text/plain": [
       "            siret      siren etatAdministratifEtablissement  \\\n",
       "0  00032517500065  000325175                              A   \n",
       "1  00542002100056  005420021                              A   \n",
       "2  00542012000015  005420120                              A   \n",
       "3  00542012000023  005420120                              A   \n",
       "4  00542012000031  005420120                              A   \n",
       "\n",
       "  etablissementSiege codeCommuneEtablissement trancheEffectifsEtablissement  \\\n",
       "0               true                    13204                          <NA>   \n",
       "1               true                    80001                            NN   \n",
       "2              false                    80688                            02   \n",
       "3              false                    62688                            NN   \n",
       "4               true                    62550                            03   \n",
       "\n",
       "  anneeEffectifsEtablissement codePostalEtablissement  \\\n",
       "0                        <NA>                   13004   \n",
       "1                        <NA>                   80100   \n",
       "2                        2020                   80120   \n",
       "3                        <NA>                   62180   \n",
       "4                        2020                   62140   \n",
       "\n",
       "  libelleCommuneEtablissement  \n",
       "0                 MARSEILLE 4  \n",
       "1                   ABBEVILLE  \n",
       "2                         RUE  \n",
       "3              RANG-DU-FLIERS  \n",
       "4                 MARCONNELLE  "
      ]
     },
     "execution_count": 5,
     "metadata": {},
     "output_type": "execute_result"
    }
   ],
   "source": [
    "StockEtablissement_A.head()"
   ]
  },
  {
   "cell_type": "markdown",
   "id": "cde57283",
   "metadata": {},
   "source": [
    "### COMBIEN D'ETABLISSEMENTS ACTIFS EN FRANCE ? ###"
   ]
  },
  {
   "cell_type": "code",
   "execution_count": 7,
   "id": "0d734b5b",
   "metadata": {},
   "outputs": [
    {
     "data": {
      "text/plain": [
       "14873397"
      ]
     },
     "execution_count": 7,
     "metadata": {},
     "output_type": "execute_result"
    }
   ],
   "source": [
    "len(StockEtablissement_A)"
   ]
  },
  {
   "cell_type": "markdown",
   "id": "555d935a",
   "metadata": {},
   "source": [
    "Est-ce que cela correspond bien au nombre de SIRET unique ?"
   ]
  },
  {
   "cell_type": "code",
   "execution_count": 8,
   "id": "f7229449",
   "metadata": {},
   "outputs": [
    {
     "data": {
      "text/plain": [
       "14873397"
      ]
     },
     "execution_count": 8,
     "metadata": {},
     "output_type": "execute_result"
    }
   ],
   "source": [
    "StockEtablissement_A.siret.nunique()"
   ]
  },
  {
   "cell_type": "markdown",
   "id": "417a1032",
   "metadata": {},
   "source": [
    "Combien d'entreprises ?"
   ]
  },
  {
   "cell_type": "code",
   "execution_count": 9,
   "id": "55a629fb",
   "metadata": {},
   "outputs": [
    {
     "data": {
      "text/plain": [
       "13399071"
      ]
     },
     "execution_count": 9,
     "metadata": {},
     "output_type": "execute_result"
    }
   ],
   "source": [
    "StockEtablissement_A.siren.nunique()"
   ]
  },
  {
   "cell_type": "markdown",
   "id": "f3058f90",
   "metadata": {},
   "source": [
    "### ETAT DES LIEUX DES CODES COMMUNE ###"
   ]
  },
  {
   "cell_type": "code",
   "execution_count": 13,
   "id": "67a19584",
   "metadata": {},
   "outputs": [
    {
     "data": {
      "text/plain": [
       "0.0"
      ]
     },
     "execution_count": 13,
     "metadata": {},
     "output_type": "execute_result"
    }
   ],
   "source": [
    "StockEtablissement_A[StockEtablissement_A['codeCommuneEtablissement'] == 'true'].trancheEffectifsEtablissement.isna().sum() / len(StockEtablissement_A)"
   ]
  },
  {
   "cell_type": "markdown",
   "id": "7d1b4821",
   "metadata": {},
   "source": [
    "Il n'y a donc aucun NaN pour les codes géographiques"
   ]
  },
  {
   "cell_type": "markdown",
   "id": "cda96da7",
   "metadata": {},
   "source": [
    "### TRANCHES EFFECTIFS ETABLISSEMENTS ###\n",
    "\n",
    "- NN : Etablissement non employeur (pas de salarié au cours de l'année de référence et pas d'effectif au\n",
    "31/12)\n",
    "- 00 : 0 salarié (n'ayant pas d'effectif au 31/12 mais ayant employé des salariés au cours de l'année de\n",
    "référence)\n",
    "- 01 : 1 ou 2 salariés\n",
    "- 02 : 3 à 5 salariés\n",
    "- 03 : 6 à 9 salariés\n",
    "- 11 : 10 à 19 salariés\n",
    "- 12 : 20 à 49 salariés\n",
    "- 21 : 50 à 99 salariés\n",
    "- 22 : 100 à 199 salariés\n",
    "- 31 : 200 à 249 salariés\n",
    "- 32 : 250 à 499 salariés\n",
    "- 41 : 500 à 999 salariés\n",
    "- 42 : 1 000 à 1 999 salariés\n",
    "- 51 : 2 000 à 4 999 salariés\n",
    "- 52 : 5 000 à 9 999 salariés\n",
    "- 53 : 10 000 salariés et plus"
   ]
  },
  {
   "cell_type": "markdown",
   "id": "7fdcbd38",
   "metadata": {},
   "source": [
    "### COMBIEN D'ETABLISSEMENTS SANS TRANCHES EFFECTIFS ? ###"
   ]
  },
  {
   "cell_type": "code",
   "execution_count": 10,
   "id": "34a96d5b",
   "metadata": {},
   "outputs": [
    {
     "data": {
      "text/plain": [
       "0.6868184181461706"
      ]
     },
     "execution_count": 10,
     "metadata": {},
     "output_type": "execute_result"
    }
   ],
   "source": [
    "StockEtablissement_A.trancheEffectifsEtablissement.isna().sum() / len(StockEtablissement_A)"
   ]
  },
  {
   "cell_type": "markdown",
   "id": "034b223f",
   "metadata": {},
   "source": [
    "### COMBIEN D'ETABLISSEMENTS SIEGE SANS TRANCHES EFFECTIFS ? ###"
   ]
  },
  {
   "cell_type": "code",
   "execution_count": 12,
   "id": "0884bc19",
   "metadata": {},
   "outputs": [
    {
     "data": {
      "text/plain": [
       "0.6330591458024014"
      ]
     },
     "execution_count": 12,
     "metadata": {},
     "output_type": "execute_result"
    }
   ],
   "source": [
    "StockEtablissement_A[StockEtablissement_A['etablissementSiege'] == 'true'].trancheEffectifsEtablissement.isna().sum() / len(StockEtablissement_A)"
   ]
  },
  {
   "cell_type": "markdown",
   "id": "26e7a2cc",
   "metadata": {},
   "source": [
    "### TABLEAU DES TAILLES D'ETABLISSEMENTS ###"
   ]
  },
  {
   "cell_type": "code",
   "execution_count": 20,
   "id": "dc88ac75",
   "metadata": {},
   "outputs": [],
   "source": [
    "ets_tailles = StockEtablissement_A.trancheEffectifsEtablissement.value_counts(dropna=False).to_frame()"
   ]
  },
  {
   "cell_type": "code",
   "execution_count": 23,
   "id": "9a214d63",
   "metadata": {},
   "outputs": [],
   "source": [
    "ets_tailles['categorie'] = ets_tailles.index"
   ]
  },
  {
   "cell_type": "code",
   "execution_count": 25,
   "id": "29743adb",
   "metadata": {},
   "outputs": [],
   "source": [
    "ets_tailles = ets_tailles.reset_index(drop=True)"
   ]
  },
  {
   "cell_type": "code",
   "execution_count": 29,
   "id": "2fb3b4b7",
   "metadata": {},
   "outputs": [],
   "source": [
    "nomenclature_tailles = pd.read_excel('dictionaire_effectifs_ets.xlsx', dtype='string')\n",
    "dic_nomenclatures = dict(zip(nomenclature_tailles['Cat'], nomenclature_tailles['Description']))\n",
    "ets_tailles['categorie'] = ets_tailles['categorie'].map(dic_nomenclatures)"
   ]
  },
  {
   "cell_type": "code",
   "execution_count": 30,
   "id": "35f2baf9",
   "metadata": {},
   "outputs": [
    {
     "data": {
      "text/html": [
       "<div>\n",
       "<style scoped>\n",
       "    .dataframe tbody tr th:only-of-type {\n",
       "        vertical-align: middle;\n",
       "    }\n",
       "\n",
       "    .dataframe tbody tr th {\n",
       "        vertical-align: top;\n",
       "    }\n",
       "\n",
       "    .dataframe thead th {\n",
       "        text-align: right;\n",
       "    }\n",
       "</style>\n",
       "<table border=\"1\" class=\"dataframe\">\n",
       "  <thead>\n",
       "    <tr style=\"text-align: right;\">\n",
       "      <th></th>\n",
       "      <th>trancheEffectifsEtablissement</th>\n",
       "      <th>categorie</th>\n",
       "    </tr>\n",
       "  </thead>\n",
       "  <tbody>\n",
       "    <tr>\n",
       "      <th>0</th>\n",
       "      <td>10215323</td>\n",
       "      <td>NaN</td>\n",
       "    </tr>\n",
       "    <tr>\n",
       "      <th>1</th>\n",
       "      <td>2712108</td>\n",
       "      <td>Etablissement non employeur</td>\n",
       "    </tr>\n",
       "    <tr>\n",
       "      <th>2</th>\n",
       "      <td>772757</td>\n",
       "      <td>1 ou 2 salariés</td>\n",
       "    </tr>\n",
       "    <tr>\n",
       "      <th>3</th>\n",
       "      <td>424619</td>\n",
       "      <td>3 à 5 salariés</td>\n",
       "    </tr>\n",
       "    <tr>\n",
       "      <th>4</th>\n",
       "      <td>228113</td>\n",
       "      <td>6 à 9 salariés</td>\n",
       "    </tr>\n",
       "    <tr>\n",
       "      <th>5</th>\n",
       "      <td>179493</td>\n",
       "      <td>10 à 19 salariés</td>\n",
       "    </tr>\n",
       "    <tr>\n",
       "      <th>6</th>\n",
       "      <td>152354</td>\n",
       "      <td>0 salarié au 31/12 N-1</td>\n",
       "    </tr>\n",
       "    <tr>\n",
       "      <th>7</th>\n",
       "      <td>113082</td>\n",
       "      <td>20 à 49 salariés</td>\n",
       "    </tr>\n",
       "    <tr>\n",
       "      <th>8</th>\n",
       "      <td>43745</td>\n",
       "      <td>50 à 99 salariés</td>\n",
       "    </tr>\n",
       "    <tr>\n",
       "      <th>9</th>\n",
       "      <td>18948</td>\n",
       "      <td>100 à 199 salariés</td>\n",
       "    </tr>\n",
       "    <tr>\n",
       "      <th>10</th>\n",
       "      <td>5990</td>\n",
       "      <td>250 à 499 salariés</td>\n",
       "    </tr>\n",
       "    <tr>\n",
       "      <th>11</th>\n",
       "      <td>3315</td>\n",
       "      <td>200 à 249 salariés</td>\n",
       "    </tr>\n",
       "    <tr>\n",
       "      <th>12</th>\n",
       "      <td>2189</td>\n",
       "      <td>500 à 999 salariés</td>\n",
       "    </tr>\n",
       "    <tr>\n",
       "      <th>13</th>\n",
       "      <td>890</td>\n",
       "      <td>1 000 à 1 999 salariés</td>\n",
       "    </tr>\n",
       "    <tr>\n",
       "      <th>14</th>\n",
       "      <td>403</td>\n",
       "      <td>2 000 à 4 999 salariés</td>\n",
       "    </tr>\n",
       "    <tr>\n",
       "      <th>15</th>\n",
       "      <td>59</td>\n",
       "      <td>5 000 à 9 999 salariés</td>\n",
       "    </tr>\n",
       "    <tr>\n",
       "      <th>16</th>\n",
       "      <td>9</td>\n",
       "      <td>10 000 salariés et plus</td>\n",
       "    </tr>\n",
       "  </tbody>\n",
       "</table>\n",
       "</div>"
      ],
      "text/plain": [
       "    trancheEffectifsEtablissement                    categorie\n",
       "0                        10215323                          NaN\n",
       "1                         2712108  Etablissement non employeur\n",
       "2                          772757              1 ou 2 salariés\n",
       "3                          424619               3 à 5 salariés\n",
       "4                          228113               6 à 9 salariés\n",
       "5                          179493             10 à 19 salariés\n",
       "6                          152354       0 salarié au 31/12 N-1\n",
       "7                          113082             20 à 49 salariés\n",
       "8                           43745             50 à 99 salariés\n",
       "9                           18948           100 à 199 salariés\n",
       "10                           5990           250 à 499 salariés\n",
       "11                           3315           200 à 249 salariés\n",
       "12                           2189           500 à 999 salariés\n",
       "13                            890       1 000 à 1 999 salariés\n",
       "14                            403       2 000 à 4 999 salariés\n",
       "15                             59       5 000 à 9 999 salariés\n",
       "16                              9      10 000 salariés et plus"
      ]
     },
     "execution_count": 30,
     "metadata": {},
     "output_type": "execute_result"
    }
   ],
   "source": [
    "ets_tailles"
   ]
  }
 ],
 "metadata": {
  "kernelspec": {
   "display_name": "Python 3 (ipykernel)",
   "language": "python",
   "name": "python3"
  },
  "language_info": {
   "codemirror_mode": {
    "name": "ipython",
    "version": 3
   },
   "file_extension": ".py",
   "mimetype": "text/x-python",
   "name": "python",
   "nbconvert_exporter": "python",
   "pygments_lexer": "ipython3",
   "version": "3.9.13"
  }
 },
 "nbformat": 4,
 "nbformat_minor": 5
}
