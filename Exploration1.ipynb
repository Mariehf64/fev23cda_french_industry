{
 "cells": [
  {
   "cell_type": "code",
   "execution_count": 2,
   "id": "29d0c44d",
   "metadata": {},
   "outputs": [
    {
     "name": "stderr",
     "output_type": "stream",
     "text": [
      "C:\\Users\\frede\\AppData\\Local\\Temp\\ipykernel_33524\\4243023378.py:2: DtypeWarning: Columns (1) have mixed types. Specify dtype option on import or set low_memory=False.\n",
      "  df = pd.read_csv('population.csv')\n"
     ]
    }
   ],
   "source": [
    "#Exploration 'population.csv'\n",
    "import pandas as pd\n",
    "df = pd.read_csv('population.csv')\n",
    "df.info()\n",
    "df.describe()\n",
    "df.head()"
   ]
  },
  {
   "cell_type": "code",
   "execution_count": 7,
   "id": "6572653a",
   "metadata": {},
   "outputs": [
    {
     "data": {
      "text/plain": [
       "0          False\n",
       "1          False\n",
       "2          False\n",
       "3          False\n",
       "4          False\n",
       "           ...  \n",
       "8536579    False\n",
       "8536580    False\n",
       "8536581    False\n",
       "8536582    False\n",
       "8536583    False\n",
       "Length: 8536584, dtype: bool"
      ]
     },
     "execution_count": 7,
     "metadata": {},
     "output_type": "execute_result"
    }
   ],
   "source": [
    "#Visualisation des doublons \n",
    "df.duplicated()\n",
    "#Affichage des entrées contenant des valeurs manquantes\n",
    "df.isna().any(axis = 1)"
   ]
  },
  {
   "cell_type": "code",
   "execution_count": null,
   "id": "0f3cd935",
   "metadata": {},
   "outputs": [],
   "source": []
  },
  {
   "cell_type": "code",
   "execution_count": 14,
   "id": "c917e75d",
   "metadata": {
    "scrolled": true
   },
   "outputs": [
    {
     "name": "stdout",
     "output_type": "stream",
     "text": [
      "<class 'pandas.core.frame.DataFrame'>\n",
      "RangeIndex: 36681 entries, 0 to 36680\n",
      "Data columns (total 14 columns):\n",
      " #   Column    Non-Null Count  Dtype \n",
      "---  ------    --------------  ----- \n",
      " 0   CODGEO    36681 non-null  object\n",
      " 1   LIBGEO    36681 non-null  object\n",
      " 2   REG       36681 non-null  int64 \n",
      " 3   DEP       36681 non-null  object\n",
      " 4   E14TST    36681 non-null  int64 \n",
      " 5   E14TS0ND  36681 non-null  int64 \n",
      " 6   E14TS1    36681 non-null  int64 \n",
      " 7   E14TS6    36681 non-null  int64 \n",
      " 8   E14TS10   36681 non-null  int64 \n",
      " 9   E14TS20   36681 non-null  int64 \n",
      " 10  E14TS50   36681 non-null  int64 \n",
      " 11  E14TS100  36681 non-null  int64 \n",
      " 12  E14TS200  36681 non-null  int64 \n",
      " 13  E14TS500  36681 non-null  int64 \n",
      "dtypes: int64(11), object(3)\n",
      "memory usage: 3.9+ MB\n"
     ]
    }
   ],
   "source": [
    "#Exploration 'base_etablissement_par_tranche_effectif.csv' : \n",
    "#Informations sur le nombre d'entreprises dans chaque ville française classées par taille.\n",
    "df2 = pd.read_csv('base_etablissement_par_tranche_effectif.csv')\n",
    "df2.info()\n",
    "df2.describe()\n",
    "df2.head()"
   ]
  },
  {
   "cell_type": "code",
   "execution_count": 4,
   "id": "f8386cbb",
   "metadata": {},
   "outputs": [
    {
     "ename": "NameError",
     "evalue": "name 'df2' is not defined",
     "output_type": "error",
     "traceback": [
      "\u001b[1;31m---------------------------------------------------------------------------\u001b[0m",
      "\u001b[1;31mNameError\u001b[0m                                 Traceback (most recent call last)",
      "Cell \u001b[1;32mIn[4], line 2\u001b[0m\n\u001b[0;32m      1\u001b[0m \u001b[38;5;66;03m#Visualisation des doublons \u001b[39;00m\n\u001b[1;32m----> 2\u001b[0m \u001b[43mdf2\u001b[49m\u001b[38;5;241m.\u001b[39mduplicated()\n",
      "\u001b[1;31mNameError\u001b[0m: name 'df2' is not defined"
     ]
    }
   ],
   "source": [
    "#Visualisation des doublons \n",
    "df2.duplicated()\n",
    "#Affichage des entrées contenant des valeurs manquantes\n",
    "df2.isna().any(axis = 1)"
   ]
  },
  {
   "cell_type": "code",
   "execution_count": 15,
   "id": "877836e5",
   "metadata": {},
   "outputs": [
    {
     "name": "stdout",
     "output_type": "stream",
     "text": [
      "<class 'pandas.core.frame.DataFrame'>\n",
      "RangeIndex: 36840 entries, 0 to 36839\n",
      "Data columns (total 14 columns):\n",
      " #   Column                  Non-Null Count  Dtype  \n",
      "---  ------                  --------------  -----  \n",
      " 0   EU_circo                36840 non-null  object \n",
      " 1   code_région             36840 non-null  int64  \n",
      " 2   nom_région              36840 non-null  object \n",
      " 3   chef.lieu_région        36840 non-null  object \n",
      " 4   numéro_département      36840 non-null  object \n",
      " 5   nom_département         36840 non-null  object \n",
      " 6   préfecture              36840 non-null  object \n",
      " 7   numéro_circonscription  36840 non-null  int64  \n",
      " 8   nom_commune             36840 non-null  object \n",
      " 9   codes_postaux           36840 non-null  object \n",
      " 10  code_insee              36840 non-null  int64  \n",
      " 11  latitude                33911 non-null  float64\n",
      " 12  longitude               33999 non-null  object \n",
      " 13  éloignement             33878 non-null  float64\n",
      "dtypes: float64(2), int64(3), object(9)\n",
      "memory usage: 3.9+ MB\n"
     ]
    }
   ],
   "source": [
    "#Exploration 'name_geographic_information.csv' :\n",
    "#Données géographiques sur les villes françaises (principalement la latitude et la longitude, \n",
    "#mais aussi les codes et les noms des régions/départements).\n",
    "df3 = pd.read_csv('name_geographic_information.csv')\n",
    "df3.info()\n",
    "df3.describe()\n",
    "df3.head()"
   ]
  },
  {
   "cell_type": "code",
   "execution_count": null,
   "id": "4ba9c361",
   "metadata": {},
   "outputs": [],
   "source": [
    "#Visualisation des doublons \n",
    "df3.duplicated()\n",
    "#Affichage des entrées contenant des valeurs manquantes\n",
    "df3.isna().any(axis = 1)"
   ]
  },
  {
   "cell_type": "code",
   "execution_count": 16,
   "id": "974da26a",
   "metadata": {},
   "outputs": [
    {
     "name": "stdout",
     "output_type": "stream",
     "text": [
      "<class 'pandas.core.frame.DataFrame'>\n",
      "RangeIndex: 5136 entries, 0 to 5135\n",
      "Data columns (total 26 columns):\n",
      " #   Column     Non-Null Count  Dtype  \n",
      "---  ------     --------------  -----  \n",
      " 0   CODGEO     5136 non-null   object \n",
      " 1   LIBGEO     5136 non-null   object \n",
      " 2   SNHM14     5136 non-null   float64\n",
      " 3   SNHMC14    5136 non-null   float64\n",
      " 4   SNHMP14    5136 non-null   float64\n",
      " 5   SNHME14    5136 non-null   float64\n",
      " 6   SNHMO14    5136 non-null   float64\n",
      " 7   SNHMF14    5136 non-null   float64\n",
      " 8   SNHMFC14   5136 non-null   float64\n",
      " 9   SNHMFP14   5136 non-null   float64\n",
      " 10  SNHMFE14   5136 non-null   float64\n",
      " 11  SNHMFO14   5136 non-null   float64\n",
      " 12  SNHMH14    5136 non-null   float64\n",
      " 13  SNHMHC14   5136 non-null   float64\n",
      " 14  SNHMHP14   5136 non-null   float64\n",
      " 15  SNHMHE14   5136 non-null   float64\n",
      " 16  SNHMHO14   5136 non-null   float64\n",
      " 17  SNHM1814   5136 non-null   float64\n",
      " 18  SNHM2614   5136 non-null   float64\n",
      " 19  SNHM5014   5136 non-null   float64\n",
      " 20  SNHMF1814  5136 non-null   float64\n",
      " 21  SNHMF2614  5136 non-null   float64\n",
      " 22  SNHMF5014  5136 non-null   float64\n",
      " 23  SNHMH1814  5136 non-null   float64\n",
      " 24  SNHMH2614  5136 non-null   float64\n",
      " 25  SNHMH5014  5136 non-null   float64\n",
      "dtypes: float64(24), object(2)\n",
      "memory usage: 1.0+ MB\n"
     ]
    }
   ],
   "source": [
    "#Exploration 'net_salary_per_town_categories.csv' : Salaires par villes française par catégories d'emploi, âge et sexe\n",
    "df4 = pd.read_csv('net_salary_per_town_categories.csv')\n",
    "df4.info()\n",
    "df4.describe()\n",
    "df4.head()"
   ]
  },
  {
   "cell_type": "code",
   "execution_count": null,
   "id": "b40d5fbb",
   "metadata": {},
   "outputs": [],
   "source": [
    "#Visualisation des doublons \n",
    "df4.duplicated()\n",
    "#Affichage des entrées contenant des valeurs manquantes\n",
    "df4.isna().any(axis = 1)"
   ]
  }
 ],
 "metadata": {
  "kernelspec": {
   "display_name": "Python 3 (ipykernel)",
   "language": "python",
   "name": "python3"
  },
  "language_info": {
   "codemirror_mode": {
    "name": "ipython",
    "version": 3
   },
   "file_extension": ".py",
   "mimetype": "text/x-python",
   "name": "python",
   "nbconvert_exporter": "python",
   "pygments_lexer": "ipython3",
   "version": "3.10.9"
  }
 },
 "nbformat": 4,
 "nbformat_minor": 5
}
