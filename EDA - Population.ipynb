{
 "cells": [
  {
   "cell_type": "markdown",
   "id": "76b2baf5",
   "metadata": {},
   "source": [
    "# EDA - POPULATION #"
   ]
  },
  {
   "cell_type": "code",
   "execution_count": 2,
   "id": "04869b0f",
   "metadata": {},
   "outputs": [
    {
     "name": "stderr",
     "output_type": "stream",
     "text": [
      "C:\\Users\\vrenouf\\AppData\\Local\\Temp\\ipykernel_14376\\2482441330.py:2: DtypeWarning: Columns (1) have mixed types. Specify dtype option on import or set low_memory=False.\n",
      "  pop = pd.read_csv('population.csv')\n"
     ]
    }
   ],
   "source": [
    "import pandas as pd\n",
    "pop = pd.read_csv('population.csv')"
   ]
  },
  {
   "cell_type": "code",
   "execution_count": 3,
   "id": "1f774f84",
   "metadata": {},
   "outputs": [
    {
     "data": {
      "text/html": [
       "<div>\n",
       "<style scoped>\n",
       "    .dataframe tbody tr th:only-of-type {\n",
       "        vertical-align: middle;\n",
       "    }\n",
       "\n",
       "    .dataframe tbody tr th {\n",
       "        vertical-align: top;\n",
       "    }\n",
       "\n",
       "    .dataframe thead th {\n",
       "        text-align: right;\n",
       "    }\n",
       "</style>\n",
       "<table border=\"1\" class=\"dataframe\">\n",
       "  <thead>\n",
       "    <tr style=\"text-align: right;\">\n",
       "      <th></th>\n",
       "      <th>NIVGEO</th>\n",
       "      <th>CODGEO</th>\n",
       "      <th>LIBGEO</th>\n",
       "      <th>MOCO</th>\n",
       "      <th>AGEQ80_17</th>\n",
       "      <th>SEXE</th>\n",
       "      <th>NB</th>\n",
       "    </tr>\n",
       "  </thead>\n",
       "  <tbody>\n",
       "    <tr>\n",
       "      <th>0</th>\n",
       "      <td>COM</td>\n",
       "      <td>1001</td>\n",
       "      <td>L'Abergement-Clémenciat</td>\n",
       "      <td>11</td>\n",
       "      <td>0</td>\n",
       "      <td>1</td>\n",
       "      <td>15</td>\n",
       "    </tr>\n",
       "    <tr>\n",
       "      <th>1</th>\n",
       "      <td>COM</td>\n",
       "      <td>1001</td>\n",
       "      <td>L'Abergement-Clémenciat</td>\n",
       "      <td>11</td>\n",
       "      <td>0</td>\n",
       "      <td>2</td>\n",
       "      <td>15</td>\n",
       "    </tr>\n",
       "    <tr>\n",
       "      <th>2</th>\n",
       "      <td>COM</td>\n",
       "      <td>1001</td>\n",
       "      <td>L'Abergement-Clémenciat</td>\n",
       "      <td>11</td>\n",
       "      <td>5</td>\n",
       "      <td>1</td>\n",
       "      <td>20</td>\n",
       "    </tr>\n",
       "    <tr>\n",
       "      <th>3</th>\n",
       "      <td>COM</td>\n",
       "      <td>1001</td>\n",
       "      <td>L'Abergement-Clémenciat</td>\n",
       "      <td>11</td>\n",
       "      <td>5</td>\n",
       "      <td>2</td>\n",
       "      <td>20</td>\n",
       "    </tr>\n",
       "    <tr>\n",
       "      <th>4</th>\n",
       "      <td>COM</td>\n",
       "      <td>1001</td>\n",
       "      <td>L'Abergement-Clémenciat</td>\n",
       "      <td>11</td>\n",
       "      <td>10</td>\n",
       "      <td>1</td>\n",
       "      <td>20</td>\n",
       "    </tr>\n",
       "  </tbody>\n",
       "</table>\n",
       "</div>"
      ],
      "text/plain": [
       "  NIVGEO CODGEO                   LIBGEO  MOCO  AGEQ80_17  SEXE  NB\n",
       "0    COM   1001  L'Abergement-Clémenciat    11          0     1  15\n",
       "1    COM   1001  L'Abergement-Clémenciat    11          0     2  15\n",
       "2    COM   1001  L'Abergement-Clémenciat    11          5     1  20\n",
       "3    COM   1001  L'Abergement-Clémenciat    11          5     2  20\n",
       "4    COM   1001  L'Abergement-Clémenciat    11         10     1  20"
      ]
     },
     "execution_count": 3,
     "metadata": {},
     "output_type": "execute_result"
    }
   ],
   "source": [
    "pop.head()"
   ]
  },
  {
   "cell_type": "markdown",
   "id": "b205a6be",
   "metadata": {},
   "source": [
    "### Combien des lignes ? ###"
   ]
  },
  {
   "cell_type": "code",
   "execution_count": 19,
   "id": "6e244cb9",
   "metadata": {},
   "outputs": [
    {
     "data": {
      "text/plain": [
       "8536584"
      ]
     },
     "execution_count": 19,
     "metadata": {},
     "output_type": "execute_result"
    }
   ],
   "source": [
    "len(pop)"
   ]
  },
  {
   "cell_type": "markdown",
   "id": "e9c7fe98",
   "metadata": {},
   "source": [
    "### Nombre de valeurs uniques par variable ###"
   ]
  },
  {
   "cell_type": "code",
   "execution_count": 4,
   "id": "7d6ba341",
   "metadata": {},
   "outputs": [
    {
     "data": {
      "text/plain": [
       "COM    8536584\n",
       "Name: NIVGEO, dtype: int64"
      ]
     },
     "execution_count": 4,
     "metadata": {},
     "output_type": "execute_result"
    }
   ],
   "source": [
    "pop.NIVGEO.value_counts(dropna=False)"
   ]
  },
  {
   "cell_type": "code",
   "execution_count": 5,
   "id": "03b3b34c",
   "metadata": {},
   "outputs": [
    {
     "data": {
      "text/plain": [
       "1001     238\n",
       "61117    238\n",
       "61108    238\n",
       "61110    238\n",
       "61111    238\n",
       "        ... \n",
       "97424    238\n",
       "30320    196\n",
       "28267    174\n",
       "28267     64\n",
       "30320     42\n",
       "Name: CODGEO, Length: 35870, dtype: int64"
      ]
     },
     "execution_count": 5,
     "metadata": {},
     "output_type": "execute_result"
    }
   ],
   "source": [
    "pop.CODGEO.value_counts(dropna=False)"
   ]
  },
  {
   "cell_type": "code",
   "execution_count": 6,
   "id": "ec79ebba",
   "metadata": {},
   "outputs": [
    {
     "data": {
      "text/plain": [
       "Sainte-Colombe              3094\n",
       "Sainte-Marie                2618\n",
       "Saint-Sauveur               2618\n",
       "Le Pin                      2380\n",
       "Saint-Aubin                 2380\n",
       "                            ... \n",
       "La Salvetat-Saint-Gilles     238\n",
       "Salles-sur-Garonne           238\n",
       "Salles-et-Pratviel           238\n",
       "Salies-du-Salat              238\n",
       "Cilaos                       238\n",
       "Name: LIBGEO, Length: 33452, dtype: int64"
      ]
     },
     "execution_count": 6,
     "metadata": {},
     "output_type": "execute_result"
    }
   ],
   "source": [
    "pop.LIBGEO.value_counts(dropna=False)"
   ]
  },
  {
   "cell_type": "code",
   "execution_count": 7,
   "id": "2482b13c",
   "metadata": {},
   "outputs": [
    {
     "data": {
      "text/plain": [
       "NIVGEO       object\n",
       "CODGEO       object\n",
       "LIBGEO       object\n",
       "MOCO          int64\n",
       "AGEQ80_17     int64\n",
       "SEXE          int64\n",
       "NB            int64\n",
       "dtype: object"
      ]
     },
     "execution_count": 7,
     "metadata": {},
     "output_type": "execute_result"
    }
   ],
   "source": [
    "pop.dtypes"
   ]
  },
  {
   "cell_type": "code",
   "execution_count": 8,
   "id": "8ff4a41b",
   "metadata": {},
   "outputs": [
    {
     "data": {
      "text/plain": [
       "NIVGEO       0\n",
       "CODGEO       0\n",
       "LIBGEO       0\n",
       "MOCO         0\n",
       "AGEQ80_17    0\n",
       "SEXE         0\n",
       "NB           0\n",
       "dtype: int64"
      ]
     },
     "execution_count": 8,
     "metadata": {},
     "output_type": "execute_result"
    }
   ],
   "source": [
    "pop.isna().sum()"
   ]
  },
  {
   "cell_type": "code",
   "execution_count": 9,
   "id": "b22f2411",
   "metadata": {},
   "outputs": [
    {
     "data": {
      "text/plain": [
       "COM    8536584\n",
       "Name: NIVGEO, dtype: int64"
      ]
     },
     "execution_count": 9,
     "metadata": {},
     "output_type": "execute_result"
    }
   ],
   "source": [
    "pop.NIVGEO.value_counts(dropna=False)"
   ]
  },
  {
   "cell_type": "code",
   "execution_count": 10,
   "id": "2b43917f",
   "metadata": {},
   "outputs": [
    {
     "data": {
      "text/plain": [
       "1001     238\n",
       "61117    238\n",
       "61108    238\n",
       "61110    238\n",
       "61111    238\n",
       "        ... \n",
       "97424    238\n",
       "30320    196\n",
       "28267    174\n",
       "28267     64\n",
       "30320     42\n",
       "Name: CODGEO, Length: 35870, dtype: int64"
      ]
     },
     "execution_count": 10,
     "metadata": {},
     "output_type": "execute_result"
    }
   ],
   "source": [
    "pop.CODGEO.value_counts(dropna=False)"
   ]
  },
  {
   "cell_type": "code",
   "execution_count": 11,
   "id": "82b9174a",
   "metadata": {},
   "outputs": [
    {
     "data": {
      "text/plain": [
       "Sainte-Colombe              3094\n",
       "Sainte-Marie                2618\n",
       "Saint-Sauveur               2618\n",
       "Le Pin                      2380\n",
       "Saint-Aubin                 2380\n",
       "                            ... \n",
       "La Salvetat-Saint-Gilles     238\n",
       "Salles-sur-Garonne           238\n",
       "Salles-et-Pratviel           238\n",
       "Salies-du-Salat              238\n",
       "Cilaos                       238\n",
       "Name: LIBGEO, Length: 33452, dtype: int64"
      ]
     },
     "execution_count": 11,
     "metadata": {},
     "output_type": "execute_result"
    }
   ],
   "source": [
    "pop.LIBGEO.value_counts(dropna=False)"
   ]
  },
  {
   "cell_type": "code",
   "execution_count": 12,
   "id": "319a024e",
   "metadata": {},
   "outputs": [
    {
     "data": {
      "text/plain": [
       "11    1219512\n",
       "12    1219512\n",
       "21    1219512\n",
       "22    1219512\n",
       "23    1219512\n",
       "31    1219512\n",
       "32    1219512\n",
       "Name: MOCO, dtype: int64"
      ]
     },
     "execution_count": 12,
     "metadata": {},
     "output_type": "execute_result"
    }
   ],
   "source": [
    "pop.MOCO.value_counts(dropna=False)"
   ]
  },
  {
   "cell_type": "code",
   "execution_count": 15,
   "id": "e88c8d8a",
   "metadata": {},
   "outputs": [
    {
     "data": {
      "text/plain": [
       "7"
      ]
     },
     "execution_count": 15,
     "metadata": {},
     "output_type": "execute_result"
    }
   ],
   "source": [
    "pop.MOCO.nunique()"
   ]
  },
  {
   "cell_type": "code",
   "execution_count": 13,
   "id": "9f53555e",
   "metadata": {},
   "outputs": [
    {
     "data": {
      "text/plain": [
       "0     502152\n",
       "45    502152\n",
       "75    502152\n",
       "70    502152\n",
       "65    502152\n",
       "60    502152\n",
       "55    502152\n",
       "50    502152\n",
       "40    502152\n",
       "5     502152\n",
       "35    502152\n",
       "30    502152\n",
       "25    502152\n",
       "20    502152\n",
       "15    502152\n",
       "10    502152\n",
       "80    502152\n",
       "Name: AGEQ80_17, dtype: int64"
      ]
     },
     "execution_count": 13,
     "metadata": {},
     "output_type": "execute_result"
    }
   ],
   "source": [
    "pop.AGEQ80_17.value_counts(dropna=False)"
   ]
  },
  {
   "cell_type": "code",
   "execution_count": 16,
   "id": "cfb1c532",
   "metadata": {},
   "outputs": [
    {
     "data": {
      "text/plain": [
       "17"
      ]
     },
     "execution_count": 16,
     "metadata": {},
     "output_type": "execute_result"
    }
   ],
   "source": [
    "pop.AGEQ80_17.nunique()"
   ]
  },
  {
   "cell_type": "code",
   "execution_count": 14,
   "id": "85ccccf6",
   "metadata": {},
   "outputs": [
    {
     "data": {
      "text/plain": [
       "1    4268292\n",
       "2    4268292\n",
       "Name: SEXE, dtype: int64"
      ]
     },
     "execution_count": 14,
     "metadata": {},
     "output_type": "execute_result"
    }
   ],
   "source": [
    "pop.SEXE.value_counts(dropna=False)"
   ]
  },
  {
   "cell_type": "markdown",
   "id": "9d6918b6",
   "metadata": {},
   "source": [
    "### min et max pour NB ###"
   ]
  },
  {
   "cell_type": "code",
   "execution_count": 17,
   "id": "1440e9f2",
   "metadata": {},
   "outputs": [
    {
     "data": {
      "text/plain": [
       "0"
      ]
     },
     "execution_count": 17,
     "metadata": {},
     "output_type": "execute_result"
    }
   ],
   "source": [
    "pop.NB.min()"
   ]
  },
  {
   "cell_type": "code",
   "execution_count": 18,
   "id": "51c94a7c",
   "metadata": {},
   "outputs": [
    {
     "data": {
      "text/plain": [
       "48873"
      ]
     },
     "execution_count": 18,
     "metadata": {},
     "output_type": "execute_result"
    }
   ],
   "source": [
    "pop.NB.max()"
   ]
  }
 ],
 "metadata": {
  "kernelspec": {
   "display_name": "Python 3 (ipykernel)",
   "language": "python",
   "name": "python3"
  },
  "language_info": {
   "codemirror_mode": {
    "name": "ipython",
    "version": 3
   },
   "file_extension": ".py",
   "mimetype": "text/x-python",
   "name": "python",
   "nbconvert_exporter": "python",
   "pygments_lexer": "ipython3",
   "version": "3.9.13"
  }
 },
 "nbformat": 4,
 "nbformat_minor": 5
}
