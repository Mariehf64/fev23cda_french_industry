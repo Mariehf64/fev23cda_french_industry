{
 "cells": [
  {
   "cell_type": "markdown",
   "id": "dae236bd",
   "metadata": {},
   "source": [
    "# EDA - POPULATION #"
   ]
  },
  {
   "cell_type": "code",
   "execution_count": 2,
   "id": "6b28020e",
   "metadata": {},
   "outputs": [
    {
     "name": "stderr",
     "output_type": "stream",
     "text": [
      "C:\\Users\\vrenouf\\AppData\\Local\\Temp\\ipykernel_14376\\2482441330.py:2: DtypeWarning: Columns (1) have mixed types. Specify dtype option on import or set low_memory=False.\n",
      "  pop = pd.read_csv('population.csv')\n"
     ]
    }
   ],
   "source": [
    "import pandas as pd\n",
    "pop = pd.read_csv('population.csv')"
   ]
  },
  {
   "cell_type": "code",
   "execution_count": 3,
   "id": "d421c95b",
   "metadata": {},
   "outputs": [
    {
     "data": {
      "text/html": [
       "<div>\n",
       "<style scoped>\n",
       "    .dataframe tbody tr th:only-of-type {\n",
       "        vertical-align: middle;\n",
       "    }\n",
       "\n",
       "    .dataframe tbody tr th {\n",
       "        vertical-align: top;\n",
       "    }\n",
       "\n",
       "    .dataframe thead th {\n",
       "        text-align: right;\n",
       "    }\n",
       "</style>\n",
       "<table border=\"1\" class=\"dataframe\">\n",
       "  <thead>\n",
       "    <tr style=\"text-align: right;\">\n",
       "      <th></th>\n",
       "      <th>NIVGEO</th>\n",
       "      <th>CODGEO</th>\n",
       "      <th>LIBGEO</th>\n",
       "      <th>MOCO</th>\n",
       "      <th>AGEQ80_17</th>\n",
       "      <th>SEXE</th>\n",
       "      <th>NB</th>\n",
       "    </tr>\n",
       "  </thead>\n",
       "  <tbody>\n",
       "    <tr>\n",
       "      <th>0</th>\n",
       "      <td>COM</td>\n",
       "      <td>1001</td>\n",
       "      <td>L'Abergement-Clémenciat</td>\n",
       "      <td>11</td>\n",
       "      <td>0</td>\n",
       "      <td>1</td>\n",
       "      <td>15</td>\n",
       "    </tr>\n",
       "    <tr>\n",
       "      <th>1</th>\n",
       "      <td>COM</td>\n",
       "      <td>1001</td>\n",
       "      <td>L'Abergement-Clémenciat</td>\n",
       "      <td>11</td>\n",
       "      <td>0</td>\n",
       "      <td>2</td>\n",
       "      <td>15</td>\n",
       "    </tr>\n",
       "    <tr>\n",
       "      <th>2</th>\n",
       "      <td>COM</td>\n",
       "      <td>1001</td>\n",
       "      <td>L'Abergement-Clémenciat</td>\n",
       "      <td>11</td>\n",
       "      <td>5</td>\n",
       "      <td>1</td>\n",
       "      <td>20</td>\n",
       "    </tr>\n",
       "    <tr>\n",
       "      <th>3</th>\n",
       "      <td>COM</td>\n",
       "      <td>1001</td>\n",
       "      <td>L'Abergement-Clémenciat</td>\n",
       "      <td>11</td>\n",
       "      <td>5</td>\n",
       "      <td>2</td>\n",
       "      <td>20</td>\n",
       "    </tr>\n",
       "    <tr>\n",
       "      <th>4</th>\n",
       "      <td>COM</td>\n",
       "      <td>1001</td>\n",
       "      <td>L'Abergement-Clémenciat</td>\n",
       "      <td>11</td>\n",
       "      <td>10</td>\n",
       "      <td>1</td>\n",
       "      <td>20</td>\n",
       "    </tr>\n",
       "  </tbody>\n",
       "</table>\n",
       "</div>"
      ],
      "text/plain": [
       "  NIVGEO CODGEO                   LIBGEO  MOCO  AGEQ80_17  SEXE  NB\n",
       "0    COM   1001  L'Abergement-Clémenciat    11          0     1  15\n",
       "1    COM   1001  L'Abergement-Clémenciat    11          0     2  15\n",
       "2    COM   1001  L'Abergement-Clémenciat    11          5     1  20\n",
       "3    COM   1001  L'Abergement-Clémenciat    11          5     2  20\n",
       "4    COM   1001  L'Abergement-Clémenciat    11         10     1  20"
      ]
     },
     "execution_count": 3,
     "metadata": {},
     "output_type": "execute_result"
    }
   ],
   "source": [
    "pop.head()"
   ]
  },
  {
   "cell_type": "code",
   "execution_count": 4,
   "id": "efbb048f",
   "metadata": {},
   "outputs": [
    {
     "data": {
      "text/plain": [
       "COM    8536584\n",
       "Name: NIVGEO, dtype: int64"
      ]
     },
     "execution_count": 4,
     "metadata": {},
     "output_type": "execute_result"
    }
   ],
   "source": [
    "pop.NIVGEO.value_counts(dropna=False)"
   ]
  },
  {
   "cell_type": "code",
   "execution_count": 5,
   "id": "9c8c9ab4",
   "metadata": {},
   "outputs": [
    {
     "data": {
      "text/plain": [
       "1001     238\n",
       "61117    238\n",
       "61108    238\n",
       "61110    238\n",
       "61111    238\n",
       "        ... \n",
       "97424    238\n",
       "30320    196\n",
       "28267    174\n",
       "28267     64\n",
       "30320     42\n",
       "Name: CODGEO, Length: 35870, dtype: int64"
      ]
     },
     "execution_count": 5,
     "metadata": {},
     "output_type": "execute_result"
    }
   ],
   "source": [
    "pop.CODGEO.value_counts(dropna=False)"
   ]
  },
  {
   "cell_type": "code",
   "execution_count": 6,
   "id": "a90c395f",
   "metadata": {},
   "outputs": [
    {
     "data": {
      "text/plain": [
       "Sainte-Colombe              3094\n",
       "Sainte-Marie                2618\n",
       "Saint-Sauveur               2618\n",
       "Le Pin                      2380\n",
       "Saint-Aubin                 2380\n",
       "                            ... \n",
       "La Salvetat-Saint-Gilles     238\n",
       "Salles-sur-Garonne           238\n",
       "Salles-et-Pratviel           238\n",
       "Salies-du-Salat              238\n",
       "Cilaos                       238\n",
       "Name: LIBGEO, Length: 33452, dtype: int64"
      ]
     },
     "execution_count": 6,
     "metadata": {},
     "output_type": "execute_result"
    }
   ],
   "source": [
    "pop.LIBGEO.value_counts(dropna=False)"
   ]
  }
 ],
 "metadata": {
  "kernelspec": {
   "display_name": "Python 3 (ipykernel)",
   "language": "python",
   "name": "python3"
  },
  "language_info": {
   "codemirror_mode": {
    "name": "ipython",
    "version": 3
   },
   "file_extension": ".py",
   "mimetype": "text/x-python",
   "name": "python",
   "nbconvert_exporter": "python",
   "pygments_lexer": "ipython3",
   "version": "3.9.13"
  }
 },
 "nbformat": 4,
 "nbformat_minor": 5
}
