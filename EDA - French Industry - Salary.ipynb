{
 "cells": [
  {
   "cell_type": "markdown",
   "id": "bebbb940",
   "metadata": {},
   "source": [
    "# **Exploratory Data Analysis (EDA) - Salaires** #"
   ]
  },
  {
   "cell_type": "code",
   "execution_count": 1,
   "id": "e7c9587a",
   "metadata": {},
   "outputs": [],
   "source": [
    "import pandas as pd\n",
    "import numpy as np"
   ]
  },
  {
   "cell_type": "markdown",
   "id": "5aee0e31",
   "metadata": {},
   "source": [
    "## LEGENDE DES COLONNES ##"
   ]
  },
  {
   "cell_type": "markdown",
   "id": "038dd178",
   "metadata": {},
   "source": [
    "0. CODGEO : ID géographique de la villen\n",
    "1. LIBGEO : nom de la ville\n",
    "1. SNHM14 : salaire net moyen\n",
    "1. SNHMC14 : salaire net moyen par heure pour les cadres\n",
    "1. SNHMP14 : salaire net moyen par heure pour un cadre moyen\n",
    "1. SNHME14 : salaire net moyen par heure pour l'employé\n",
    "1. SNHMO14 :  salaire net moyen par heure pour le travailleur\n",
    "1. SNHMF14 : salaire net moyen pour les femmes\n",
    "1. SNHMFC14 : salaire net moyen par heure pour les cadres féminins\n",
    "1. SNHMFP14 : salaire net moyen par heure pour les cadres moyens féminins\n",
    "1. SNHMFE14 : salaire net moyen par heure pour une employée \n",
    "1. SNHMFO14 : salaire net moyen par heure pour une travailleuse \n",
    "1. SNHMH14 : salaire net moyen pour un homme\n",
    "1. SNHMHC14 : salaire net moyen par heure pour un cadre masculin\n",
    "1. SNHMHP14 : salaire net moyen par heure pour les cadres moyens masculins\n",
    "1. SNHMHE14 : salaire net moyen par heure pour un employé masculin\n",
    "1. SNHMHO14 : salaire net moyen par heure pour un travailleur masculin\n",
    "1. SNHM1814 : salaire net moyen par heure pour les 18-25 ans\n",
    "1. SNHM2614 : salaire net moyen par heure pour les 26-50 ans\n",
    "1. SNHM5014 : salaire net moyen par heure pour les >50 ans\n",
    "1. SNHMF1814 : salaire net moyen par heure pour les femmes âgées de 18 à 25 ans\n",
    "1. SNHMF2614 : salaire net moyen par heure pour les femmes âgées de 26 à 50 ans\n",
    "1. SNHMF5014 : salaire net moyen par heure pour les femmes de plus de 50 ans\n",
    "1. SNHMH1814 : salaire net moyen par heure pour les hommes âgés de 18 à 25 ans\n",
    "1. SNHMH2614 : salaire net moyen par heure pour les hommes âgés de 26 à 50 ans\n",
    "1. SNHMH5014 : salaire net moyen par heure pour les hommes de plus de 50 ans"
   ]
  },
  {
   "cell_type": "markdown",
   "id": "9511b554",
   "metadata": {},
   "source": [
    "### Création du dataframe salary ###"
   ]
  },
  {
   "cell_type": "code",
   "execution_count": 2,
   "id": "ed1541b3",
   "metadata": {},
   "outputs": [],
   "source": [
    "#Pour que le dataframe ne soit pas tronqué au niveau des colonnes\n",
    "pd.set_option('display.max_columns', None)"
   ]
  },
  {
   "cell_type": "code",
   "execution_count": 3,
   "id": "44e8e44b",
   "metadata": {
    "scrolled": true
   },
   "outputs": [
    {
     "data": {
      "text/html": [
       "<div>\n",
       "<style scoped>\n",
       "    .dataframe tbody tr th:only-of-type {\n",
       "        vertical-align: middle;\n",
       "    }\n",
       "\n",
       "    .dataframe tbody tr th {\n",
       "        vertical-align: top;\n",
       "    }\n",
       "\n",
       "    .dataframe thead th {\n",
       "        text-align: right;\n",
       "    }\n",
       "</style>\n",
       "<table border=\"1\" class=\"dataframe\">\n",
       "  <thead>\n",
       "    <tr style=\"text-align: right;\">\n",
       "      <th></th>\n",
       "      <th>CODGEO</th>\n",
       "      <th>LIBGEO</th>\n",
       "      <th>SNHM14</th>\n",
       "      <th>SNHMC14</th>\n",
       "      <th>SNHMP14</th>\n",
       "      <th>SNHME14</th>\n",
       "      <th>SNHMO14</th>\n",
       "      <th>SNHMF14</th>\n",
       "      <th>SNHMFC14</th>\n",
       "      <th>SNHMFP14</th>\n",
       "      <th>SNHMFE14</th>\n",
       "      <th>SNHMFO14</th>\n",
       "      <th>SNHMH14</th>\n",
       "      <th>SNHMHC14</th>\n",
       "      <th>SNHMHP14</th>\n",
       "      <th>SNHMHE14</th>\n",
       "      <th>SNHMHO14</th>\n",
       "      <th>SNHM1814</th>\n",
       "      <th>SNHM2614</th>\n",
       "      <th>SNHM5014</th>\n",
       "      <th>SNHMF1814</th>\n",
       "      <th>SNHMF2614</th>\n",
       "      <th>SNHMF5014</th>\n",
       "      <th>SNHMH1814</th>\n",
       "      <th>SNHMH2614</th>\n",
       "      <th>SNHMH5014</th>\n",
       "    </tr>\n",
       "  </thead>\n",
       "  <tbody>\n",
       "    <tr>\n",
       "      <th>0</th>\n",
       "      <td>01004</td>\n",
       "      <td>Ambérieu-en-Bugey</td>\n",
       "      <td>13.7</td>\n",
       "      <td>24.2</td>\n",
       "      <td>15.5</td>\n",
       "      <td>10.3</td>\n",
       "      <td>11.2</td>\n",
       "      <td>11.6</td>\n",
       "      <td>19.1</td>\n",
       "      <td>13.2</td>\n",
       "      <td>10.1</td>\n",
       "      <td>9.6</td>\n",
       "      <td>15.0</td>\n",
       "      <td>26.4</td>\n",
       "      <td>16.7</td>\n",
       "      <td>11.0</td>\n",
       "      <td>11.6</td>\n",
       "      <td>10.5</td>\n",
       "      <td>13.7</td>\n",
       "      <td>16.1</td>\n",
       "      <td>9.7</td>\n",
       "      <td>11.8</td>\n",
       "      <td>12.5</td>\n",
       "      <td>11.0</td>\n",
       "      <td>14.9</td>\n",
       "      <td>18.6</td>\n",
       "    </tr>\n",
       "    <tr>\n",
       "      <th>1</th>\n",
       "      <td>01007</td>\n",
       "      <td>Ambronay</td>\n",
       "      <td>13.5</td>\n",
       "      <td>22.1</td>\n",
       "      <td>14.7</td>\n",
       "      <td>10.7</td>\n",
       "      <td>11.4</td>\n",
       "      <td>11.9</td>\n",
       "      <td>19.0</td>\n",
       "      <td>13.3</td>\n",
       "      <td>10.6</td>\n",
       "      <td>10.0</td>\n",
       "      <td>14.7</td>\n",
       "      <td>23.3</td>\n",
       "      <td>15.8</td>\n",
       "      <td>11.3</td>\n",
       "      <td>11.7</td>\n",
       "      <td>9.8</td>\n",
       "      <td>13.8</td>\n",
       "      <td>14.6</td>\n",
       "      <td>9.2</td>\n",
       "      <td>12.2</td>\n",
       "      <td>12.5</td>\n",
       "      <td>10.2</td>\n",
       "      <td>14.9</td>\n",
       "      <td>16.4</td>\n",
       "    </tr>\n",
       "    <tr>\n",
       "      <th>2</th>\n",
       "      <td>01014</td>\n",
       "      <td>Arbent</td>\n",
       "      <td>13.5</td>\n",
       "      <td>27.6</td>\n",
       "      <td>15.6</td>\n",
       "      <td>11.1</td>\n",
       "      <td>11.1</td>\n",
       "      <td>10.9</td>\n",
       "      <td>19.5</td>\n",
       "      <td>11.7</td>\n",
       "      <td>10.8</td>\n",
       "      <td>9.5</td>\n",
       "      <td>15.3</td>\n",
       "      <td>30.2</td>\n",
       "      <td>17.2</td>\n",
       "      <td>12.4</td>\n",
       "      <td>11.8</td>\n",
       "      <td>9.3</td>\n",
       "      <td>13.3</td>\n",
       "      <td>16.0</td>\n",
       "      <td>8.9</td>\n",
       "      <td>10.6</td>\n",
       "      <td>12.5</td>\n",
       "      <td>9.6</td>\n",
       "      <td>15.1</td>\n",
       "      <td>18.6</td>\n",
       "    </tr>\n",
       "    <tr>\n",
       "      <th>3</th>\n",
       "      <td>01024</td>\n",
       "      <td>Attignat</td>\n",
       "      <td>12.9</td>\n",
       "      <td>21.8</td>\n",
       "      <td>14.1</td>\n",
       "      <td>11.0</td>\n",
       "      <td>11.3</td>\n",
       "      <td>11.4</td>\n",
       "      <td>19.0</td>\n",
       "      <td>13.0</td>\n",
       "      <td>10.3</td>\n",
       "      <td>9.9</td>\n",
       "      <td>13.8</td>\n",
       "      <td>23.0</td>\n",
       "      <td>14.7</td>\n",
       "      <td>13.2</td>\n",
       "      <td>11.6</td>\n",
       "      <td>9.6</td>\n",
       "      <td>12.9</td>\n",
       "      <td>14.2</td>\n",
       "      <td>9.3</td>\n",
       "      <td>11.4</td>\n",
       "      <td>12.2</td>\n",
       "      <td>9.7</td>\n",
       "      <td>13.8</td>\n",
       "      <td>15.9</td>\n",
       "    </tr>\n",
       "    <tr>\n",
       "      <th>4</th>\n",
       "      <td>01025</td>\n",
       "      <td>Bâgé-la-Ville</td>\n",
       "      <td>13.0</td>\n",
       "      <td>22.8</td>\n",
       "      <td>14.1</td>\n",
       "      <td>10.5</td>\n",
       "      <td>11.1</td>\n",
       "      <td>11.6</td>\n",
       "      <td>19.4</td>\n",
       "      <td>13.6</td>\n",
       "      <td>10.2</td>\n",
       "      <td>9.8</td>\n",
       "      <td>13.8</td>\n",
       "      <td>24.1</td>\n",
       "      <td>14.4</td>\n",
       "      <td>11.7</td>\n",
       "      <td>11.4</td>\n",
       "      <td>9.4</td>\n",
       "      <td>12.8</td>\n",
       "      <td>15.2</td>\n",
       "      <td>9.0</td>\n",
       "      <td>11.8</td>\n",
       "      <td>12.3</td>\n",
       "      <td>9.7</td>\n",
       "      <td>13.4</td>\n",
       "      <td>16.9</td>\n",
       "    </tr>\n",
       "  </tbody>\n",
       "</table>\n",
       "</div>"
      ],
      "text/plain": [
       "  CODGEO             LIBGEO  SNHM14  SNHMC14  SNHMP14  SNHME14  SNHMO14  \\\n",
       "0  01004  Ambérieu-en-Bugey    13.7     24.2     15.5     10.3     11.2   \n",
       "1  01007           Ambronay    13.5     22.1     14.7     10.7     11.4   \n",
       "2  01014             Arbent    13.5     27.6     15.6     11.1     11.1   \n",
       "3  01024           Attignat    12.9     21.8     14.1     11.0     11.3   \n",
       "4  01025      Bâgé-la-Ville    13.0     22.8     14.1     10.5     11.1   \n",
       "\n",
       "   SNHMF14  SNHMFC14  SNHMFP14  SNHMFE14  SNHMFO14  SNHMH14  SNHMHC14  \\\n",
       "0     11.6      19.1      13.2      10.1       9.6     15.0      26.4   \n",
       "1     11.9      19.0      13.3      10.6      10.0     14.7      23.3   \n",
       "2     10.9      19.5      11.7      10.8       9.5     15.3      30.2   \n",
       "3     11.4      19.0      13.0      10.3       9.9     13.8      23.0   \n",
       "4     11.6      19.4      13.6      10.2       9.8     13.8      24.1   \n",
       "\n",
       "   SNHMHP14  SNHMHE14  SNHMHO14  SNHM1814  SNHM2614  SNHM5014  SNHMF1814  \\\n",
       "0      16.7      11.0      11.6      10.5      13.7      16.1        9.7   \n",
       "1      15.8      11.3      11.7       9.8      13.8      14.6        9.2   \n",
       "2      17.2      12.4      11.8       9.3      13.3      16.0        8.9   \n",
       "3      14.7      13.2      11.6       9.6      12.9      14.2        9.3   \n",
       "4      14.4      11.7      11.4       9.4      12.8      15.2        9.0   \n",
       "\n",
       "   SNHMF2614  SNHMF5014  SNHMH1814  SNHMH2614  SNHMH5014  \n",
       "0       11.8       12.5       11.0       14.9       18.6  \n",
       "1       12.2       12.5       10.2       14.9       16.4  \n",
       "2       10.6       12.5        9.6       15.1       18.6  \n",
       "3       11.4       12.2        9.7       13.8       15.9  \n",
       "4       11.8       12.3        9.7       13.4       16.9  "
      ]
     },
     "execution_count": 3,
     "metadata": {},
     "output_type": "execute_result"
    }
   ],
   "source": [
    "salary = pd.read_csv(\"./data/net_salary_per_town_categories.csv\")\n",
    "salary.head()"
   ]
  },
  {
   "cell_type": "markdown",
   "id": "fb2e15fe",
   "metadata": {},
   "source": [
    "### Combien de lignes ? ### "
   ]
  },
  {
   "cell_type": "code",
   "execution_count": 4,
   "id": "6e97f00d",
   "metadata": {},
   "outputs": [
    {
     "name": "stdout",
     "output_type": "stream",
     "text": [
      "Nombre de lignes : 5136\n"
     ]
    }
   ],
   "source": [
    "#Combien de lignes?\n",
    "print('Nombre de lignes : {}'.format(len(salary)))"
   ]
  },
  {
   "cell_type": "markdown",
   "id": "fb9494ef",
   "metadata": {},
   "source": [
    "### Des doublons ? ###"
   ]
  },
  {
   "cell_type": "code",
   "execution_count": 5,
   "id": "88a354c9",
   "metadata": {},
   "outputs": [
    {
     "data": {
      "text/plain": [
       "False    5136\n",
       "dtype: int64"
      ]
     },
     "execution_count": 5,
     "metadata": {},
     "output_type": "execute_result"
    }
   ],
   "source": [
    "#Doublons?\n",
    "salary.duplicated().value_counts()"
   ]
  },
  {
   "cell_type": "markdown",
   "id": "3745e365",
   "metadata": {},
   "source": [
    "### Création d'un dataframe salary_numbers pour exploration des valeurs numériques ###"
   ]
  },
  {
   "cell_type": "code",
   "execution_count": 6,
   "id": "b3ed4b1c",
   "metadata": {},
   "outputs": [
    {
     "data": {
      "text/html": [
       "<div>\n",
       "<style scoped>\n",
       "    .dataframe tbody tr th:only-of-type {\n",
       "        vertical-align: middle;\n",
       "    }\n",
       "\n",
       "    .dataframe tbody tr th {\n",
       "        vertical-align: top;\n",
       "    }\n",
       "\n",
       "    .dataframe thead th {\n",
       "        text-align: right;\n",
       "    }\n",
       "</style>\n",
       "<table border=\"1\" class=\"dataframe\">\n",
       "  <thead>\n",
       "    <tr style=\"text-align: right;\">\n",
       "      <th></th>\n",
       "      <th>SNHM14</th>\n",
       "      <th>SNHMC14</th>\n",
       "      <th>SNHMP14</th>\n",
       "      <th>SNHME14</th>\n",
       "      <th>SNHMO14</th>\n",
       "      <th>SNHMF14</th>\n",
       "      <th>SNHMFC14</th>\n",
       "      <th>SNHMFP14</th>\n",
       "      <th>SNHMFE14</th>\n",
       "      <th>SNHMFO14</th>\n",
       "      <th>SNHMH14</th>\n",
       "      <th>SNHMHC14</th>\n",
       "      <th>SNHMHP14</th>\n",
       "      <th>SNHMHE14</th>\n",
       "      <th>SNHMHO14</th>\n",
       "      <th>SNHM1814</th>\n",
       "      <th>SNHM2614</th>\n",
       "      <th>SNHM5014</th>\n",
       "      <th>SNHMF1814</th>\n",
       "      <th>SNHMF2614</th>\n",
       "      <th>SNHMF5014</th>\n",
       "      <th>SNHMH1814</th>\n",
       "      <th>SNHMH2614</th>\n",
       "      <th>SNHMH5014</th>\n",
       "    </tr>\n",
       "  </thead>\n",
       "  <tbody>\n",
       "    <tr>\n",
       "      <th>0</th>\n",
       "      <td>13.7</td>\n",
       "      <td>24.2</td>\n",
       "      <td>15.5</td>\n",
       "      <td>10.3</td>\n",
       "      <td>11.2</td>\n",
       "      <td>11.6</td>\n",
       "      <td>19.1</td>\n",
       "      <td>13.2</td>\n",
       "      <td>10.1</td>\n",
       "      <td>9.6</td>\n",
       "      <td>15.0</td>\n",
       "      <td>26.4</td>\n",
       "      <td>16.7</td>\n",
       "      <td>11.0</td>\n",
       "      <td>11.6</td>\n",
       "      <td>10.5</td>\n",
       "      <td>13.7</td>\n",
       "      <td>16.1</td>\n",
       "      <td>9.7</td>\n",
       "      <td>11.8</td>\n",
       "      <td>12.5</td>\n",
       "      <td>11.0</td>\n",
       "      <td>14.9</td>\n",
       "      <td>18.6</td>\n",
       "    </tr>\n",
       "    <tr>\n",
       "      <th>1</th>\n",
       "      <td>13.5</td>\n",
       "      <td>22.1</td>\n",
       "      <td>14.7</td>\n",
       "      <td>10.7</td>\n",
       "      <td>11.4</td>\n",
       "      <td>11.9</td>\n",
       "      <td>19.0</td>\n",
       "      <td>13.3</td>\n",
       "      <td>10.6</td>\n",
       "      <td>10.0</td>\n",
       "      <td>14.7</td>\n",
       "      <td>23.3</td>\n",
       "      <td>15.8</td>\n",
       "      <td>11.3</td>\n",
       "      <td>11.7</td>\n",
       "      <td>9.8</td>\n",
       "      <td>13.8</td>\n",
       "      <td>14.6</td>\n",
       "      <td>9.2</td>\n",
       "      <td>12.2</td>\n",
       "      <td>12.5</td>\n",
       "      <td>10.2</td>\n",
       "      <td>14.9</td>\n",
       "      <td>16.4</td>\n",
       "    </tr>\n",
       "    <tr>\n",
       "      <th>2</th>\n",
       "      <td>13.5</td>\n",
       "      <td>27.6</td>\n",
       "      <td>15.6</td>\n",
       "      <td>11.1</td>\n",
       "      <td>11.1</td>\n",
       "      <td>10.9</td>\n",
       "      <td>19.5</td>\n",
       "      <td>11.7</td>\n",
       "      <td>10.8</td>\n",
       "      <td>9.5</td>\n",
       "      <td>15.3</td>\n",
       "      <td>30.2</td>\n",
       "      <td>17.2</td>\n",
       "      <td>12.4</td>\n",
       "      <td>11.8</td>\n",
       "      <td>9.3</td>\n",
       "      <td>13.3</td>\n",
       "      <td>16.0</td>\n",
       "      <td>8.9</td>\n",
       "      <td>10.6</td>\n",
       "      <td>12.5</td>\n",
       "      <td>9.6</td>\n",
       "      <td>15.1</td>\n",
       "      <td>18.6</td>\n",
       "    </tr>\n",
       "    <tr>\n",
       "      <th>3</th>\n",
       "      <td>12.9</td>\n",
       "      <td>21.8</td>\n",
       "      <td>14.1</td>\n",
       "      <td>11.0</td>\n",
       "      <td>11.3</td>\n",
       "      <td>11.4</td>\n",
       "      <td>19.0</td>\n",
       "      <td>13.0</td>\n",
       "      <td>10.3</td>\n",
       "      <td>9.9</td>\n",
       "      <td>13.8</td>\n",
       "      <td>23.0</td>\n",
       "      <td>14.7</td>\n",
       "      <td>13.2</td>\n",
       "      <td>11.6</td>\n",
       "      <td>9.6</td>\n",
       "      <td>12.9</td>\n",
       "      <td>14.2</td>\n",
       "      <td>9.3</td>\n",
       "      <td>11.4</td>\n",
       "      <td>12.2</td>\n",
       "      <td>9.7</td>\n",
       "      <td>13.8</td>\n",
       "      <td>15.9</td>\n",
       "    </tr>\n",
       "    <tr>\n",
       "      <th>4</th>\n",
       "      <td>13.0</td>\n",
       "      <td>22.8</td>\n",
       "      <td>14.1</td>\n",
       "      <td>10.5</td>\n",
       "      <td>11.1</td>\n",
       "      <td>11.6</td>\n",
       "      <td>19.4</td>\n",
       "      <td>13.6</td>\n",
       "      <td>10.2</td>\n",
       "      <td>9.8</td>\n",
       "      <td>13.8</td>\n",
       "      <td>24.1</td>\n",
       "      <td>14.4</td>\n",
       "      <td>11.7</td>\n",
       "      <td>11.4</td>\n",
       "      <td>9.4</td>\n",
       "      <td>12.8</td>\n",
       "      <td>15.2</td>\n",
       "      <td>9.0</td>\n",
       "      <td>11.8</td>\n",
       "      <td>12.3</td>\n",
       "      <td>9.7</td>\n",
       "      <td>13.4</td>\n",
       "      <td>16.9</td>\n",
       "    </tr>\n",
       "  </tbody>\n",
       "</table>\n",
       "</div>"
      ],
      "text/plain": [
       "   SNHM14  SNHMC14  SNHMP14  SNHME14  SNHMO14  SNHMF14  SNHMFC14  SNHMFP14  \\\n",
       "0    13.7     24.2     15.5     10.3     11.2     11.6      19.1      13.2   \n",
       "1    13.5     22.1     14.7     10.7     11.4     11.9      19.0      13.3   \n",
       "2    13.5     27.6     15.6     11.1     11.1     10.9      19.5      11.7   \n",
       "3    12.9     21.8     14.1     11.0     11.3     11.4      19.0      13.0   \n",
       "4    13.0     22.8     14.1     10.5     11.1     11.6      19.4      13.6   \n",
       "\n",
       "   SNHMFE14  SNHMFO14  SNHMH14  SNHMHC14  SNHMHP14  SNHMHE14  SNHMHO14  \\\n",
       "0      10.1       9.6     15.0      26.4      16.7      11.0      11.6   \n",
       "1      10.6      10.0     14.7      23.3      15.8      11.3      11.7   \n",
       "2      10.8       9.5     15.3      30.2      17.2      12.4      11.8   \n",
       "3      10.3       9.9     13.8      23.0      14.7      13.2      11.6   \n",
       "4      10.2       9.8     13.8      24.1      14.4      11.7      11.4   \n",
       "\n",
       "   SNHM1814  SNHM2614  SNHM5014  SNHMF1814  SNHMF2614  SNHMF5014  SNHMH1814  \\\n",
       "0      10.5      13.7      16.1        9.7       11.8       12.5       11.0   \n",
       "1       9.8      13.8      14.6        9.2       12.2       12.5       10.2   \n",
       "2       9.3      13.3      16.0        8.9       10.6       12.5        9.6   \n",
       "3       9.6      12.9      14.2        9.3       11.4       12.2        9.7   \n",
       "4       9.4      12.8      15.2        9.0       11.8       12.3        9.7   \n",
       "\n",
       "   SNHMH2614  SNHMH5014  \n",
       "0       14.9       18.6  \n",
       "1       14.9       16.4  \n",
       "2       15.1       18.6  \n",
       "3       13.8       15.9  \n",
       "4       13.4       16.9  "
      ]
     },
     "execution_count": 6,
     "metadata": {},
     "output_type": "execute_result"
    }
   ],
   "source": [
    "salary_numbers = salary.select_dtypes(include='number')\n",
    "\n",
    "#CODGEO, LIBGEO et DEP ne sont pas des colonnes à variables numériques\n",
    "salary_numbers.head()"
   ]
  },
  {
   "cell_type": "code",
   "execution_count": 7,
   "id": "821844ed",
   "metadata": {},
   "outputs": [
    {
     "data": {
      "text/plain": [
       "SNHM14       float64\n",
       "SNHMC14      float64\n",
       "SNHMP14      float64\n",
       "SNHME14      float64\n",
       "SNHMO14      float64\n",
       "SNHMF14      float64\n",
       "SNHMFC14     float64\n",
       "SNHMFP14     float64\n",
       "SNHMFE14     float64\n",
       "SNHMFO14     float64\n",
       "SNHMH14      float64\n",
       "SNHMHC14     float64\n",
       "SNHMHP14     float64\n",
       "SNHMHE14     float64\n",
       "SNHMHO14     float64\n",
       "SNHM1814     float64\n",
       "SNHM2614     float64\n",
       "SNHM5014     float64\n",
       "SNHMF1814    float64\n",
       "SNHMF2614    float64\n",
       "SNHMF5014    float64\n",
       "SNHMH1814    float64\n",
       "SNHMH2614    float64\n",
       "SNHMH5014    float64\n",
       "dtype: object"
      ]
     },
     "execution_count": 7,
     "metadata": {},
     "output_type": "execute_result"
    }
   ],
   "source": [
    "#Toutes les colonnes numériques sont des float\n",
    "salary_numbers.dtypes"
   ]
  },
  {
   "cell_type": "code",
   "execution_count": 8,
   "id": "064bcc0c",
   "metadata": {},
   "outputs": [
    {
     "data": {
      "text/plain": [
       "SNHM14       0\n",
       "SNHMC14      0\n",
       "SNHMP14      0\n",
       "SNHME14      0\n",
       "SNHMO14      0\n",
       "SNHMF14      0\n",
       "SNHMFC14     0\n",
       "SNHMFP14     0\n",
       "SNHMFE14     0\n",
       "SNHMFO14     0\n",
       "SNHMH14      0\n",
       "SNHMHC14     0\n",
       "SNHMHP14     0\n",
       "SNHMHE14     0\n",
       "SNHMHO14     0\n",
       "SNHM1814     0\n",
       "SNHM2614     0\n",
       "SNHM5014     0\n",
       "SNHMF1814    0\n",
       "SNHMF2614    0\n",
       "SNHMF5014    0\n",
       "SNHMH1814    0\n",
       "SNHMH2614    0\n",
       "SNHMH5014    0\n",
       "dtype: int64"
      ]
     },
     "execution_count": 8,
     "metadata": {},
     "output_type": "execute_result"
    }
   ],
   "source": [
    "#Des NaN dans ces colonnes numériques ? NON\n",
    "salary_numbers.isna().sum()"
   ]
  },
  {
   "cell_type": "code",
   "execution_count": 9,
   "id": "36b34382",
   "metadata": {},
   "outputs": [
    {
     "name": "stdout",
     "output_type": "stream",
     "text": [
      "Colonne SNHMC14 : min = 16.0 / max = 51.5\n",
      "Colonne SNHMP14 : min = 11.6 / max = 54.6\n",
      "Colonne SNHME14 : min = 8.7 / max = 17.5\n",
      "Colonne SNHMO14 : min = 8.3 / max = 46.3\n",
      "Colonne SNHMF14 : min = 9.3 / max = 26.7\n",
      "Colonne SNHMFC14 : min = 12.0 / max = 35.5\n",
      "Colonne SNHMFP14 : min = 10.6 / max = 19.0\n",
      "Colonne SNHMFE14 : min = 8.7 / max = 16.1\n",
      "Colonne SNHMFO14 : min = 6.1 / max = 28.1\n",
      "Colonne SNHMH14 : min = 10.4 / max = 52.4\n",
      "Colonne SNHMHC14 : min = 13.8 / max = 58.0\n",
      "Colonne SNHMHP14 : min = 11.8 / max = 93.4\n",
      "Colonne SNHMHE14 : min = 8.0 / max = 23.5\n",
      "Colonne SNHMHO14 : min = 8.9 / max = 53.2\n",
      "Colonne SNHM1814 : min = 7.9 / max = 60.6\n",
      "Colonne SNHM2614 : min = 9.7 / max = 38.1\n",
      "Colonne SNHM5014 : min = 10.5 / max = 56.9\n",
      "Colonne SNHMF1814 : min = 7.5 / max = 12.0\n",
      "Colonne SNHMF2614 : min = 9.1 / max = 26.6\n",
      "Colonne SNHMF5014 : min = 9.5 / max = 31.0\n",
      "Colonne SNHMH1814 : min = 7.8 / max = 93.3\n",
      "Colonne SNHMH2614 : min = 9.6 / max = 45.4\n",
      "Colonne SNHMH5014 : min = 10.8 / max = 68.6\n"
     ]
    }
   ],
   "source": [
    "#pour les colonnes avec le nombre d'établissements, est-ce que les min et max sont cohérents?\n",
    "for i in salary_numbers.columns[1:]:\n",
    "  print('Colonne {} : min = {} / max = {}'.format(i, salary_numbers[i].min(), salary_numbers[i].max()))"
   ]
  },
  {
   "cell_type": "markdown",
   "id": "6f4b8fe6",
   "metadata": {},
   "source": [
    "### Création d'un dataframe pour l'exploration des objets ###"
   ]
  },
  {
   "cell_type": "code",
   "execution_count": 10,
   "id": "1437c325",
   "metadata": {},
   "outputs": [
    {
     "data": {
      "text/html": [
       "<div>\n",
       "<style scoped>\n",
       "    .dataframe tbody tr th:only-of-type {\n",
       "        vertical-align: middle;\n",
       "    }\n",
       "\n",
       "    .dataframe tbody tr th {\n",
       "        vertical-align: top;\n",
       "    }\n",
       "\n",
       "    .dataframe thead th {\n",
       "        text-align: right;\n",
       "    }\n",
       "</style>\n",
       "<table border=\"1\" class=\"dataframe\">\n",
       "  <thead>\n",
       "    <tr style=\"text-align: right;\">\n",
       "      <th></th>\n",
       "      <th>CODGEO</th>\n",
       "      <th>LIBGEO</th>\n",
       "    </tr>\n",
       "  </thead>\n",
       "  <tbody>\n",
       "    <tr>\n",
       "      <th>0</th>\n",
       "      <td>01004</td>\n",
       "      <td>Ambérieu-en-Bugey</td>\n",
       "    </tr>\n",
       "    <tr>\n",
       "      <th>1</th>\n",
       "      <td>01007</td>\n",
       "      <td>Ambronay</td>\n",
       "    </tr>\n",
       "    <tr>\n",
       "      <th>2</th>\n",
       "      <td>01014</td>\n",
       "      <td>Arbent</td>\n",
       "    </tr>\n",
       "    <tr>\n",
       "      <th>3</th>\n",
       "      <td>01024</td>\n",
       "      <td>Attignat</td>\n",
       "    </tr>\n",
       "    <tr>\n",
       "      <th>4</th>\n",
       "      <td>01025</td>\n",
       "      <td>Bâgé-la-Ville</td>\n",
       "    </tr>\n",
       "  </tbody>\n",
       "</table>\n",
       "</div>"
      ],
      "text/plain": [
       "  CODGEO             LIBGEO\n",
       "0  01004  Ambérieu-en-Bugey\n",
       "1  01007           Ambronay\n",
       "2  01014             Arbent\n",
       "3  01024           Attignat\n",
       "4  01025      Bâgé-la-Ville"
      ]
     },
     "execution_count": 10,
     "metadata": {},
     "output_type": "execute_result"
    }
   ],
   "source": [
    "#Vérification des valeurs 'string' dans CODGEO et LIBGEO\n",
    "#Création d'un dataframe pour ces deux colonnes\n",
    "salary_string = salary.select_dtypes(include='object')\n",
    "salary_string.head()"
   ]
  },
  {
   "cell_type": "code",
   "execution_count": 18,
   "id": "d3c23e2c",
   "metadata": {},
   "outputs": [
    {
     "data": {
      "text/plain": [
       "01004    1\n",
       "66106    1\n",
       "67169    1\n",
       "67156    1\n",
       "67154    1\n",
       "        ..\n",
       "38039    1\n",
       "38034    1\n",
       "38022    1\n",
       "38013    1\n",
       "97424    1\n",
       "Name: CODGEO, Length: 5136, dtype: int64"
      ]
     },
     "execution_count": 18,
     "metadata": {},
     "output_type": "execute_result"
    }
   ],
   "source": [
    "salary_string.CODGEO.value_counts(dropna=False)"
   ]
  },
  {
   "cell_type": "code",
   "execution_count": 12,
   "id": "be6c4cfa",
   "metadata": {},
   "outputs": [
    {
     "data": {
      "text/plain": [
       "CODGEO    0\n",
       "LIBGEO    0\n",
       "dtype: int64"
      ]
     },
     "execution_count": 12,
     "metadata": {},
     "output_type": "execute_result"
    }
   ],
   "source": [
    "#est-ce qu'il y a des NaN ?\n",
    "salary_string.isna().sum()"
   ]
  },
  {
   "cell_type": "code",
   "execution_count": 13,
   "id": "f1cbd465",
   "metadata": {},
   "outputs": [
    {
     "name": "stdout",
     "output_type": "stream",
     "text": [
      "True\n"
     ]
    }
   ],
   "source": [
    "#Est-ce que chaque CODGEO est unique ?\n",
    "print(len(np.unique(salary_string.CODGEO)) == len(salary_string))"
   ]
  },
  {
   "cell_type": "code",
   "execution_count": 14,
   "id": "de26cf80",
   "metadata": {},
   "outputs": [
    {
     "name": "stdout",
     "output_type": "stream",
     "text": [
      "False\n"
     ]
    }
   ],
   "source": [
    "#Dans LIBGEO ?\n",
    "print(len(np.unique(salary_string.LIBGEO)) == len(salary_string))"
   ]
  },
  {
   "cell_type": "markdown",
   "id": "ccf6b513",
   "metadata": {},
   "source": [
    "### Colonne LIBGEO : Des valeurs non uniques ? ###"
   ]
  },
  {
   "cell_type": "code",
   "execution_count": 15,
   "id": "7b8c1c9c",
   "metadata": {},
   "outputs": [
    {
     "data": {
      "text/html": [
       "<div>\n",
       "<style scoped>\n",
       "    .dataframe tbody tr th:only-of-type {\n",
       "        vertical-align: middle;\n",
       "    }\n",
       "\n",
       "    .dataframe tbody tr th {\n",
       "        vertical-align: top;\n",
       "    }\n",
       "\n",
       "    .dataframe thead th {\n",
       "        text-align: right;\n",
       "    }\n",
       "</style>\n",
       "<table border=\"1\" class=\"dataframe\">\n",
       "  <thead>\n",
       "    <tr style=\"text-align: right;\">\n",
       "      <th></th>\n",
       "      <th>LIBGEO</th>\n",
       "      <th>count</th>\n",
       "    </tr>\n",
       "  </thead>\n",
       "  <tbody>\n",
       "    <tr>\n",
       "      <th>4278</th>\n",
       "      <td>Sainte-Marie</td>\n",
       "      <td>4</td>\n",
       "    </tr>\n",
       "    <tr>\n",
       "      <th>4111</th>\n",
       "      <td>Saint-Ouen</td>\n",
       "      <td>3</td>\n",
       "    </tr>\n",
       "    <tr>\n",
       "      <th>3978</th>\n",
       "      <td>Saint-Julien</td>\n",
       "      <td>2</td>\n",
       "    </tr>\n",
       "    <tr>\n",
       "      <th>2916</th>\n",
       "      <td>Montreuil</td>\n",
       "      <td>2</td>\n",
       "    </tr>\n",
       "    <tr>\n",
       "      <th>4085</th>\n",
       "      <td>Saint-Michel</td>\n",
       "      <td>2</td>\n",
       "    </tr>\n",
       "  </tbody>\n",
       "</table>\n",
       "</div>"
      ],
      "text/plain": [
       "            LIBGEO  count\n",
       "4278  Sainte-Marie      4\n",
       "4111    Saint-Ouen      3\n",
       "3978  Saint-Julien      2\n",
       "2916     Montreuil      2\n",
       "4085  Saint-Michel      2"
      ]
     },
     "execution_count": 15,
     "metadata": {},
     "output_type": "execute_result"
    }
   ],
   "source": [
    "#Certains libellés LIBGEO sont identiques. Lesquels ?\n",
    "count_libgeo = pd.DataFrame(salary_string.groupby(['LIBGEO']).size().reset_index().rename(columns={0: \"count\"})).sort_values(by='count', ascending=False)\n",
    "count_libgeo.head(5)   "
   ]
  },
  {
   "cell_type": "code",
   "execution_count": 16,
   "id": "6877b8c4",
   "metadata": {},
   "outputs": [
    {
     "data": {
      "text/html": [
       "<div>\n",
       "<style scoped>\n",
       "    .dataframe tbody tr th:only-of-type {\n",
       "        vertical-align: middle;\n",
       "    }\n",
       "\n",
       "    .dataframe tbody tr th {\n",
       "        vertical-align: top;\n",
       "    }\n",
       "\n",
       "    .dataframe thead th {\n",
       "        text-align: right;\n",
       "    }\n",
       "</style>\n",
       "<table border=\"1\" class=\"dataframe\">\n",
       "  <thead>\n",
       "    <tr style=\"text-align: right;\">\n",
       "      <th></th>\n",
       "      <th>CODGEO</th>\n",
       "      <th>LIBGEO</th>\n",
       "    </tr>\n",
       "  </thead>\n",
       "  <tbody>\n",
       "    <tr>\n",
       "      <th>1617</th>\n",
       "      <td>35294</td>\n",
       "      <td>Sainte-Marie</td>\n",
       "    </tr>\n",
       "    <tr>\n",
       "      <th>3390</th>\n",
       "      <td>66182</td>\n",
       "      <td>Sainte-Marie</td>\n",
       "    </tr>\n",
       "    <tr>\n",
       "      <th>5100</th>\n",
       "      <td>97228</td>\n",
       "      <td>Sainte-Marie</td>\n",
       "    </tr>\n",
       "    <tr>\n",
       "      <th>5129</th>\n",
       "      <td>97418</td>\n",
       "      <td>Sainte-Marie</td>\n",
       "    </tr>\n",
       "  </tbody>\n",
       "</table>\n",
       "</div>"
      ],
      "text/plain": [
       "     CODGEO        LIBGEO\n",
       "1617  35294  Sainte-Marie\n",
       "3390  66182  Sainte-Marie\n",
       "5100  97228  Sainte-Marie\n",
       "5129  97418  Sainte-Marie"
      ]
     },
     "execution_count": 16,
     "metadata": {},
     "output_type": "execute_result"
    }
   ],
   "source": [
    "#Exemple de la diversité des CODGEO pour Sainte-Marie\n",
    "salary_string[salary_string['LIBGEO'] == 'Sainte-Marie']"
   ]
  },
  {
   "cell_type": "code",
   "execution_count": 17,
   "id": "ddb711f8",
   "metadata": {},
   "outputs": [
    {
     "name": "stdout",
     "output_type": "stream",
     "text": [
      "[]\n"
     ]
    }
   ],
   "source": [
    "#est-ce qu'il y des caractère spéciaux?\n",
    "\n",
    "spec_car = ['!', '?', \"/\", ',', ';']\n",
    "spec_car_return = []\n",
    "for i in salary_string.LIBGEO:\n",
    "    for j in spec_car:\n",
    "        if j in i:\n",
    "            spec_car_return.append(j)\n",
    "\n",
    "print(np.unique(spec_car_return))"
   ]
  }
 ],
 "metadata": {
  "kernelspec": {
   "display_name": "Python 3 (ipykernel)",
   "language": "python",
   "name": "python3"
  },
  "language_info": {
   "codemirror_mode": {
    "name": "ipython",
    "version": 3
   },
   "file_extension": ".py",
   "mimetype": "text/x-python",
   "name": "python",
   "nbconvert_exporter": "python",
   "pygments_lexer": "ipython3",
   "version": "3.9.13"
  }
 },
 "nbformat": 4,
 "nbformat_minor": 5
}
