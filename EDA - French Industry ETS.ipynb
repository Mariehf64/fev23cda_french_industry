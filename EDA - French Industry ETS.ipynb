{
 "cells": [
  {
   "cell_type": "markdown",
   "metadata": {
    "id": "p7PP53geE6N2"
   },
   "source": [
    "# **Exploratory Data Analysis (EDA) - Etablissements** #"
   ]
  },
  {
   "cell_type": "code",
   "execution_count": 1,
   "metadata": {
    "colab": {
     "base_uri": "https://localhost:8080/"
    },
    "executionInfo": {
     "elapsed": 31145,
     "status": "ok",
     "timestamp": 1680104993695,
     "user": {
      "displayName": "Vivien Renouf",
      "userId": "18138934533526232001"
     },
     "user_tz": -120
    },
    "id": "6n4ow_vXoOvz",
    "outputId": "655a3395-ae86-41a6-ef14-c1db2a2b9ca1"
   },
   "outputs": [],
   "source": [
    "import pandas as pd\n",
    "import numpy as np\n"
   ]
  },
  {
   "cell_type": "markdown",
   "metadata": {
    "id": "F1l-CAFdEl_w"
   },
   "source": [
    "## **ETABLISSEMENTS** ##\n",
    "\n",
    "CODGEO : ID géographique de la ville  \n",
    "LIBGEO : nom de la ville  \n",
    "REG : numéro de région  \n",
    "DEP : numéro de département  \n",
    "E14TST : nombre total d'entreprises dans la ville  \n",
    "E14TS0ND : nombre d'entreprises de taille inconnue ou nulle dans la ville  \n",
    "E14TS1 : nombre d'entreprises de 1 à 5 employés dans la ville  \n",
    "E14TS6 : nombre d'entreprises de 6 à 9 employés dans la ville  \n",
    "E14TS10 : nombre d'entreprises de 10 à 19 employés dans la ville  \n",
    "E14TS20 : nombre d'entreprises de 20 à 49 employés dans la ville  \n",
    "E14TS50 : nombre d'entreprises de 50 à 99 employés dans la ville  \n",
    "E14TS100 :  nombre d'entreprises de 100 à 199 employés dans la ville  \n",
    "E14TS200 : nombre d'entreprises de 200 à 499 employés dans la ville  \n",
    "E14TS500 : nombre d'entreprises de plus de 500 employés dans la ville  "
   ]
  },
  {
   "cell_type": "markdown",
   "metadata": {},
   "source": [
    "### Création du dataframe ets ###"
   ]
  },
  {
   "cell_type": "code",
   "execution_count": 2,
   "metadata": {
    "colab": {
     "base_uri": "https://localhost:8080/",
     "height": 206
    },
    "executionInfo": {
     "elapsed": 1611,
     "status": "ok",
     "timestamp": 1680105051954,
     "user": {
      "displayName": "Vivien Renouf",
      "userId": "18138934533526232001"
     },
     "user_tz": -120
    },
    "id": "b5fvy0Y8D-ml",
    "outputId": "9d9f1d62-505e-4395-dd12-2f3a9ae65851",
    "scrolled": true
   },
   "outputs": [
    {
     "data": {
      "text/html": [
       "<div>\n",
       "<style scoped>\n",
       "    .dataframe tbody tr th:only-of-type {\n",
       "        vertical-align: middle;\n",
       "    }\n",
       "\n",
       "    .dataframe tbody tr th {\n",
       "        vertical-align: top;\n",
       "    }\n",
       "\n",
       "    .dataframe thead th {\n",
       "        text-align: right;\n",
       "    }\n",
       "</style>\n",
       "<table border=\"1\" class=\"dataframe\">\n",
       "  <thead>\n",
       "    <tr style=\"text-align: right;\">\n",
       "      <th></th>\n",
       "      <th>CODGEO</th>\n",
       "      <th>LIBGEO</th>\n",
       "      <th>REG</th>\n",
       "      <th>DEP</th>\n",
       "      <th>E14TST</th>\n",
       "      <th>E14TS0ND</th>\n",
       "      <th>E14TS1</th>\n",
       "      <th>E14TS6</th>\n",
       "      <th>E14TS10</th>\n",
       "      <th>E14TS20</th>\n",
       "      <th>E14TS50</th>\n",
       "      <th>E14TS100</th>\n",
       "      <th>E14TS200</th>\n",
       "      <th>E14TS500</th>\n",
       "    </tr>\n",
       "  </thead>\n",
       "  <tbody>\n",
       "    <tr>\n",
       "      <th>0</th>\n",
       "      <td>01001</td>\n",
       "      <td>L'Abergement-Clémenciat</td>\n",
       "      <td>82</td>\n",
       "      <td>01</td>\n",
       "      <td>25</td>\n",
       "      <td>22</td>\n",
       "      <td>1</td>\n",
       "      <td>2</td>\n",
       "      <td>0</td>\n",
       "      <td>0</td>\n",
       "      <td>0</td>\n",
       "      <td>0</td>\n",
       "      <td>0</td>\n",
       "      <td>0</td>\n",
       "    </tr>\n",
       "    <tr>\n",
       "      <th>1</th>\n",
       "      <td>01002</td>\n",
       "      <td>L'Abergement-de-Varey</td>\n",
       "      <td>82</td>\n",
       "      <td>01</td>\n",
       "      <td>10</td>\n",
       "      <td>9</td>\n",
       "      <td>1</td>\n",
       "      <td>0</td>\n",
       "      <td>0</td>\n",
       "      <td>0</td>\n",
       "      <td>0</td>\n",
       "      <td>0</td>\n",
       "      <td>0</td>\n",
       "      <td>0</td>\n",
       "    </tr>\n",
       "    <tr>\n",
       "      <th>2</th>\n",
       "      <td>01004</td>\n",
       "      <td>Ambérieu-en-Bugey</td>\n",
       "      <td>82</td>\n",
       "      <td>01</td>\n",
       "      <td>996</td>\n",
       "      <td>577</td>\n",
       "      <td>272</td>\n",
       "      <td>63</td>\n",
       "      <td>46</td>\n",
       "      <td>24</td>\n",
       "      <td>9</td>\n",
       "      <td>3</td>\n",
       "      <td>2</td>\n",
       "      <td>0</td>\n",
       "    </tr>\n",
       "    <tr>\n",
       "      <th>3</th>\n",
       "      <td>01005</td>\n",
       "      <td>Ambérieux-en-Dombes</td>\n",
       "      <td>82</td>\n",
       "      <td>01</td>\n",
       "      <td>99</td>\n",
       "      <td>73</td>\n",
       "      <td>20</td>\n",
       "      <td>3</td>\n",
       "      <td>1</td>\n",
       "      <td>2</td>\n",
       "      <td>0</td>\n",
       "      <td>0</td>\n",
       "      <td>0</td>\n",
       "      <td>0</td>\n",
       "    </tr>\n",
       "    <tr>\n",
       "      <th>4</th>\n",
       "      <td>01006</td>\n",
       "      <td>Ambléon</td>\n",
       "      <td>82</td>\n",
       "      <td>01</td>\n",
       "      <td>4</td>\n",
       "      <td>4</td>\n",
       "      <td>0</td>\n",
       "      <td>0</td>\n",
       "      <td>0</td>\n",
       "      <td>0</td>\n",
       "      <td>0</td>\n",
       "      <td>0</td>\n",
       "      <td>0</td>\n",
       "      <td>0</td>\n",
       "    </tr>\n",
       "  </tbody>\n",
       "</table>\n",
       "</div>"
      ],
      "text/plain": [
       "  CODGEO                   LIBGEO  REG DEP  E14TST  E14TS0ND  E14TS1  E14TS6  \\\n",
       "0  01001  L'Abergement-Clémenciat   82  01      25        22       1       2   \n",
       "1  01002    L'Abergement-de-Varey   82  01      10         9       1       0   \n",
       "2  01004        Ambérieu-en-Bugey   82  01     996       577     272      63   \n",
       "3  01005      Ambérieux-en-Dombes   82  01      99        73      20       3   \n",
       "4  01006                  Ambléon   82  01       4         4       0       0   \n",
       "\n",
       "   E14TS10  E14TS20  E14TS50  E14TS100  E14TS200  E14TS500  \n",
       "0        0        0        0         0         0         0  \n",
       "1        0        0        0         0         0         0  \n",
       "2       46       24        9         3         2         0  \n",
       "3        1        2        0         0         0         0  \n",
       "4        0        0        0         0         0         0  "
      ]
     },
     "execution_count": 2,
     "metadata": {},
     "output_type": "execute_result"
    }
   ],
   "source": [
    "ets = pd.read_csv('./data/base_etablissement_par_tranche_effectif.csv')\n",
    "ets.head()"
   ]
  },
  {
   "cell_type": "markdown",
   "metadata": {},
   "source": [
    "### Combien de lignes ? ###"
   ]
  },
  {
   "cell_type": "code",
   "execution_count": 3,
   "metadata": {
    "colab": {
     "base_uri": "https://localhost:8080/"
    },
    "executionInfo": {
     "elapsed": 303,
     "status": "ok",
     "timestamp": 1680105522303,
     "user": {
      "displayName": "Vivien Renouf",
      "userId": "18138934533526232001"
     },
     "user_tz": -120
    },
    "id": "ZIEGl0BbFuQc",
    "outputId": "2622c87b-6462-4833-e809-488e2e0f601d"
   },
   "outputs": [
    {
     "name": "stdout",
     "output_type": "stream",
     "text": [
      "Nombre de lignes : 36681\n"
     ]
    }
   ],
   "source": [
    "#Combien de lignes?\n",
    "print('Nombre de lignes : {}'.format(len(ets)))"
   ]
  },
  {
   "cell_type": "markdown",
   "metadata": {},
   "source": [
    "### Des doublons ? ###"
   ]
  },
  {
   "cell_type": "code",
   "execution_count": 4,
   "metadata": {
    "colab": {
     "base_uri": "https://localhost:8080/"
    },
    "executionInfo": {
     "elapsed": 218,
     "status": "ok",
     "timestamp": 1680105600224,
     "user": {
      "displayName": "Vivien Renouf",
      "userId": "18138934533526232001"
     },
     "user_tz": -120
    },
    "id": "UbBYL4mEGIxa",
    "outputId": "57de2871-56a0-4b70-f018-23d7b3952c80"
   },
   "outputs": [
    {
     "data": {
      "text/plain": [
       "False    36681\n",
       "dtype: int64"
      ]
     },
     "execution_count": 4,
     "metadata": {},
     "output_type": "execute_result"
    }
   ],
   "source": [
    "#Doublons?\n",
    "ets.duplicated().value_counts()"
   ]
  },
  {
   "cell_type": "markdown",
   "metadata": {},
   "source": [
    "### Création d'un dataframe ets_numbers pour exploration des valeurs numériques ###"
   ]
  },
  {
   "cell_type": "code",
   "execution_count": 5,
   "metadata": {
    "colab": {
     "base_uri": "https://localhost:8080/",
     "height": 206
    },
    "executionInfo": {
     "elapsed": 347,
     "status": "ok",
     "timestamp": 1680105750084,
     "user": {
      "displayName": "Vivien Renouf",
      "userId": "18138934533526232001"
     },
     "user_tz": -120
    },
    "id": "Vor61j-QGXqR",
    "outputId": "655d1f03-a1cd-48ca-b97d-0dcf406047da"
   },
   "outputs": [
    {
     "data": {
      "text/html": [
       "<div>\n",
       "<style scoped>\n",
       "    .dataframe tbody tr th:only-of-type {\n",
       "        vertical-align: middle;\n",
       "    }\n",
       "\n",
       "    .dataframe tbody tr th {\n",
       "        vertical-align: top;\n",
       "    }\n",
       "\n",
       "    .dataframe thead th {\n",
       "        text-align: right;\n",
       "    }\n",
       "</style>\n",
       "<table border=\"1\" class=\"dataframe\">\n",
       "  <thead>\n",
       "    <tr style=\"text-align: right;\">\n",
       "      <th></th>\n",
       "      <th>REG</th>\n",
       "      <th>E14TST</th>\n",
       "      <th>E14TS0ND</th>\n",
       "      <th>E14TS1</th>\n",
       "      <th>E14TS6</th>\n",
       "      <th>E14TS10</th>\n",
       "      <th>E14TS20</th>\n",
       "      <th>E14TS50</th>\n",
       "      <th>E14TS100</th>\n",
       "      <th>E14TS200</th>\n",
       "      <th>E14TS500</th>\n",
       "    </tr>\n",
       "  </thead>\n",
       "  <tbody>\n",
       "    <tr>\n",
       "      <th>0</th>\n",
       "      <td>82</td>\n",
       "      <td>25</td>\n",
       "      <td>22</td>\n",
       "      <td>1</td>\n",
       "      <td>2</td>\n",
       "      <td>0</td>\n",
       "      <td>0</td>\n",
       "      <td>0</td>\n",
       "      <td>0</td>\n",
       "      <td>0</td>\n",
       "      <td>0</td>\n",
       "    </tr>\n",
       "    <tr>\n",
       "      <th>1</th>\n",
       "      <td>82</td>\n",
       "      <td>10</td>\n",
       "      <td>9</td>\n",
       "      <td>1</td>\n",
       "      <td>0</td>\n",
       "      <td>0</td>\n",
       "      <td>0</td>\n",
       "      <td>0</td>\n",
       "      <td>0</td>\n",
       "      <td>0</td>\n",
       "      <td>0</td>\n",
       "    </tr>\n",
       "    <tr>\n",
       "      <th>2</th>\n",
       "      <td>82</td>\n",
       "      <td>996</td>\n",
       "      <td>577</td>\n",
       "      <td>272</td>\n",
       "      <td>63</td>\n",
       "      <td>46</td>\n",
       "      <td>24</td>\n",
       "      <td>9</td>\n",
       "      <td>3</td>\n",
       "      <td>2</td>\n",
       "      <td>0</td>\n",
       "    </tr>\n",
       "    <tr>\n",
       "      <th>3</th>\n",
       "      <td>82</td>\n",
       "      <td>99</td>\n",
       "      <td>73</td>\n",
       "      <td>20</td>\n",
       "      <td>3</td>\n",
       "      <td>1</td>\n",
       "      <td>2</td>\n",
       "      <td>0</td>\n",
       "      <td>0</td>\n",
       "      <td>0</td>\n",
       "      <td>0</td>\n",
       "    </tr>\n",
       "    <tr>\n",
       "      <th>4</th>\n",
       "      <td>82</td>\n",
       "      <td>4</td>\n",
       "      <td>4</td>\n",
       "      <td>0</td>\n",
       "      <td>0</td>\n",
       "      <td>0</td>\n",
       "      <td>0</td>\n",
       "      <td>0</td>\n",
       "      <td>0</td>\n",
       "      <td>0</td>\n",
       "      <td>0</td>\n",
       "    </tr>\n",
       "  </tbody>\n",
       "</table>\n",
       "</div>"
      ],
      "text/plain": [
       "   REG  E14TST  E14TS0ND  E14TS1  E14TS6  E14TS10  E14TS20  E14TS50  E14TS100  \\\n",
       "0   82      25        22       1       2        0        0        0         0   \n",
       "1   82      10         9       1       0        0        0        0         0   \n",
       "2   82     996       577     272      63       46       24        9         3   \n",
       "3   82      99        73      20       3        1        2        0         0   \n",
       "4   82       4         4       0       0        0        0        0         0   \n",
       "\n",
       "   E14TS200  E14TS500  \n",
       "0         0         0  \n",
       "1         0         0  \n",
       "2         2         0  \n",
       "3         0         0  \n",
       "4         0         0  "
      ]
     },
     "execution_count": 5,
     "metadata": {},
     "output_type": "execute_result"
    }
   ],
   "source": [
    "ets_numbers = ets.select_dtypes(include='number')\n",
    "\n",
    "#CODGEO, LIBGEO et DEP ne sont pas des colonnes à variables numériques\n",
    "ets_numbers.head()"
   ]
  },
  {
   "cell_type": "code",
   "execution_count": 6,
   "metadata": {},
   "outputs": [
    {
     "data": {
      "text/plain": [
       "REG         int64\n",
       "E14TST      int64\n",
       "E14TS0ND    int64\n",
       "E14TS1      int64\n",
       "E14TS6      int64\n",
       "E14TS10     int64\n",
       "E14TS20     int64\n",
       "E14TS50     int64\n",
       "E14TS100    int64\n",
       "E14TS200    int64\n",
       "E14TS500    int64\n",
       "dtype: object"
      ]
     },
     "execution_count": 6,
     "metadata": {},
     "output_type": "execute_result"
    }
   ],
   "source": [
    "#Toutes les colonnes numériques sont des integers\n",
    "ets_numbers.dtypes"
   ]
  },
  {
   "cell_type": "code",
   "execution_count": 7,
   "metadata": {},
   "outputs": [
    {
     "data": {
      "text/plain": [
       "REG         0\n",
       "E14TST      0\n",
       "E14TS0ND    0\n",
       "E14TS1      0\n",
       "E14TS6      0\n",
       "E14TS10     0\n",
       "E14TS20     0\n",
       "E14TS50     0\n",
       "E14TS100    0\n",
       "E14TS200    0\n",
       "E14TS500    0\n",
       "dtype: int64"
      ]
     },
     "execution_count": 7,
     "metadata": {},
     "output_type": "execute_result"
    }
   ],
   "source": [
    "#Des NaN dans ces colonnes numériques ? NON\n",
    "ets_numbers.isna().sum()"
   ]
  },
  {
   "cell_type": "code",
   "execution_count": 8,
   "metadata": {},
   "outputs": [
    {
     "name": "stdout",
     "output_type": "stream",
     "text": [
      "Colonne E14TST : min = 0 / max = 427385\n",
      "Colonne E14TS0ND : min = 0 / max = 316603\n",
      "Colonne E14TS1 : min = 0 / max = 76368\n",
      "Colonne E14TS6 : min = 0 / max = 14836\n",
      "Colonne E14TS10 : min = 0 / max = 10829\n",
      "Colonne E14TS20 : min = 0 / max = 5643\n",
      "Colonne E14TS50 : min = 0 / max = 1658\n",
      "Colonne E14TS100 : min = 0 / max = 812\n",
      "Colonne E14TS200 : min = 0 / max = 456\n",
      "Colonne E14TS500 : min = 0 / max = 180\n"
     ]
    }
   ],
   "source": [
    "#pour les colonnes avec le nombre d'établissements, est-ce que les min et max sont cohérents?\n",
    "for i in ets_numbers.columns[1:]:\n",
    "  print('Colonne {} : min = {} / max = {}'.format(i, ets_numbers[i].min(), ets_numbers[i].max()))"
   ]
  },
  {
   "cell_type": "code",
   "execution_count": 9,
   "metadata": {},
   "outputs": [
    {
     "name": "stdout",
     "output_type": "stream",
     "text": [
      "Nombre d'entreprises de taille inconnue ou nulle : 3064892\n",
      "Nombre d'entreprises avec taille connue : 1463600\n",
      "Proportion d'entreprises avec taille inconnue ou nulle : 68.0%\n",
      "Nombre total d'entreprises : 4528492\n"
     ]
    }
   ],
   "source": [
    "#Quel est le poids de E14TS0ND (nombre d'entreprises de taille inconnue ou nulle dans la ville) dans le dataset?\n",
    "\n",
    "#Nombre d'entreprises de taille inconnue ou nulle\n",
    "E14TS0ND = ets.E14TS0ND.sum()\n",
    "print('Nombre d\\'entreprises de taille inconnue ou nulle : {}'.format(E14TS0ND))\n",
    "\n",
    "ets_taille_connue = ets_numbers.drop(['REG', 'E14TS0ND', 'E14TST'], axis=1)\n",
    "\n",
    "total_ets_avec_taille = 0\n",
    "for i in ets_taille_connue.columns:\n",
    "  total_ets_avec_taille += ets_taille_connue[i].sum()\n",
    "\n",
    "print('Nombre d\\'entreprises avec taille connue : {}'.format(total_ets_avec_taille))\n",
    "print('Proportion d\\'entreprises avec taille inconnue ou nulle : {}%'.format(np.round(E14TS0ND / (E14TS0ND + total_ets_avec_taille) * 100),1))\n",
    "print('Nombre total d\\'entreprises : {}'.format(E14TS0ND + total_ets_avec_taille))"
   ]
  },
  {
   "cell_type": "markdown",
   "metadata": {},
   "source": [
    "### Colonne REG (Régions) : Combien de valeurs uniques ? #"
   ]
  },
  {
   "cell_type": "code",
   "execution_count": 10,
   "metadata": {},
   "outputs": [
    {
     "name": "stdout",
     "output_type": "stream",
     "text": [
      "27\n"
     ]
    }
   ],
   "source": [
    "# Combien de valeurs uniques dans REG ?\n",
    "print(len(np.unique(ets_numbers.REG)))"
   ]
  },
  {
   "cell_type": "code",
   "execution_count": 11,
   "metadata": {
    "scrolled": false
   },
   "outputs": [
    {
     "data": {
      "text/plain": [
       "73    3020\n",
       "82    2874\n",
       "41    2338\n",
       "72    2296\n",
       "22    2291\n",
       "26    2046\n",
       "21    1953\n",
       "24    1841\n",
       "25    1812\n",
       "43    1785\n",
       "91    1545\n",
       "31    1545\n",
       "52    1496\n",
       "54    1460\n",
       "23    1420\n",
       "83    1310\n",
       "11    1281\n",
       "53    1270\n",
       "93     958\n",
       "42     904\n",
       "74     747\n",
       "94     360\n",
       "2       34\n",
       "1       32\n",
       "4       24\n",
       "3       22\n",
       "6       17\n",
       "Name: REG, dtype: int64"
      ]
     },
     "execution_count": 11,
     "metadata": {},
     "output_type": "execute_result"
    }
   ],
   "source": [
    "ets_numbers.REG.value_counts(dropna=False)"
   ]
  },
  {
   "cell_type": "markdown",
   "metadata": {},
   "source": [
    "### Colonne DEP : Des valeurs non numériques ? Le 0 des 9 premiers DEP conservé ? Combien de DEP ?"
   ]
  },
  {
   "cell_type": "code",
   "execution_count": 12,
   "metadata": {
    "colab": {
     "base_uri": "https://localhost:8080/"
    },
    "executionInfo": {
     "elapsed": 188,
     "status": "ok",
     "timestamp": 1680105992043,
     "user": {
      "displayName": "Vivien Renouf",
      "userId": "18138934533526232001"
     },
     "user_tz": -120
    },
    "id": "I7ASsh9SHFXs",
    "outputId": "205a073e-8680-4886-d581-8f03ded79d73"
   },
   "outputs": [
    {
     "name": "stdout",
     "output_type": "stream",
     "text": [
      "['2A' '2B']\n"
     ]
    }
   ],
   "source": [
    "#Quelles sont les valeurs non numériques dans DEP ?\n",
    "DEP_no_numbers = []\n",
    "\n",
    "for i in ets.DEP:\n",
    "  try:\n",
    "    int(i)\n",
    "  except:\n",
    "    DEP_no_numbers.append(i)\n",
    "\n",
    "#Départements de la Corse\n",
    "print(np.unique(DEP_no_numbers))"
   ]
  },
  {
   "cell_type": "code",
   "execution_count": 13,
   "metadata": {
    "colab": {
     "base_uri": "https://localhost:8080/"
    },
    "executionInfo": {
     "elapsed": 195,
     "status": "ok",
     "timestamp": 1680106154985,
     "user": {
      "displayName": "Vivien Renouf",
      "userId": "18138934533526232001"
     },
     "user_tz": -120
    },
    "id": "HfFnUn8kHxz6",
    "outputId": "53beee1b-eecc-4393-a376-68cd00ab5b65"
   },
   "outputs": [
    {
     "data": {
      "text/plain": [
       "01    419\n",
       "02    816\n",
       "03    320\n",
       "04    200\n",
       "05    172\n",
       "06    163\n",
       "07    339\n",
       "08    463\n",
       "09    332\n",
       "10    433\n",
       "Name: DEP, dtype: int64"
      ]
     },
     "execution_count": 13,
     "metadata": {},
     "output_type": "execute_result"
    }
   ],
   "source": [
    "#Est-ce que les 0 sont bien présents dans les DPT 01,02,etc.? --> OUI\n",
    "ets[ets.DEP.isin(['01','02','03','04','05','06','07','08','09','10'])].DEP.value_counts(dropna=False).sort_index()"
   ]
  },
  {
   "cell_type": "code",
   "execution_count": 14,
   "metadata": {},
   "outputs": [
    {
     "name": "stdout",
     "output_type": "stream",
     "text": [
      "101\n"
     ]
    }
   ],
   "source": [
    "#Combien de départements ?\n",
    "print(len(np.unique(ets.DEP)))"
   ]
  },
  {
   "cell_type": "markdown",
   "metadata": {},
   "source": [
    "### Création d'un dataframe pour l'exploration des objets (DEP excl.) ###"
   ]
  },
  {
   "cell_type": "code",
   "execution_count": 15,
   "metadata": {},
   "outputs": [
    {
     "data": {
      "text/html": [
       "<div>\n",
       "<style scoped>\n",
       "    .dataframe tbody tr th:only-of-type {\n",
       "        vertical-align: middle;\n",
       "    }\n",
       "\n",
       "    .dataframe tbody tr th {\n",
       "        vertical-align: top;\n",
       "    }\n",
       "\n",
       "    .dataframe thead th {\n",
       "        text-align: right;\n",
       "    }\n",
       "</style>\n",
       "<table border=\"1\" class=\"dataframe\">\n",
       "  <thead>\n",
       "    <tr style=\"text-align: right;\">\n",
       "      <th></th>\n",
       "      <th>CODGEO</th>\n",
       "      <th>LIBGEO</th>\n",
       "    </tr>\n",
       "  </thead>\n",
       "  <tbody>\n",
       "    <tr>\n",
       "      <th>0</th>\n",
       "      <td>01001</td>\n",
       "      <td>L'Abergement-Clémenciat</td>\n",
       "    </tr>\n",
       "    <tr>\n",
       "      <th>1</th>\n",
       "      <td>01002</td>\n",
       "      <td>L'Abergement-de-Varey</td>\n",
       "    </tr>\n",
       "    <tr>\n",
       "      <th>2</th>\n",
       "      <td>01004</td>\n",
       "      <td>Ambérieu-en-Bugey</td>\n",
       "    </tr>\n",
       "    <tr>\n",
       "      <th>3</th>\n",
       "      <td>01005</td>\n",
       "      <td>Ambérieux-en-Dombes</td>\n",
       "    </tr>\n",
       "    <tr>\n",
       "      <th>4</th>\n",
       "      <td>01006</td>\n",
       "      <td>Ambléon</td>\n",
       "    </tr>\n",
       "  </tbody>\n",
       "</table>\n",
       "</div>"
      ],
      "text/plain": [
       "  CODGEO                   LIBGEO\n",
       "0  01001  L'Abergement-Clémenciat\n",
       "1  01002    L'Abergement-de-Varey\n",
       "2  01004        Ambérieu-en-Bugey\n",
       "3  01005      Ambérieux-en-Dombes\n",
       "4  01006                  Ambléon"
      ]
     },
     "execution_count": 15,
     "metadata": {},
     "output_type": "execute_result"
    }
   ],
   "source": [
    "#Vérification des valeurs 'string' dans CODGEO et LIBGEO\n",
    "#Création d'un dataframe pour ces deux colonnes\n",
    "ets_string = ets.select_dtypes(include='object').drop(['DEP'], axis=1)\n",
    "ets_string.head()"
   ]
  },
  {
   "cell_type": "code",
   "execution_count": null,
   "metadata": {},
   "outputs": [],
   "source": []
  },
  {
   "cell_type": "code",
   "execution_count": 16,
   "metadata": {},
   "outputs": [
    {
     "data": {
      "text/plain": [
       "CODGEO    0\n",
       "LIBGEO    0\n",
       "dtype: int64"
      ]
     },
     "execution_count": 16,
     "metadata": {},
     "output_type": "execute_result"
    }
   ],
   "source": [
    "#est-ce qu'il y a des NaN ?\n",
    "ets_string.isna().sum()"
   ]
  },
  {
   "cell_type": "code",
   "execution_count": 17,
   "metadata": {},
   "outputs": [
    {
     "name": "stdout",
     "output_type": "stream",
     "text": [
      "True\n"
     ]
    }
   ],
   "source": [
    "#Est-ce que chaque CODGEO est unique ?\n",
    "print(len(np.unique(ets_string.CODGEO)) == len(ets_string))"
   ]
  },
  {
   "cell_type": "code",
   "execution_count": 18,
   "metadata": {},
   "outputs": [
    {
     "name": "stdout",
     "output_type": "stream",
     "text": [
      "False\n"
     ]
    }
   ],
   "source": [
    "#Dans LIBGEO ?\n",
    "print(len(np.unique(ets_string.LIBGEO)) == len(ets_string))"
   ]
  },
  {
   "cell_type": "markdown",
   "metadata": {},
   "source": [
    "### Colonne LIBGEO : Des valeurs non uniques ? ###"
   ]
  },
  {
   "cell_type": "code",
   "execution_count": 19,
   "metadata": {},
   "outputs": [
    {
     "data": {
      "text/html": [
       "<div>\n",
       "<style scoped>\n",
       "    .dataframe tbody tr th:only-of-type {\n",
       "        vertical-align: middle;\n",
       "    }\n",
       "\n",
       "    .dataframe tbody tr th {\n",
       "        vertical-align: top;\n",
       "    }\n",
       "\n",
       "    .dataframe thead th {\n",
       "        text-align: right;\n",
       "    }\n",
       "</style>\n",
       "<table border=\"1\" class=\"dataframe\">\n",
       "  <thead>\n",
       "    <tr style=\"text-align: right;\">\n",
       "      <th></th>\n",
       "      <th>LIBGEO</th>\n",
       "      <th>count</th>\n",
       "    </tr>\n",
       "  </thead>\n",
       "  <tbody>\n",
       "    <tr>\n",
       "      <th>28434</th>\n",
       "      <td>Sainte-Colombe</td>\n",
       "      <td>14</td>\n",
       "    </tr>\n",
       "    <tr>\n",
       "      <th>27969</th>\n",
       "      <td>Saint-Sauveur</td>\n",
       "      <td>12</td>\n",
       "    </tr>\n",
       "    <tr>\n",
       "      <th>2403</th>\n",
       "      <td>Beaulieu</td>\n",
       "      <td>11</td>\n",
       "    </tr>\n",
       "    <tr>\n",
       "      <th>28561</th>\n",
       "      <td>Sainte-Marie</td>\n",
       "      <td>11</td>\n",
       "    </tr>\n",
       "    <tr>\n",
       "      <th>15883</th>\n",
       "      <td>Le Pin</td>\n",
       "      <td>10</td>\n",
       "    </tr>\n",
       "  </tbody>\n",
       "</table>\n",
       "</div>"
      ],
      "text/plain": [
       "               LIBGEO  count\n",
       "28434  Sainte-Colombe     14\n",
       "27969   Saint-Sauveur     12\n",
       "2403         Beaulieu     11\n",
       "28561    Sainte-Marie     11\n",
       "15883          Le Pin     10"
      ]
     },
     "execution_count": 19,
     "metadata": {},
     "output_type": "execute_result"
    }
   ],
   "source": [
    "#Certains libellés LIBGEO sont identiques. Lesquels ?\n",
    "count_libgeo = pd.DataFrame(ets_string.groupby(['LIBGEO']).size().reset_index().rename(columns={0: \"count\"})).sort_values(by='count', ascending=False)\n",
    "count_libgeo.head(5)                         "
   ]
  },
  {
   "cell_type": "code",
   "execution_count": 20,
   "metadata": {},
   "outputs": [
    {
     "data": {
      "text/html": [
       "<div>\n",
       "<style scoped>\n",
       "    .dataframe tbody tr th:only-of-type {\n",
       "        vertical-align: middle;\n",
       "    }\n",
       "\n",
       "    .dataframe tbody tr th {\n",
       "        vertical-align: top;\n",
       "    }\n",
       "\n",
       "    .dataframe thead th {\n",
       "        text-align: right;\n",
       "    }\n",
       "</style>\n",
       "<table border=\"1\" class=\"dataframe\">\n",
       "  <thead>\n",
       "    <tr style=\"text-align: right;\">\n",
       "      <th></th>\n",
       "      <th>CODGEO</th>\n",
       "      <th>LIBGEO</th>\n",
       "    </tr>\n",
       "  </thead>\n",
       "  <tbody>\n",
       "    <tr>\n",
       "      <th>1879</th>\n",
       "      <td>05135</td>\n",
       "      <td>Sainte-Colombe</td>\n",
       "    </tr>\n",
       "    <tr>\n",
       "      <th>5779</th>\n",
       "      <td>16309</td>\n",
       "      <td>Sainte-Colombe</td>\n",
       "    </tr>\n",
       "    <tr>\n",
       "      <th>6198</th>\n",
       "      <td>17319</td>\n",
       "      <td>Sainte-Colombe</td>\n",
       "    </tr>\n",
       "    <tr>\n",
       "      <th>7472</th>\n",
       "      <td>21544</td>\n",
       "      <td>Sainte-Colombe</td>\n",
       "    </tr>\n",
       "    <tr>\n",
       "      <th>9311</th>\n",
       "      <td>25515</td>\n",
       "      <td>Sainte-Colombe</td>\n",
       "    </tr>\n",
       "    <tr>\n",
       "      <th>13301</th>\n",
       "      <td>33390</td>\n",
       "      <td>Sainte-Colombe</td>\n",
       "    </tr>\n",
       "    <tr>\n",
       "      <th>14059</th>\n",
       "      <td>35262</td>\n",
       "      <td>Sainte-Colombe</td>\n",
       "    </tr>\n",
       "    <tr>\n",
       "      <th>16007</th>\n",
       "      <td>40252</td>\n",
       "      <td>Sainte-Colombe</td>\n",
       "    </tr>\n",
       "    <tr>\n",
       "      <th>17782</th>\n",
       "      <td>46260</td>\n",
       "      <td>Sainte-Colombe</td>\n",
       "    </tr>\n",
       "    <tr>\n",
       "      <th>19147</th>\n",
       "      <td>50457</td>\n",
       "      <td>Sainte-Colombe</td>\n",
       "    </tr>\n",
       "    <tr>\n",
       "      <th>28585</th>\n",
       "      <td>69189</td>\n",
       "      <td>Sainte-Colombe</td>\n",
       "    </tr>\n",
       "    <tr>\n",
       "      <th>31345</th>\n",
       "      <td>76569</td>\n",
       "      <td>Sainte-Colombe</td>\n",
       "    </tr>\n",
       "    <tr>\n",
       "      <th>31919</th>\n",
       "      <td>77404</td>\n",
       "      <td>Sainte-Colombe</td>\n",
       "    </tr>\n",
       "    <tr>\n",
       "      <th>35807</th>\n",
       "      <td>89339</td>\n",
       "      <td>Sainte-Colombe</td>\n",
       "    </tr>\n",
       "  </tbody>\n",
       "</table>\n",
       "</div>"
      ],
      "text/plain": [
       "      CODGEO          LIBGEO\n",
       "1879   05135  Sainte-Colombe\n",
       "5779   16309  Sainte-Colombe\n",
       "6198   17319  Sainte-Colombe\n",
       "7472   21544  Sainte-Colombe\n",
       "9311   25515  Sainte-Colombe\n",
       "13301  33390  Sainte-Colombe\n",
       "14059  35262  Sainte-Colombe\n",
       "16007  40252  Sainte-Colombe\n",
       "17782  46260  Sainte-Colombe\n",
       "19147  50457  Sainte-Colombe\n",
       "28585  69189  Sainte-Colombe\n",
       "31345  76569  Sainte-Colombe\n",
       "31919  77404  Sainte-Colombe\n",
       "35807  89339  Sainte-Colombe"
      ]
     },
     "execution_count": 20,
     "metadata": {},
     "output_type": "execute_result"
    }
   ],
   "source": [
    "#Exemple de la diversité des CODGEO pour Sainte-Colombe\n",
    "ets_string[ets_string['LIBGEO'] == 'Sainte-Colombe']"
   ]
  },
  {
   "cell_type": "code",
   "execution_count": 21,
   "metadata": {},
   "outputs": [
    {
     "name": "stdout",
     "output_type": "stream",
     "text": [
      "[]\n"
     ]
    }
   ],
   "source": [
    "#est-ce qu'il y des caractère spéciaux?\n",
    "\n",
    "spec_car = ['!', '?', \"/\", ',', ';']\n",
    "spec_car_return = []\n",
    "for i in ets_string.LIBGEO:\n",
    "    for j in spec_car:\n",
    "        if j in i:\n",
    "            spec_car_return.append(j)\n",
    "\n",
    "print(np.unique(spec_car_return))"
   ]
  },
  {
   "cell_type": "markdown",
   "metadata": {},
   "source": [
    "### Import d'une table INSEE sur les régions ###"
   ]
  },
  {
   "cell_type": "code",
   "execution_count": 22,
   "metadata": {},
   "outputs": [
    {
     "data": {
      "text/html": [
       "<div>\n",
       "<style scoped>\n",
       "    .dataframe tbody tr th:only-of-type {\n",
       "        vertical-align: middle;\n",
       "    }\n",
       "\n",
       "    .dataframe tbody tr th {\n",
       "        vertical-align: top;\n",
       "    }\n",
       "\n",
       "    .dataframe thead th {\n",
       "        text-align: right;\n",
       "    }\n",
       "</style>\n",
       "<table border=\"1\" class=\"dataframe\">\n",
       "  <thead>\n",
       "    <tr style=\"text-align: right;\">\n",
       "      <th></th>\n",
       "      <th>REG</th>\n",
       "      <th>CHEFLIEU</th>\n",
       "      <th>TNCC</th>\n",
       "      <th>NCC</th>\n",
       "      <th>NCCENR</th>\n",
       "      <th>LIBELLE</th>\n",
       "    </tr>\n",
       "  </thead>\n",
       "  <tbody>\n",
       "    <tr>\n",
       "      <th>0</th>\n",
       "      <td>1</td>\n",
       "      <td>97105</td>\n",
       "      <td>3</td>\n",
       "      <td>GUADELOUPE</td>\n",
       "      <td>Guadeloupe</td>\n",
       "      <td>Guadeloupe</td>\n",
       "    </tr>\n",
       "    <tr>\n",
       "      <th>1</th>\n",
       "      <td>2</td>\n",
       "      <td>97209</td>\n",
       "      <td>3</td>\n",
       "      <td>MARTINIQUE</td>\n",
       "      <td>Martinique</td>\n",
       "      <td>Martinique</td>\n",
       "    </tr>\n",
       "    <tr>\n",
       "      <th>2</th>\n",
       "      <td>3</td>\n",
       "      <td>97302</td>\n",
       "      <td>3</td>\n",
       "      <td>GUYANE</td>\n",
       "      <td>Guyane</td>\n",
       "      <td>Guyane</td>\n",
       "    </tr>\n",
       "    <tr>\n",
       "      <th>3</th>\n",
       "      <td>4</td>\n",
       "      <td>97411</td>\n",
       "      <td>0</td>\n",
       "      <td>LA REUNION</td>\n",
       "      <td>La Réunion</td>\n",
       "      <td>La Réunion</td>\n",
       "    </tr>\n",
       "    <tr>\n",
       "      <th>4</th>\n",
       "      <td>6</td>\n",
       "      <td>97608</td>\n",
       "      <td>0</td>\n",
       "      <td>MAYOTTE</td>\n",
       "      <td>Mayotte</td>\n",
       "      <td>Mayotte</td>\n",
       "    </tr>\n",
       "  </tbody>\n",
       "</table>\n",
       "</div>"
      ],
      "text/plain": [
       "   REG CHEFLIEU  TNCC         NCC      NCCENR     LIBELLE\n",
       "0    1    97105     3  GUADELOUPE  Guadeloupe  Guadeloupe\n",
       "1    2    97209     3  MARTINIQUE  Martinique  Martinique\n",
       "2    3    97302     3      GUYANE      Guyane      Guyane\n",
       "3    4    97411     0  LA REUNION  La Réunion  La Réunion\n",
       "4    6    97608     0     MAYOTTE     Mayotte     Mayotte"
      ]
     },
     "execution_count": 22,
     "metadata": {},
     "output_type": "execute_result"
    }
   ],
   "source": [
    "#Les régions doivent elles rester des integers ? Vérification avec fichier INSEE des régions\n",
    "\n",
    "reg = pd.read_csv(\"./Data_complement_insee/region_2022.csv\")\n",
    "reg.head()"
   ]
  },
  {
   "cell_type": "code",
   "execution_count": 23,
   "metadata": {},
   "outputs": [
    {
     "data": {
      "text/plain": [
       "REG          int64\n",
       "CHEFLIEU    object\n",
       "TNCC         int64\n",
       "NCC         object\n",
       "NCCENR      object\n",
       "LIBELLE     object\n",
       "dtype: object"
      ]
     },
     "execution_count": 23,
     "metadata": {},
     "output_type": "execute_result"
    }
   ],
   "source": [
    "reg.dtypes"
   ]
  }
 ],
 "metadata": {
  "colab": {
   "authorship_tag": "ABX9TyOw/UM9gqYW1aYNf10TJQNB",
   "provenance": []
  },
  "kernelspec": {
   "display_name": "Python 3 (ipykernel)",
   "language": "python",
   "name": "python3"
  },
  "language_info": {
   "codemirror_mode": {
    "name": "ipython",
    "version": 3
   },
   "file_extension": ".py",
   "mimetype": "text/x-python",
   "name": "python",
   "nbconvert_exporter": "python",
   "pygments_lexer": "ipython3",
   "version": "3.9.13"
  }
 },
 "nbformat": 4,
 "nbformat_minor": 1
}
