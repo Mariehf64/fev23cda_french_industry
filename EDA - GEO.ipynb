{
 "cells": [
  {
   "cell_type": "markdown",
   "id": "b7be7388",
   "metadata": {},
   "source": [
    "# EDA Geographic Information #"
   ]
  },
  {
   "cell_type": "code",
   "execution_count": 2,
   "id": "846ebb53",
   "metadata": {},
   "outputs": [],
   "source": [
    "import pandas as pd\n",
    "import numpy as np"
   ]
  },
  {
   "cell_type": "code",
   "execution_count": 11,
   "id": "22a202dc",
   "metadata": {},
   "outputs": [
    {
     "data": {
      "text/html": [
       "<div>\n",
       "<style scoped>\n",
       "    .dataframe tbody tr th:only-of-type {\n",
       "        vertical-align: middle;\n",
       "    }\n",
       "\n",
       "    .dataframe tbody tr th {\n",
       "        vertical-align: top;\n",
       "    }\n",
       "\n",
       "    .dataframe thead th {\n",
       "        text-align: right;\n",
       "    }\n",
       "</style>\n",
       "<table border=\"1\" class=\"dataframe\">\n",
       "  <thead>\n",
       "    <tr style=\"text-align: right;\">\n",
       "      <th></th>\n",
       "      <th>EU_circo</th>\n",
       "      <th>code_région</th>\n",
       "      <th>nom_région</th>\n",
       "      <th>chef.lieu_région</th>\n",
       "      <th>numéro_département</th>\n",
       "      <th>nom_département</th>\n",
       "      <th>préfecture</th>\n",
       "      <th>numéro_circonscription</th>\n",
       "      <th>nom_commune</th>\n",
       "      <th>codes_postaux</th>\n",
       "      <th>code_insee</th>\n",
       "      <th>latitude</th>\n",
       "      <th>longitude</th>\n",
       "      <th>éloignement</th>\n",
       "    </tr>\n",
       "  </thead>\n",
       "  <tbody>\n",
       "    <tr>\n",
       "      <th>0</th>\n",
       "      <td>Sud-Est</td>\n",
       "      <td>82</td>\n",
       "      <td>Rhône-Alpes</td>\n",
       "      <td>Lyon</td>\n",
       "      <td>01</td>\n",
       "      <td>Ain</td>\n",
       "      <td>Bourg-en-Bresse</td>\n",
       "      <td>1</td>\n",
       "      <td>Attignat</td>\n",
       "      <td>01340</td>\n",
       "      <td>1024</td>\n",
       "      <td>46.283333</td>\n",
       "      <td>5.166667</td>\n",
       "      <td>1.21</td>\n",
       "    </tr>\n",
       "    <tr>\n",
       "      <th>1</th>\n",
       "      <td>Sud-Est</td>\n",
       "      <td>82</td>\n",
       "      <td>Rhône-Alpes</td>\n",
       "      <td>Lyon</td>\n",
       "      <td>01</td>\n",
       "      <td>Ain</td>\n",
       "      <td>Bourg-en-Bresse</td>\n",
       "      <td>1</td>\n",
       "      <td>Beaupont</td>\n",
       "      <td>01270</td>\n",
       "      <td>1029</td>\n",
       "      <td>46.400000</td>\n",
       "      <td>5.266667</td>\n",
       "      <td>1.91</td>\n",
       "    </tr>\n",
       "    <tr>\n",
       "      <th>2</th>\n",
       "      <td>Sud-Est</td>\n",
       "      <td>82</td>\n",
       "      <td>Rhône-Alpes</td>\n",
       "      <td>Lyon</td>\n",
       "      <td>01</td>\n",
       "      <td>Ain</td>\n",
       "      <td>Bourg-en-Bresse</td>\n",
       "      <td>1</td>\n",
       "      <td>Bény</td>\n",
       "      <td>01370</td>\n",
       "      <td>1038</td>\n",
       "      <td>46.333333</td>\n",
       "      <td>5.283333</td>\n",
       "      <td>1.51</td>\n",
       "    </tr>\n",
       "    <tr>\n",
       "      <th>3</th>\n",
       "      <td>Sud-Est</td>\n",
       "      <td>82</td>\n",
       "      <td>Rhône-Alpes</td>\n",
       "      <td>Lyon</td>\n",
       "      <td>01</td>\n",
       "      <td>Ain</td>\n",
       "      <td>Bourg-en-Bresse</td>\n",
       "      <td>1</td>\n",
       "      <td>Béreyziat</td>\n",
       "      <td>01340</td>\n",
       "      <td>1040</td>\n",
       "      <td>46.366667</td>\n",
       "      <td>5.05</td>\n",
       "      <td>1.71</td>\n",
       "    </tr>\n",
       "    <tr>\n",
       "      <th>4</th>\n",
       "      <td>Sud-Est</td>\n",
       "      <td>82</td>\n",
       "      <td>Rhône-Alpes</td>\n",
       "      <td>Lyon</td>\n",
       "      <td>01</td>\n",
       "      <td>Ain</td>\n",
       "      <td>Bourg-en-Bresse</td>\n",
       "      <td>1</td>\n",
       "      <td>Bohas-Meyriat-Rignat</td>\n",
       "      <td>01250</td>\n",
       "      <td>1245</td>\n",
       "      <td>46.133333</td>\n",
       "      <td>5.4</td>\n",
       "      <td>1.01</td>\n",
       "    </tr>\n",
       "  </tbody>\n",
       "</table>\n",
       "</div>"
      ],
      "text/plain": [
       "  EU_circo  code_région   nom_région chef.lieu_région numéro_département  \\\n",
       "0  Sud-Est           82  Rhône-Alpes             Lyon                 01   \n",
       "1  Sud-Est           82  Rhône-Alpes             Lyon                 01   \n",
       "2  Sud-Est           82  Rhône-Alpes             Lyon                 01   \n",
       "3  Sud-Est           82  Rhône-Alpes             Lyon                 01   \n",
       "4  Sud-Est           82  Rhône-Alpes             Lyon                 01   \n",
       "\n",
       "  nom_département       préfecture  numéro_circonscription  \\\n",
       "0             Ain  Bourg-en-Bresse                       1   \n",
       "1             Ain  Bourg-en-Bresse                       1   \n",
       "2             Ain  Bourg-en-Bresse                       1   \n",
       "3             Ain  Bourg-en-Bresse                       1   \n",
       "4             Ain  Bourg-en-Bresse                       1   \n",
       "\n",
       "            nom_commune codes_postaux  code_insee   latitude longitude  \\\n",
       "0              Attignat         01340        1024  46.283333  5.166667   \n",
       "1              Beaupont         01270        1029  46.400000  5.266667   \n",
       "2                  Bény         01370        1038  46.333333  5.283333   \n",
       "3             Béreyziat         01340        1040  46.366667      5.05   \n",
       "4  Bohas-Meyriat-Rignat         01250        1245  46.133333       5.4   \n",
       "\n",
       "   éloignement  \n",
       "0         1.21  \n",
       "1         1.91  \n",
       "2         1.51  \n",
       "3         1.71  \n",
       "4         1.01  "
      ]
     },
     "execution_count": 11,
     "metadata": {},
     "output_type": "execute_result"
    }
   ],
   "source": [
    "geo = pd.read_csv(\"./data/name_geographic_information.csv\")\n",
    "geo.head()"
   ]
  },
  {
   "cell_type": "code",
   "execution_count": 12,
   "id": "7e0ae1e4",
   "metadata": {},
   "outputs": [
    {
     "data": {
      "text/plain": [
       "36840"
      ]
     },
     "execution_count": 12,
     "metadata": {},
     "output_type": "execute_result"
    }
   ],
   "source": [
    "len(geo)"
   ]
  }
 ],
 "metadata": {
  "kernelspec": {
   "display_name": "Python 3 (ipykernel)",
   "language": "python",
   "name": "python3"
  },
  "language_info": {
   "codemirror_mode": {
    "name": "ipython",
    "version": 3
   },
   "file_extension": ".py",
   "mimetype": "text/x-python",
   "name": "python",
   "nbconvert_exporter": "python",
   "pygments_lexer": "ipython3",
   "version": "3.9.7"
  }
 },
 "nbformat": 4,
 "nbformat_minor": 5
}
