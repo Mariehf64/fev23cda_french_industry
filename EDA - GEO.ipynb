{
 "cells": [
  {
   "cell_type": "markdown",
   "id": "b7be7388",
   "metadata": {},
   "source": [
    "# EDA Geographic Information #"
   ]
  },
  {
   "cell_type": "code",
   "execution_count": 1,
   "id": "846ebb53",
   "metadata": {},
   "outputs": [],
   "source": [
    "import pandas as pd\n",
    "import numpy as np"
   ]
  },
  {
   "cell_type": "code",
   "execution_count": 2,
   "id": "22a202dc",
   "metadata": {},
   "outputs": [
    {
     "data": {
      "text/html": [
       "<div>\n",
       "<style scoped>\n",
       "    .dataframe tbody tr th:only-of-type {\n",
       "        vertical-align: middle;\n",
       "    }\n",
       "\n",
       "    .dataframe tbody tr th {\n",
       "        vertical-align: top;\n",
       "    }\n",
       "\n",
       "    .dataframe thead th {\n",
       "        text-align: right;\n",
       "    }\n",
       "</style>\n",
       "<table border=\"1\" class=\"dataframe\">\n",
       "  <thead>\n",
       "    <tr style=\"text-align: right;\">\n",
       "      <th></th>\n",
       "      <th>EU_circo</th>\n",
       "      <th>code_région</th>\n",
       "      <th>nom_région</th>\n",
       "      <th>chef.lieu_région</th>\n",
       "      <th>numéro_département</th>\n",
       "      <th>nom_département</th>\n",
       "      <th>préfecture</th>\n",
       "      <th>numéro_circonscription</th>\n",
       "      <th>nom_commune</th>\n",
       "      <th>codes_postaux</th>\n",
       "      <th>code_insee</th>\n",
       "      <th>latitude</th>\n",
       "      <th>longitude</th>\n",
       "      <th>éloignement</th>\n",
       "    </tr>\n",
       "  </thead>\n",
       "  <tbody>\n",
       "    <tr>\n",
       "      <th>0</th>\n",
       "      <td>Sud-Est</td>\n",
       "      <td>82</td>\n",
       "      <td>Rhône-Alpes</td>\n",
       "      <td>Lyon</td>\n",
       "      <td>01</td>\n",
       "      <td>Ain</td>\n",
       "      <td>Bourg-en-Bresse</td>\n",
       "      <td>1</td>\n",
       "      <td>Attignat</td>\n",
       "      <td>01340</td>\n",
       "      <td>1024</td>\n",
       "      <td>46.283333</td>\n",
       "      <td>5.166667</td>\n",
       "      <td>1.21</td>\n",
       "    </tr>\n",
       "    <tr>\n",
       "      <th>1</th>\n",
       "      <td>Sud-Est</td>\n",
       "      <td>82</td>\n",
       "      <td>Rhône-Alpes</td>\n",
       "      <td>Lyon</td>\n",
       "      <td>01</td>\n",
       "      <td>Ain</td>\n",
       "      <td>Bourg-en-Bresse</td>\n",
       "      <td>1</td>\n",
       "      <td>Beaupont</td>\n",
       "      <td>01270</td>\n",
       "      <td>1029</td>\n",
       "      <td>46.400000</td>\n",
       "      <td>5.266667</td>\n",
       "      <td>1.91</td>\n",
       "    </tr>\n",
       "    <tr>\n",
       "      <th>2</th>\n",
       "      <td>Sud-Est</td>\n",
       "      <td>82</td>\n",
       "      <td>Rhône-Alpes</td>\n",
       "      <td>Lyon</td>\n",
       "      <td>01</td>\n",
       "      <td>Ain</td>\n",
       "      <td>Bourg-en-Bresse</td>\n",
       "      <td>1</td>\n",
       "      <td>Bény</td>\n",
       "      <td>01370</td>\n",
       "      <td>1038</td>\n",
       "      <td>46.333333</td>\n",
       "      <td>5.283333</td>\n",
       "      <td>1.51</td>\n",
       "    </tr>\n",
       "    <tr>\n",
       "      <th>3</th>\n",
       "      <td>Sud-Est</td>\n",
       "      <td>82</td>\n",
       "      <td>Rhône-Alpes</td>\n",
       "      <td>Lyon</td>\n",
       "      <td>01</td>\n",
       "      <td>Ain</td>\n",
       "      <td>Bourg-en-Bresse</td>\n",
       "      <td>1</td>\n",
       "      <td>Béreyziat</td>\n",
       "      <td>01340</td>\n",
       "      <td>1040</td>\n",
       "      <td>46.366667</td>\n",
       "      <td>5.05</td>\n",
       "      <td>1.71</td>\n",
       "    </tr>\n",
       "    <tr>\n",
       "      <th>4</th>\n",
       "      <td>Sud-Est</td>\n",
       "      <td>82</td>\n",
       "      <td>Rhône-Alpes</td>\n",
       "      <td>Lyon</td>\n",
       "      <td>01</td>\n",
       "      <td>Ain</td>\n",
       "      <td>Bourg-en-Bresse</td>\n",
       "      <td>1</td>\n",
       "      <td>Bohas-Meyriat-Rignat</td>\n",
       "      <td>01250</td>\n",
       "      <td>1245</td>\n",
       "      <td>46.133333</td>\n",
       "      <td>5.4</td>\n",
       "      <td>1.01</td>\n",
       "    </tr>\n",
       "  </tbody>\n",
       "</table>\n",
       "</div>"
      ],
      "text/plain": [
       "  EU_circo  code_région   nom_région chef.lieu_région numéro_département  \\\n",
       "0  Sud-Est           82  Rhône-Alpes             Lyon                 01   \n",
       "1  Sud-Est           82  Rhône-Alpes             Lyon                 01   \n",
       "2  Sud-Est           82  Rhône-Alpes             Lyon                 01   \n",
       "3  Sud-Est           82  Rhône-Alpes             Lyon                 01   \n",
       "4  Sud-Est           82  Rhône-Alpes             Lyon                 01   \n",
       "\n",
       "  nom_département       préfecture  numéro_circonscription  \\\n",
       "0             Ain  Bourg-en-Bresse                       1   \n",
       "1             Ain  Bourg-en-Bresse                       1   \n",
       "2             Ain  Bourg-en-Bresse                       1   \n",
       "3             Ain  Bourg-en-Bresse                       1   \n",
       "4             Ain  Bourg-en-Bresse                       1   \n",
       "\n",
       "            nom_commune codes_postaux  code_insee   latitude longitude  \\\n",
       "0              Attignat         01340        1024  46.283333  5.166667   \n",
       "1              Beaupont         01270        1029  46.400000  5.266667   \n",
       "2                  Bény         01370        1038  46.333333  5.283333   \n",
       "3             Béreyziat         01340        1040  46.366667      5.05   \n",
       "4  Bohas-Meyriat-Rignat         01250        1245  46.133333       5.4   \n",
       "\n",
       "   éloignement  \n",
       "0         1.21  \n",
       "1         1.91  \n",
       "2         1.51  \n",
       "3         1.71  \n",
       "4         1.01  "
      ]
     },
     "execution_count": 2,
     "metadata": {},
     "output_type": "execute_result"
    }
   ],
   "source": [
    "geo = pd.read_csv(\"./data/name_geographic_information.csv\")\n",
    "geo.head()"
   ]
  },
  {
   "cell_type": "markdown",
   "id": "ff6b234a",
   "metadata": {},
   "source": [
    "### Combien de lignes ? ### "
   ]
  },
  {
   "cell_type": "code",
   "execution_count": 3,
   "id": "7e0ae1e4",
   "metadata": {},
   "outputs": [
    {
     "name": "stdout",
     "output_type": "stream",
     "text": [
      "Nombre de lignes : 36840\n"
     ]
    }
   ],
   "source": [
    "#Combien de lignes?\n",
    "print('Nombre de lignes : {}'.format(len(geo)))"
   ]
  },
  {
   "cell_type": "markdown",
   "id": "34659acb",
   "metadata": {},
   "source": [
    "### Des doublons ? ###"
   ]
  },
  {
   "cell_type": "code",
   "execution_count": 4,
   "id": "b5006e1d",
   "metadata": {},
   "outputs": [
    {
     "data": {
      "text/plain": [
       "False    36840\n",
       "dtype: int64"
      ]
     },
     "execution_count": 4,
     "metadata": {},
     "output_type": "execute_result"
    }
   ],
   "source": [
    "#Doublons?\n",
    "geo.duplicated().value_counts()"
   ]
  },
  {
   "cell_type": "markdown",
   "id": "44b8bf88",
   "metadata": {},
   "source": [
    "### Création d'un dataframe geo_numbers pour exploration des valeurs numériques ###"
   ]
  },
  {
   "cell_type": "code",
   "execution_count": 9,
   "id": "553fba5a",
   "metadata": {
    "scrolled": true
   },
   "outputs": [
    {
     "data": {
      "text/html": [
       "<div>\n",
       "<style scoped>\n",
       "    .dataframe tbody tr th:only-of-type {\n",
       "        vertical-align: middle;\n",
       "    }\n",
       "\n",
       "    .dataframe tbody tr th {\n",
       "        vertical-align: top;\n",
       "    }\n",
       "\n",
       "    .dataframe thead th {\n",
       "        text-align: right;\n",
       "    }\n",
       "</style>\n",
       "<table border=\"1\" class=\"dataframe\">\n",
       "  <thead>\n",
       "    <tr style=\"text-align: right;\">\n",
       "      <th></th>\n",
       "      <th>code_région</th>\n",
       "      <th>numéro_circonscription</th>\n",
       "      <th>code_insee</th>\n",
       "      <th>latitude</th>\n",
       "      <th>éloignement</th>\n",
       "    </tr>\n",
       "  </thead>\n",
       "  <tbody>\n",
       "    <tr>\n",
       "      <th>0</th>\n",
       "      <td>82</td>\n",
       "      <td>1</td>\n",
       "      <td>1024</td>\n",
       "      <td>46.283333</td>\n",
       "      <td>1.21</td>\n",
       "    </tr>\n",
       "    <tr>\n",
       "      <th>1</th>\n",
       "      <td>82</td>\n",
       "      <td>1</td>\n",
       "      <td>1029</td>\n",
       "      <td>46.400000</td>\n",
       "      <td>1.91</td>\n",
       "    </tr>\n",
       "    <tr>\n",
       "      <th>2</th>\n",
       "      <td>82</td>\n",
       "      <td>1</td>\n",
       "      <td>1038</td>\n",
       "      <td>46.333333</td>\n",
       "      <td>1.51</td>\n",
       "    </tr>\n",
       "    <tr>\n",
       "      <th>3</th>\n",
       "      <td>82</td>\n",
       "      <td>1</td>\n",
       "      <td>1040</td>\n",
       "      <td>46.366667</td>\n",
       "      <td>1.71</td>\n",
       "    </tr>\n",
       "    <tr>\n",
       "      <th>4</th>\n",
       "      <td>82</td>\n",
       "      <td>1</td>\n",
       "      <td>1245</td>\n",
       "      <td>46.133333</td>\n",
       "      <td>1.01</td>\n",
       "    </tr>\n",
       "  </tbody>\n",
       "</table>\n",
       "</div>"
      ],
      "text/plain": [
       "   code_région  numéro_circonscription  code_insee   latitude  éloignement\n",
       "0           82                       1        1024  46.283333         1.21\n",
       "1           82                       1        1029  46.400000         1.91\n",
       "2           82                       1        1038  46.333333         1.51\n",
       "3           82                       1        1040  46.366667         1.71\n",
       "4           82                       1        1245  46.133333         1.01"
      ]
     },
     "execution_count": 9,
     "metadata": {},
     "output_type": "execute_result"
    }
   ],
   "source": [
    "geo_numbers = geo.select_dtypes(include='number')\n",
    "\n",
    "geo_numbers.head()"
   ]
  },
  {
   "cell_type": "code",
   "execution_count": 21,
   "id": "205eeea7",
   "metadata": {},
   "outputs": [
    {
     "data": {
      "text/plain": [
       "75056    21\n",
       "13055     8\n",
       "31555     6\n",
       "59350     5\n",
       "44109     5\n",
       "         ..\n",
       "31112     1\n",
       "31110     1\n",
       "31109     1\n",
       "31108     1\n",
       "97617     1\n",
       "Name: code_insee, Length: 36693, dtype: int64"
      ]
     },
     "execution_count": 21,
     "metadata": {},
     "output_type": "execute_result"
    }
   ],
   "source": [
    "geo_numbers.code_insee.value_counts(dropna=False)"
   ]
  },
  {
   "cell_type": "markdown",
   "id": "cf0dbdfc",
   "metadata": {},
   "source": [
    "### Création d'un dataframe geo_objects pour exploration des valeurs non numériques ###"
   ]
  },
  {
   "cell_type": "code",
   "execution_count": 10,
   "id": "c9438a2a",
   "metadata": {
    "scrolled": true
   },
   "outputs": [
    {
     "data": {
      "text/html": [
       "<div>\n",
       "<style scoped>\n",
       "    .dataframe tbody tr th:only-of-type {\n",
       "        vertical-align: middle;\n",
       "    }\n",
       "\n",
       "    .dataframe tbody tr th {\n",
       "        vertical-align: top;\n",
       "    }\n",
       "\n",
       "    .dataframe thead th {\n",
       "        text-align: right;\n",
       "    }\n",
       "</style>\n",
       "<table border=\"1\" class=\"dataframe\">\n",
       "  <thead>\n",
       "    <tr style=\"text-align: right;\">\n",
       "      <th></th>\n",
       "      <th>EU_circo</th>\n",
       "      <th>nom_région</th>\n",
       "      <th>chef.lieu_région</th>\n",
       "      <th>numéro_département</th>\n",
       "      <th>nom_département</th>\n",
       "      <th>préfecture</th>\n",
       "      <th>nom_commune</th>\n",
       "      <th>codes_postaux</th>\n",
       "      <th>longitude</th>\n",
       "    </tr>\n",
       "  </thead>\n",
       "  <tbody>\n",
       "    <tr>\n",
       "      <th>0</th>\n",
       "      <td>Sud-Est</td>\n",
       "      <td>Rhône-Alpes</td>\n",
       "      <td>Lyon</td>\n",
       "      <td>01</td>\n",
       "      <td>Ain</td>\n",
       "      <td>Bourg-en-Bresse</td>\n",
       "      <td>Attignat</td>\n",
       "      <td>01340</td>\n",
       "      <td>5.166667</td>\n",
       "    </tr>\n",
       "    <tr>\n",
       "      <th>1</th>\n",
       "      <td>Sud-Est</td>\n",
       "      <td>Rhône-Alpes</td>\n",
       "      <td>Lyon</td>\n",
       "      <td>01</td>\n",
       "      <td>Ain</td>\n",
       "      <td>Bourg-en-Bresse</td>\n",
       "      <td>Beaupont</td>\n",
       "      <td>01270</td>\n",
       "      <td>5.266667</td>\n",
       "    </tr>\n",
       "    <tr>\n",
       "      <th>2</th>\n",
       "      <td>Sud-Est</td>\n",
       "      <td>Rhône-Alpes</td>\n",
       "      <td>Lyon</td>\n",
       "      <td>01</td>\n",
       "      <td>Ain</td>\n",
       "      <td>Bourg-en-Bresse</td>\n",
       "      <td>Bény</td>\n",
       "      <td>01370</td>\n",
       "      <td>5.283333</td>\n",
       "    </tr>\n",
       "    <tr>\n",
       "      <th>3</th>\n",
       "      <td>Sud-Est</td>\n",
       "      <td>Rhône-Alpes</td>\n",
       "      <td>Lyon</td>\n",
       "      <td>01</td>\n",
       "      <td>Ain</td>\n",
       "      <td>Bourg-en-Bresse</td>\n",
       "      <td>Béreyziat</td>\n",
       "      <td>01340</td>\n",
       "      <td>5.05</td>\n",
       "    </tr>\n",
       "    <tr>\n",
       "      <th>4</th>\n",
       "      <td>Sud-Est</td>\n",
       "      <td>Rhône-Alpes</td>\n",
       "      <td>Lyon</td>\n",
       "      <td>01</td>\n",
       "      <td>Ain</td>\n",
       "      <td>Bourg-en-Bresse</td>\n",
       "      <td>Bohas-Meyriat-Rignat</td>\n",
       "      <td>01250</td>\n",
       "      <td>5.4</td>\n",
       "    </tr>\n",
       "  </tbody>\n",
       "</table>\n",
       "</div>"
      ],
      "text/plain": [
       "  EU_circo   nom_région chef.lieu_région numéro_département nom_département  \\\n",
       "0  Sud-Est  Rhône-Alpes             Lyon                 01             Ain   \n",
       "1  Sud-Est  Rhône-Alpes             Lyon                 01             Ain   \n",
       "2  Sud-Est  Rhône-Alpes             Lyon                 01             Ain   \n",
       "3  Sud-Est  Rhône-Alpes             Lyon                 01             Ain   \n",
       "4  Sud-Est  Rhône-Alpes             Lyon                 01             Ain   \n",
       "\n",
       "        préfecture           nom_commune codes_postaux longitude  \n",
       "0  Bourg-en-Bresse              Attignat         01340  5.166667  \n",
       "1  Bourg-en-Bresse              Beaupont         01270  5.266667  \n",
       "2  Bourg-en-Bresse                  Bény         01370  5.283333  \n",
       "3  Bourg-en-Bresse             Béreyziat         01340      5.05  \n",
       "4  Bourg-en-Bresse  Bohas-Meyriat-Rignat         01250       5.4  "
      ]
     },
     "execution_count": 10,
     "metadata": {},
     "output_type": "execute_result"
    }
   ],
   "source": [
    "geo_objects = geo.select_dtypes(include='object')\n",
    "\n",
    "geo_objects.head()"
   ]
  },
  {
   "cell_type": "markdown",
   "id": "03286ce1",
   "metadata": {},
   "source": [
    "**S'il semble normal que les numéros de département et les codes postaux soient des 'strings', il est douteux d'avoir les longitudes dans ce dataframe non numérique**"
   ]
  },
  {
   "cell_type": "markdown",
   "id": "17938b07",
   "metadata": {},
   "source": [
    "### Granularité des EU_circo ###"
   ]
  },
  {
   "cell_type": "code",
   "execution_count": 11,
   "id": "624e7045",
   "metadata": {},
   "outputs": [
    {
     "data": {
      "text/plain": [
       "Est              9034\n",
       "Nord-Ouest       7091\n",
       "Sud-Ouest        6880\n",
       "Ouest            4253\n",
       "Sud-Est          4225\n",
       "Centre           3911\n",
       "Île-de-France    1314\n",
       "Outre-Mer         132\n",
       "Name: EU_circo, dtype: int64"
      ]
     },
     "execution_count": 11,
     "metadata": {},
     "output_type": "execute_result"
    }
   ],
   "source": [
    "geo_objects.EU_circo.value_counts(dropna=False)"
   ]
  },
  {
   "cell_type": "markdown",
   "id": "d33bc74c",
   "metadata": {},
   "source": [
    "### Granularité des chefs-lieux ###"
   ]
  },
  {
   "cell_type": "code",
   "execution_count": 12,
   "id": "5ce1782b",
   "metadata": {},
   "outputs": [
    {
     "data": {
      "text/plain": [
       "Toulouse                3028\n",
       "Lyon                    2890\n",
       "Metz                    2336\n",
       "Bordeaux                2300\n",
       "Amiens                  2295\n",
       "Dijon                   2050\n",
       "Châlons-en-Champagne    1954\n",
       "Orléans                 1849\n",
       "Caen                    1815\n",
       "Besançon                1787\n",
       "Lille                   1558\n",
       "Montpellier             1552\n",
       "Nantes                  1515\n",
       "Poitiers                1465\n",
       "Rouen                   1423\n",
       "Paris                   1314\n",
       "Clermont-Ferrand        1313\n",
       "Rennes                  1273\n",
       "Marseille                975\n",
       "Strasbourg               907\n",
       "Limoges                  749\n",
       "Ajaccio                  360\n",
       "Basse-Terre               34\n",
       "Fort-de-France            34\n",
       "Saint-Denis               24\n",
       "Cayenne                   22\n",
       "Mamoudzou                 14\n",
       "Saint-Pierre               4\n",
       "Name: chef.lieu_région, dtype: int64"
      ]
     },
     "execution_count": 12,
     "metadata": {},
     "output_type": "execute_result"
    }
   ],
   "source": [
    "geo_objects['chef.lieu_région'].value_counts(dropna=False)"
   ]
  },
  {
   "cell_type": "code",
   "execution_count": 24,
   "id": "a25f7197",
   "metadata": {},
   "outputs": [
    {
     "data": {
      "text/plain": [
       "28"
      ]
     },
     "execution_count": 24,
     "metadata": {},
     "output_type": "execute_result"
    }
   ],
   "source": [
    "len(np.unique(geo_objects['chef.lieu_région']))"
   ]
  },
  {
   "cell_type": "code",
   "execution_count": 25,
   "id": "efd9e82c",
   "metadata": {},
   "outputs": [
    {
     "data": {
      "text/plain": [
       "28"
      ]
     },
     "execution_count": 25,
     "metadata": {},
     "output_type": "execute_result"
    }
   ],
   "source": [
    "len(np.unique(geo_objects['nom_région']))"
   ]
  },
  {
   "cell_type": "markdown",
   "id": "ae2629ab",
   "metadata": {},
   "source": [
    "### Granularité des préfectures ###"
   ]
  },
  {
   "cell_type": "code",
   "execution_count": 14,
   "id": "cbceb3e2",
   "metadata": {
    "scrolled": true
   },
   "outputs": [
    {
     "data": {
      "text/plain": [
       "Arras           898\n",
       "Laon            816\n",
       "Amiens          783\n",
       "Rouen           747\n",
       "Metz            732\n",
       "               ... \n",
       "Saint-Denis      24\n",
       "Cayenne          22\n",
       "Paris            21\n",
       "Mamoudzou        14\n",
       "Saint-Pierre      4\n",
       "Name: préfecture, Length: 102, dtype: int64"
      ]
     },
     "execution_count": 14,
     "metadata": {},
     "output_type": "execute_result"
    }
   ],
   "source": [
    "geo_objects['préfecture'].value_counts(dropna=False)"
   ]
  },
  {
   "cell_type": "markdown",
   "id": "7fea7771",
   "metadata": {},
   "source": [
    "### Granularité des départements ###"
   ]
  },
  {
   "cell_type": "code",
   "execution_count": 22,
   "id": "e397e3ca",
   "metadata": {},
   "outputs": [
    {
     "data": {
      "text/plain": [
       "Pas-de-Calais               898\n",
       "Aisne                       816\n",
       "Somme                       783\n",
       "Seine-Maritime              747\n",
       "Moselle                     732\n",
       "                           ... \n",
       "Réunion                      24\n",
       "Guyane                       22\n",
       "Paris                        21\n",
       "Mayotte                      14\n",
       "Saint-Pierre-et-Miquelon      4\n",
       "Name: nom_département, Length: 102, dtype: int64"
      ]
     },
     "execution_count": 22,
     "metadata": {},
     "output_type": "execute_result"
    }
   ],
   "source": [
    "geo_objects['nom_département'].value_counts(dropna=False)"
   ]
  },
  {
   "cell_type": "code",
   "execution_count": 23,
   "id": "9e46ecfa",
   "metadata": {},
   "outputs": [
    {
     "data": {
      "text/plain": [
       "62     898\n",
       "02     816\n",
       "80     783\n",
       "76     747\n",
       "57     732\n",
       "      ... \n",
       "974     24\n",
       "973     22\n",
       "75      21\n",
       "976     14\n",
       "975      4\n",
       "Name: numéro_département, Length: 102, dtype: int64"
      ]
     },
     "execution_count": 23,
     "metadata": {},
     "output_type": "execute_result"
    }
   ],
   "source": [
    "geo_objects['numéro_département'].value_counts(dropna=False)"
   ]
  },
  {
   "cell_type": "markdown",
   "id": "a1ecb3b9",
   "metadata": {},
   "source": [
    "### Granularité des communes ###"
   ]
  },
  {
   "cell_type": "code",
   "execution_count": 20,
   "id": "0b2cdd91",
   "metadata": {},
   "outputs": [
    {
     "data": {
      "text/plain": [
       "Paris                          21\n",
       "Sainte-Colombe                 14\n",
       "Saint-Sauveur                  12\n",
       "Beaulieu                       11\n",
       "Sainte-Marie                   11\n",
       "                               ..\n",
       "Saint-Elix-le-Château           1\n",
       "Saint-Bertrand-de-Comminges     1\n",
       "Saint-Béat                      1\n",
       "Saint-Aventin                   1\n",
       "TSINGONI                        1\n",
       "Name: nom_commune, Length: 34142, dtype: int64"
      ]
     },
     "execution_count": 20,
     "metadata": {},
     "output_type": "execute_result"
    }
   ],
   "source": [
    "geo_objects['nom_commune'].value_counts(dropna=False)"
   ]
  },
  {
   "cell_type": "markdown",
   "id": "63862456",
   "metadata": {},
   "source": [
    "### Des NaN ? ###"
   ]
  },
  {
   "cell_type": "code",
   "execution_count": 27,
   "id": "a05873b6",
   "metadata": {},
   "outputs": [
    {
     "data": {
      "text/plain": [
       "EU_circo                 0\n",
       "nom_région               0\n",
       "chef.lieu_région         0\n",
       "numéro_département       0\n",
       "nom_département          0\n",
       "préfecture               0\n",
       "nom_commune              0\n",
       "codes_postaux            0\n",
       "longitude             2841\n",
       "dtype: int64"
      ]
     },
     "execution_count": 27,
     "metadata": {},
     "output_type": "execute_result"
    }
   ],
   "source": [
    "geo_objects.isna().sum()"
   ]
  },
  {
   "cell_type": "code",
   "execution_count": 28,
   "id": "dea0cc96",
   "metadata": {},
   "outputs": [
    {
     "data": {
      "text/plain": [
       "code_région                  0\n",
       "numéro_circonscription       0\n",
       "code_insee                   0\n",
       "latitude                  2929\n",
       "éloignement               2962\n",
       "dtype: int64"
      ]
     },
     "execution_count": 28,
     "metadata": {},
     "output_type": "execute_result"
    }
   ],
   "source": [
    "geo_numbers.isna().sum()"
   ]
  }
 ],
 "metadata": {
  "kernelspec": {
   "display_name": "Python 3 (ipykernel)",
   "language": "python",
   "name": "python3"
  },
  "language_info": {
   "codemirror_mode": {
    "name": "ipython",
    "version": 3
   },
   "file_extension": ".py",
   "mimetype": "text/x-python",
   "name": "python",
   "nbconvert_exporter": "python",
   "pygments_lexer": "ipython3",
   "version": "3.9.13"
  }
 },
 "nbformat": 4,
 "nbformat_minor": 5
}
