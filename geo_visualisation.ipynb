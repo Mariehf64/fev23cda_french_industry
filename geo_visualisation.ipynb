{
 "cells": [
  {
   "cell_type": "code",
   "execution_count": 3,
   "id": "0fa5edf6",
   "metadata": {},
   "outputs": [
    {
     "name": "stdout",
     "output_type": "stream",
     "text": [
      "Collecting geopandas\n",
      "  Downloading geopandas-0.13.2-py3-none-any.whl (1.1 MB)\n",
      "     ---------------------------------------- 1.1/1.1 MB 13.9 MB/s eta 0:00:00\n",
      "Collecting pyproj>=3.0.1\n",
      "  Downloading pyproj-3.5.0-cp39-cp39-win_amd64.whl (5.1 MB)\n",
      "     ---------------------------------------- 5.1/5.1 MB 32.6 MB/s eta 0:00:00\n",
      "Collecting fiona>=1.8.19\n",
      "  Downloading Fiona-1.9.4.post1-cp39-cp39-win_amd64.whl (22.7 MB)\n",
      "     --------------------------------------- 22.7/22.7 MB 72.5 MB/s eta 0:00:00\n",
      "Collecting shapely>=1.7.1\n",
      "  Downloading shapely-2.0.1-cp39-cp39-win_amd64.whl (1.4 MB)\n",
      "     ---------------------------------------- 1.4/1.4 MB 90.6 MB/s eta 0:00:00\n",
      "Requirement already satisfied: pandas>=1.1.0 in c:\\users\\marie\\anaconda3\\lib\\site-packages (from geopandas) (1.4.4)\n",
      "Requirement already satisfied: packaging in c:\\users\\marie\\anaconda3\\lib\\site-packages (from geopandas) (21.3)\n",
      "Requirement already satisfied: six in c:\\users\\marie\\anaconda3\\lib\\site-packages (from fiona>=1.8.19->geopandas) (1.16.0)\n",
      "Requirement already satisfied: attrs>=19.2.0 in c:\\users\\marie\\anaconda3\\lib\\site-packages (from fiona>=1.8.19->geopandas) (21.4.0)\n",
      "Requirement already satisfied: importlib-metadata in c:\\users\\marie\\anaconda3\\lib\\site-packages (from fiona>=1.8.19->geopandas) (4.11.3)\n",
      "Requirement already satisfied: click~=8.0 in c:\\users\\marie\\anaconda3\\lib\\site-packages (from fiona>=1.8.19->geopandas) (8.0.4)\n",
      "Requirement already satisfied: certifi in c:\\users\\marie\\anaconda3\\lib\\site-packages (from fiona>=1.8.19->geopandas) (2022.9.14)\n",
      "Collecting cligj>=0.5\n",
      "  Downloading cligj-0.7.2-py3-none-any.whl (7.1 kB)\n",
      "Collecting click-plugins>=1.0\n",
      "  Downloading click_plugins-1.1.1-py2.py3-none-any.whl (7.5 kB)\n",
      "Requirement already satisfied: python-dateutil>=2.8.1 in c:\\users\\marie\\anaconda3\\lib\\site-packages (from pandas>=1.1.0->geopandas) (2.8.2)\n",
      "Requirement already satisfied: pytz>=2020.1 in c:\\users\\marie\\anaconda3\\lib\\site-packages (from pandas>=1.1.0->geopandas) (2022.1)\n",
      "Requirement already satisfied: numpy>=1.18.5 in c:\\users\\marie\\anaconda3\\lib\\site-packages (from pandas>=1.1.0->geopandas) (1.21.5)\n",
      "Requirement already satisfied: pyparsing!=3.0.5,>=2.0.2 in c:\\users\\marie\\anaconda3\\lib\\site-packages (from packaging->geopandas) (3.0.9)\n",
      "Requirement already satisfied: colorama in c:\\users\\marie\\anaconda3\\lib\\site-packages (from click~=8.0->fiona>=1.8.19->geopandas) (0.4.5)\n",
      "Requirement already satisfied: zipp>=0.5 in c:\\users\\marie\\anaconda3\\lib\\site-packages (from importlib-metadata->fiona>=1.8.19->geopandas) (3.8.0)\n",
      "Installing collected packages: shapely, pyproj, cligj, click-plugins, fiona, geopandas\n",
      "Successfully installed click-plugins-1.1.1 cligj-0.7.2 fiona-1.9.4.post1 geopandas-0.13.2 pyproj-3.5.0 shapely-2.0.1\n",
      "Note: you may need to restart the kernel to use updated packages.\n"
     ]
    }
   ],
   "source": [
    "%pip install geopandas"
   ]
  },
  {
   "cell_type": "code",
   "execution_count": 4,
   "id": "55734a52",
   "metadata": {},
   "outputs": [],
   "source": [
    "#Importation des packages nécessaire Geopandas\n",
    "import geopandas as gpd\n",
    "from shapely.geometry import Point \n",
    "%matplotlib inline"
   ]
  },
  {
   "cell_type": "code",
   "execution_count": null,
   "id": "897216b9",
   "metadata": {},
   "outputs": [],
   "source": [
    "#On ajoute la geometry au df\n",
    "points = salaires_moyens.apply(lambda row: Point(row.longitude, row.latitude), axis = 1)\n",
    "points"
   ]
  },
  {
   "cell_type": "code",
   "execution_count": null,
   "id": "78cd390b",
   "metadata": {},
   "outputs": [],
   "source": [
    "#Transformation du df en geodataframe\n",
    "gdf = gpd.GeoDataFrame(salaires_moyens, geometry = points)\n",
    "#On spécifie que nous avons une colonne latitude/longitude\n",
    "gdf.crs = {'init': 'epsg:4326'}"
   ]
  },
  {
   "cell_type": "code",
   "execution_count": null,
   "id": "b2c47ad6",
   "metadata": {},
   "outputs": [],
   "source": [
    "#Distribution du salaire moyen des femmes en France \n",
    "gdf.plot(gdf['salaire_moyen_femmes'], legend = 'True', s=15, figsize =(10,10) )"
   ]
  },
  {
   "cell_type": "code",
   "execution_count": null,
   "id": "dd133f25",
   "metadata": {},
   "outputs": [],
   "source": [
    "gdf.plot(gdf['ecart_salaire_hommes_femmes'], legend = 'True', cmap = 'plasma', s = 15, figsize =(10,10) )"
   ]
  },
  {
   "cell_type": "code",
   "execution_count": 5,
   "id": "a348a3ac",
   "metadata": {},
   "outputs": [],
   "source": [
    "import folium"
   ]
  },
  {
   "cell_type": "code",
   "execution_count": null,
   "id": "b9e77200",
   "metadata": {},
   "outputs": [],
   "source": [
    "# Création de notre carte avec les coordonnées de la France.\n",
    "m = folium.Map(\n",
    "            location=[46.8534, 2.3488],\n",
    "            zoom_start=6 )\n",
    "# Un bel objet data qui est demandé par Choropleth.\n",
    "dataset = salaires_moyens\n",
    "\n",
    "folium.Choropleth(\n",
    "columns=['nom_dep','ecart_salaire_hommes_femmes'],\n",
    "data=dataset,\n",
    "fill_color='Greens',\n",
    "fill_opacity=0.4,\n",
    "key_on='feature.properties.nom',\n",
    "legend_name='Ecart salaires hommes_femmes',\n",
    "line_opacity=0.2,\n",
    "    geo_data='departements.geojson',\n",
    "    highlight=True,\n",
    "    name='Ecart salarial homme/femmes',\n",
    ").add_to(m)\n",
    "\n",
    "folium.LayerControl().add_to(m)\n",
    "m"
   ]
  }
 ],
 "metadata": {
  "kernelspec": {
   "display_name": "Python 3 (ipykernel)",
   "language": "python",
   "name": "python3"
  },
  "language_info": {
   "codemirror_mode": {
    "name": "ipython",
    "version": 3
   },
   "file_extension": ".py",
   "mimetype": "text/x-python",
   "name": "python",
   "nbconvert_exporter": "python",
   "pygments_lexer": "ipython3",
   "version": "3.9.13"
  }
 },
 "nbformat": 4,
 "nbformat_minor": 5
}
