{
  "nbformat": 4,
  "nbformat_minor": 0,
  "metadata": {
    "colab": {
      "provenance": [],
      "authorship_tag": "ABX9TyPa5o1Sq7ShaWZon7zPGrIg",
      "include_colab_link": true
    },
    "kernelspec": {
      "name": "python3",
      "display_name": "Python 3"
    },
    "language_info": {
      "name": "python"
    }
  },
  "cells": [
    {
      "cell_type": "markdown",
      "metadata": {
        "id": "view-in-github",
        "colab_type": "text"
      },
      "source": [
        "<a href=\"https://colab.research.google.com/github/Mariehf64/fev23cda_french_industry/blob/EDA_Dominique/EDA__net_salary_per_town_categories.ipynb\" target=\"_parent\"><img src=\"https://colab.research.google.com/assets/colab-badge.svg\" alt=\"Open In Colab\"/></a>"
      ]
    },
    {
      "cell_type": "code",
      "execution_count": 1,
      "metadata": {
        "id": "BJm2DEt2-O11"
      },
      "outputs": [],
      "source": [
        "# import librairies\n",
        "import pandas as pd\n",
        "import numpy as np\n",
        "import matplotlib.pyplot as plt"
      ]
    },
    {
      "cell_type": "code",
      "source": [
        " # import des données\n",
        "\n",
        "source=pd.read_csv('/content/net_salary_per_town_categories.csv')\n",
        "df=source.copy()"
      ],
      "metadata": {
        "id": "iEoUkv5t_QkA"
      },
      "execution_count": 2,
      "outputs": []
    },
    {
      "cell_type": "code",
      "source": [
        "# première visualisation\n",
        "df.head()"
      ],
      "metadata": {
        "colab": {
          "base_uri": "https://localhost:8080/",
          "height": 235
        },
        "id": "Jmg40EPT_c7U",
        "outputId": "a0ca6ab9-d521-43aa-d8c7-39b585030986"
      },
      "execution_count": 3,
      "outputs": [
        {
          "output_type": "execute_result",
          "data": {
            "text/plain": [
              "  CODGEO             LIBGEO  SNHM14  SNHMC14  SNHMP14  SNHME14  SNHMO14  \\\n",
              "0  01004  Ambérieu-en-Bugey    13.7     24.2     15.5     10.3     11.2   \n",
              "1  01007           Ambronay    13.5     22.1     14.7     10.7     11.4   \n",
              "2  01014             Arbent    13.5     27.6     15.6     11.1     11.1   \n",
              "3  01024           Attignat    12.9     21.8     14.1     11.0     11.3   \n",
              "4  01025      Bâgé-la-Ville    13.0     22.8     14.1     10.5     11.1   \n",
              "\n",
              "   SNHMF14  SNHMFC14  SNHMFP14  ...  SNHMHO14  SNHM1814  SNHM2614  SNHM5014  \\\n",
              "0     11.6      19.1      13.2  ...      11.6      10.5      13.7      16.1   \n",
              "1     11.9      19.0      13.3  ...      11.7       9.8      13.8      14.6   \n",
              "2     10.9      19.5      11.7  ...      11.8       9.3      13.3      16.0   \n",
              "3     11.4      19.0      13.0  ...      11.6       9.6      12.9      14.2   \n",
              "4     11.6      19.4      13.6  ...      11.4       9.4      12.8      15.2   \n",
              "\n",
              "   SNHMF1814  SNHMF2614  SNHMF5014  SNHMH1814  SNHMH2614  SNHMH5014  \n",
              "0        9.7       11.8       12.5       11.0       14.9       18.6  \n",
              "1        9.2       12.2       12.5       10.2       14.9       16.4  \n",
              "2        8.9       10.6       12.5        9.6       15.1       18.6  \n",
              "3        9.3       11.4       12.2        9.7       13.8       15.9  \n",
              "4        9.0       11.8       12.3        9.7       13.4       16.9  \n",
              "\n",
              "[5 rows x 26 columns]"
            ],
            "text/html": [
              "\n",
              "  <div id=\"df-28e3129b-d0e2-47e6-bebe-0870f998a3cf\">\n",
              "    <div class=\"colab-df-container\">\n",
              "      <div>\n",
              "<style scoped>\n",
              "    .dataframe tbody tr th:only-of-type {\n",
              "        vertical-align: middle;\n",
              "    }\n",
              "\n",
              "    .dataframe tbody tr th {\n",
              "        vertical-align: top;\n",
              "    }\n",
              "\n",
              "    .dataframe thead th {\n",
              "        text-align: right;\n",
              "    }\n",
              "</style>\n",
              "<table border=\"1\" class=\"dataframe\">\n",
              "  <thead>\n",
              "    <tr style=\"text-align: right;\">\n",
              "      <th></th>\n",
              "      <th>CODGEO</th>\n",
              "      <th>LIBGEO</th>\n",
              "      <th>SNHM14</th>\n",
              "      <th>SNHMC14</th>\n",
              "      <th>SNHMP14</th>\n",
              "      <th>SNHME14</th>\n",
              "      <th>SNHMO14</th>\n",
              "      <th>SNHMF14</th>\n",
              "      <th>SNHMFC14</th>\n",
              "      <th>SNHMFP14</th>\n",
              "      <th>...</th>\n",
              "      <th>SNHMHO14</th>\n",
              "      <th>SNHM1814</th>\n",
              "      <th>SNHM2614</th>\n",
              "      <th>SNHM5014</th>\n",
              "      <th>SNHMF1814</th>\n",
              "      <th>SNHMF2614</th>\n",
              "      <th>SNHMF5014</th>\n",
              "      <th>SNHMH1814</th>\n",
              "      <th>SNHMH2614</th>\n",
              "      <th>SNHMH5014</th>\n",
              "    </tr>\n",
              "  </thead>\n",
              "  <tbody>\n",
              "    <tr>\n",
              "      <th>0</th>\n",
              "      <td>01004</td>\n",
              "      <td>Ambérieu-en-Bugey</td>\n",
              "      <td>13.7</td>\n",
              "      <td>24.2</td>\n",
              "      <td>15.5</td>\n",
              "      <td>10.3</td>\n",
              "      <td>11.2</td>\n",
              "      <td>11.6</td>\n",
              "      <td>19.1</td>\n",
              "      <td>13.2</td>\n",
              "      <td>...</td>\n",
              "      <td>11.6</td>\n",
              "      <td>10.5</td>\n",
              "      <td>13.7</td>\n",
              "      <td>16.1</td>\n",
              "      <td>9.7</td>\n",
              "      <td>11.8</td>\n",
              "      <td>12.5</td>\n",
              "      <td>11.0</td>\n",
              "      <td>14.9</td>\n",
              "      <td>18.6</td>\n",
              "    </tr>\n",
              "    <tr>\n",
              "      <th>1</th>\n",
              "      <td>01007</td>\n",
              "      <td>Ambronay</td>\n",
              "      <td>13.5</td>\n",
              "      <td>22.1</td>\n",
              "      <td>14.7</td>\n",
              "      <td>10.7</td>\n",
              "      <td>11.4</td>\n",
              "      <td>11.9</td>\n",
              "      <td>19.0</td>\n",
              "      <td>13.3</td>\n",
              "      <td>...</td>\n",
              "      <td>11.7</td>\n",
              "      <td>9.8</td>\n",
              "      <td>13.8</td>\n",
              "      <td>14.6</td>\n",
              "      <td>9.2</td>\n",
              "      <td>12.2</td>\n",
              "      <td>12.5</td>\n",
              "      <td>10.2</td>\n",
              "      <td>14.9</td>\n",
              "      <td>16.4</td>\n",
              "    </tr>\n",
              "    <tr>\n",
              "      <th>2</th>\n",
              "      <td>01014</td>\n",
              "      <td>Arbent</td>\n",
              "      <td>13.5</td>\n",
              "      <td>27.6</td>\n",
              "      <td>15.6</td>\n",
              "      <td>11.1</td>\n",
              "      <td>11.1</td>\n",
              "      <td>10.9</td>\n",
              "      <td>19.5</td>\n",
              "      <td>11.7</td>\n",
              "      <td>...</td>\n",
              "      <td>11.8</td>\n",
              "      <td>9.3</td>\n",
              "      <td>13.3</td>\n",
              "      <td>16.0</td>\n",
              "      <td>8.9</td>\n",
              "      <td>10.6</td>\n",
              "      <td>12.5</td>\n",
              "      <td>9.6</td>\n",
              "      <td>15.1</td>\n",
              "      <td>18.6</td>\n",
              "    </tr>\n",
              "    <tr>\n",
              "      <th>3</th>\n",
              "      <td>01024</td>\n",
              "      <td>Attignat</td>\n",
              "      <td>12.9</td>\n",
              "      <td>21.8</td>\n",
              "      <td>14.1</td>\n",
              "      <td>11.0</td>\n",
              "      <td>11.3</td>\n",
              "      <td>11.4</td>\n",
              "      <td>19.0</td>\n",
              "      <td>13.0</td>\n",
              "      <td>...</td>\n",
              "      <td>11.6</td>\n",
              "      <td>9.6</td>\n",
              "      <td>12.9</td>\n",
              "      <td>14.2</td>\n",
              "      <td>9.3</td>\n",
              "      <td>11.4</td>\n",
              "      <td>12.2</td>\n",
              "      <td>9.7</td>\n",
              "      <td>13.8</td>\n",
              "      <td>15.9</td>\n",
              "    </tr>\n",
              "    <tr>\n",
              "      <th>4</th>\n",
              "      <td>01025</td>\n",
              "      <td>Bâgé-la-Ville</td>\n",
              "      <td>13.0</td>\n",
              "      <td>22.8</td>\n",
              "      <td>14.1</td>\n",
              "      <td>10.5</td>\n",
              "      <td>11.1</td>\n",
              "      <td>11.6</td>\n",
              "      <td>19.4</td>\n",
              "      <td>13.6</td>\n",
              "      <td>...</td>\n",
              "      <td>11.4</td>\n",
              "      <td>9.4</td>\n",
              "      <td>12.8</td>\n",
              "      <td>15.2</td>\n",
              "      <td>9.0</td>\n",
              "      <td>11.8</td>\n",
              "      <td>12.3</td>\n",
              "      <td>9.7</td>\n",
              "      <td>13.4</td>\n",
              "      <td>16.9</td>\n",
              "    </tr>\n",
              "  </tbody>\n",
              "</table>\n",
              "<p>5 rows × 26 columns</p>\n",
              "</div>\n",
              "      <button class=\"colab-df-convert\" onclick=\"convertToInteractive('df-28e3129b-d0e2-47e6-bebe-0870f998a3cf')\"\n",
              "              title=\"Convert this dataframe to an interactive table.\"\n",
              "              style=\"display:none;\">\n",
              "        \n",
              "  <svg xmlns=\"http://www.w3.org/2000/svg\" height=\"24px\"viewBox=\"0 0 24 24\"\n",
              "       width=\"24px\">\n",
              "    <path d=\"M0 0h24v24H0V0z\" fill=\"none\"/>\n",
              "    <path d=\"M18.56 5.44l.94 2.06.94-2.06 2.06-.94-2.06-.94-.94-2.06-.94 2.06-2.06.94zm-11 1L8.5 8.5l.94-2.06 2.06-.94-2.06-.94L8.5 2.5l-.94 2.06-2.06.94zm10 10l.94 2.06.94-2.06 2.06-.94-2.06-.94-.94-2.06-.94 2.06-2.06.94z\"/><path d=\"M17.41 7.96l-1.37-1.37c-.4-.4-.92-.59-1.43-.59-.52 0-1.04.2-1.43.59L10.3 9.45l-7.72 7.72c-.78.78-.78 2.05 0 2.83L4 21.41c.39.39.9.59 1.41.59.51 0 1.02-.2 1.41-.59l7.78-7.78 2.81-2.81c.8-.78.8-2.07 0-2.86zM5.41 20L4 18.59l7.72-7.72 1.47 1.35L5.41 20z\"/>\n",
              "  </svg>\n",
              "      </button>\n",
              "      \n",
              "  <style>\n",
              "    .colab-df-container {\n",
              "      display:flex;\n",
              "      flex-wrap:wrap;\n",
              "      gap: 12px;\n",
              "    }\n",
              "\n",
              "    .colab-df-convert {\n",
              "      background-color: #E8F0FE;\n",
              "      border: none;\n",
              "      border-radius: 50%;\n",
              "      cursor: pointer;\n",
              "      display: none;\n",
              "      fill: #1967D2;\n",
              "      height: 32px;\n",
              "      padding: 0 0 0 0;\n",
              "      width: 32px;\n",
              "    }\n",
              "\n",
              "    .colab-df-convert:hover {\n",
              "      background-color: #E2EBFA;\n",
              "      box-shadow: 0px 1px 2px rgba(60, 64, 67, 0.3), 0px 1px 3px 1px rgba(60, 64, 67, 0.15);\n",
              "      fill: #174EA6;\n",
              "    }\n",
              "\n",
              "    [theme=dark] .colab-df-convert {\n",
              "      background-color: #3B4455;\n",
              "      fill: #D2E3FC;\n",
              "    }\n",
              "\n",
              "    [theme=dark] .colab-df-convert:hover {\n",
              "      background-color: #434B5C;\n",
              "      box-shadow: 0px 1px 3px 1px rgba(0, 0, 0, 0.15);\n",
              "      filter: drop-shadow(0px 1px 2px rgba(0, 0, 0, 0.3));\n",
              "      fill: #FFFFFF;\n",
              "    }\n",
              "  </style>\n",
              "\n",
              "      <script>\n",
              "        const buttonEl =\n",
              "          document.querySelector('#df-28e3129b-d0e2-47e6-bebe-0870f998a3cf button.colab-df-convert');\n",
              "        buttonEl.style.display =\n",
              "          google.colab.kernel.accessAllowed ? 'block' : 'none';\n",
              "\n",
              "        async function convertToInteractive(key) {\n",
              "          const element = document.querySelector('#df-28e3129b-d0e2-47e6-bebe-0870f998a3cf');\n",
              "          const dataTable =\n",
              "            await google.colab.kernel.invokeFunction('convertToInteractive',\n",
              "                                                     [key], {});\n",
              "          if (!dataTable) return;\n",
              "\n",
              "          const docLinkHtml = 'Like what you see? Visit the ' +\n",
              "            '<a target=\"_blank\" href=https://colab.research.google.com/notebooks/data_table.ipynb>data table notebook</a>'\n",
              "            + ' to learn more about interactive tables.';\n",
              "          element.innerHTML = '';\n",
              "          dataTable['output_type'] = 'display_data';\n",
              "          await google.colab.output.renderOutput(dataTable, element);\n",
              "          const docLink = document.createElement('div');\n",
              "          docLink.innerHTML = docLinkHtml;\n",
              "          element.appendChild(docLink);\n",
              "        }\n",
              "      </script>\n",
              "    </div>\n",
              "  </div>\n",
              "  "
            ]
          },
          "metadata": {},
          "execution_count": 3
        }
      ]
    },
    {
      "cell_type": "markdown",
      "source": [
        "**DESCRIPTION DES VARIABLES**\n",
        "\n",
        "CODGEO : ID géographique de la ville<br>\n",
        "LIBGEO : nom de la ville<br>\n",
        "SNHM14 : salaire net moyen<br>\n",
        "SNHMC14 : salaire net moyen par heure pour les cadres<br>\n",
        "SNHMP14 : salaire net moyen par heure pour un cadre moyen<br>\n",
        "SNHME14 : salaire net moyen par heure pour l'employé<br>\n",
        "SNHMO14 :  salaire net moyen par heure pour le travailleur<br>\n",
        "SNHMF14 : salaire net moyen pour les femmes<br>\n",
        "SNHMFC14 : salaire net moyen par heure pour les cadres féminins<br>\n",
        "SNHMFP14 : salaire net moyen par heure pour les cadres moyens féminins<br>\n",
        "SNHMFE14 : salaire net moyen par heure pour une employée <br>\n",
        "SNHMFO14 : salaire net moyen par heure pour une travailleuse <br>\n",
        "SNHMH14 : salaire net moyen pour un homme<br>\n",
        "SNHMHC14 : salaire net moyen par heure pour un cadre masculin<br>\n",
        "SNHMHP14 : salaire net moyen par heure pour les cadres moyens masculins<br>\n",
        "SNHMHE14 : salaire net moyen par heure pour un employé masculin<br>\n",
        "SNHMHO14 : salaire net moyen par heure pour un travailleur masculin<br>\n",
        "SNHM1814 : salaire net moyen par heure pour les 18-25 ans<br>\n",
        "SNHM2614 : salaire net moyen par heure pour les 26-50 ans<br>\n",
        "SNHM5014 : salaire net moyen par heure pour les >50 ans<br>\n",
        "SNHMF1814 : salaire net moyen par heure pour les femmes âgées de 18 à 25 ans<br>\n",
        "SNHMF2614 : salaire net moyen par heure pour les femmes âgées de 26 à 50 ans<br>\n",
        "SNHMF5014 : salaire net moyen par heure pour les femmes de plus de 50 ans<br>\n",
        "SNHMH1814 : salaire net moyen par heure pour les hommes âgés de 18 à 25 ans<br>\n",
        "SNHMH2614 : salaire net moyen par heure pour les hommes âgés de 26 à 50 ans<br>\n",
        "SNHMH5014 : salaire net moyen par heure pour les hommes de plus de 50 ans<br>\n"
      ],
      "metadata": {
        "id": "xbIxYto7_s3t"
      }
    },
    {
      "cell_type": "markdown",
      "source": [
        "**DOUBLONS**"
      ],
      "metadata": {
        "id": "uw63PJieAIql"
      }
    },
    {
      "cell_type": "code",
      "source": [
        "df.duplicated().sum()"
      ],
      "metadata": {
        "colab": {
          "base_uri": "https://localhost:8080/"
        },
        "id": "Trj0lagfAMVD",
        "outputId": "332a78b4-0c53-42a3-d60c-a40f77c97d42"
      },
      "execution_count": 4,
      "outputs": [
        {
          "output_type": "execute_result",
          "data": {
            "text/plain": [
              "0"
            ]
          },
          "metadata": {},
          "execution_count": 4
        }
      ]
    },
    {
      "cell_type": "markdown",
      "source": [
        "**NAN**"
      ],
      "metadata": {
        "id": "AcBIHRUiATJc"
      }
    },
    {
      "cell_type": "code",
      "source": [
        "df.isna().sum()"
      ],
      "metadata": {
        "colab": {
          "base_uri": "https://localhost:8080/"
        },
        "id": "_DLv0CknAWK-",
        "outputId": "c4cca155-cb4f-4889-9413-904baddf49e0"
      },
      "execution_count": 5,
      "outputs": [
        {
          "output_type": "execute_result",
          "data": {
            "text/plain": [
              "CODGEO       0\n",
              "LIBGEO       0\n",
              "SNHM14       0\n",
              "SNHMC14      0\n",
              "SNHMP14      0\n",
              "SNHME14      0\n",
              "SNHMO14      0\n",
              "SNHMF14      0\n",
              "SNHMFC14     0\n",
              "SNHMFP14     0\n",
              "SNHMFE14     0\n",
              "SNHMFO14     0\n",
              "SNHMH14      0\n",
              "SNHMHC14     0\n",
              "SNHMHP14     0\n",
              "SNHMHE14     0\n",
              "SNHMHO14     0\n",
              "SNHM1814     0\n",
              "SNHM2614     0\n",
              "SNHM5014     0\n",
              "SNHMF1814    0\n",
              "SNHMF2614    0\n",
              "SNHMF5014    0\n",
              "SNHMH1814    0\n",
              "SNHMH2614    0\n",
              "SNHMH5014    0\n",
              "dtype: int64"
            ]
          },
          "metadata": {},
          "execution_count": 5
        }
      ]
    },
    {
      "cell_type": "markdown",
      "source": [
        "**DTYPE**"
      ],
      "metadata": {
        "id": "7ZMM3ulfAiNO"
      }
    },
    {
      "cell_type": "code",
      "source": [
        "df.info()"
      ],
      "metadata": {
        "colab": {
          "base_uri": "https://localhost:8080/"
        },
        "id": "qFOOytBeAmNW",
        "outputId": "17817bdf-e4c2-494d-f204-f1093dee80d4"
      },
      "execution_count": 6,
      "outputs": [
        {
          "output_type": "stream",
          "name": "stdout",
          "text": [
            "<class 'pandas.core.frame.DataFrame'>\n",
            "RangeIndex: 5136 entries, 0 to 5135\n",
            "Data columns (total 26 columns):\n",
            " #   Column     Non-Null Count  Dtype  \n",
            "---  ------     --------------  -----  \n",
            " 0   CODGEO     5136 non-null   object \n",
            " 1   LIBGEO     5136 non-null   object \n",
            " 2   SNHM14     5136 non-null   float64\n",
            " 3   SNHMC14    5136 non-null   float64\n",
            " 4   SNHMP14    5136 non-null   float64\n",
            " 5   SNHME14    5136 non-null   float64\n",
            " 6   SNHMO14    5136 non-null   float64\n",
            " 7   SNHMF14    5136 non-null   float64\n",
            " 8   SNHMFC14   5136 non-null   float64\n",
            " 9   SNHMFP14   5136 non-null   float64\n",
            " 10  SNHMFE14   5136 non-null   float64\n",
            " 11  SNHMFO14   5136 non-null   float64\n",
            " 12  SNHMH14    5136 non-null   float64\n",
            " 13  SNHMHC14   5136 non-null   float64\n",
            " 14  SNHMHP14   5136 non-null   float64\n",
            " 15  SNHMHE14   5136 non-null   float64\n",
            " 16  SNHMHO14   5136 non-null   float64\n",
            " 17  SNHM1814   5136 non-null   float64\n",
            " 18  SNHM2614   5136 non-null   float64\n",
            " 19  SNHM5014   5136 non-null   float64\n",
            " 20  SNHMF1814  5136 non-null   float64\n",
            " 21  SNHMF2614  5136 non-null   float64\n",
            " 22  SNHMF5014  5136 non-null   float64\n",
            " 23  SNHMH1814  5136 non-null   float64\n",
            " 24  SNHMH2614  5136 non-null   float64\n",
            " 25  SNHMH5014  5136 non-null   float64\n",
            "dtypes: float64(24), object(2)\n",
            "memory usage: 1.0+ MB\n"
          ]
        }
      ]
    },
    {
      "cell_type": "markdown",
      "source": [
        "**DISTIBUTION DES VARIABLES CATEGORIELLES**"
      ],
      "metadata": {
        "id": "qHP5jBNOAyhe"
      }
    },
    {
      "cell_type": "code",
      "source": [
        "df_cat=df.select_dtypes(include='object')\n",
        "rap_cat=df_cat.apply(lambda row : len(row.unique()))\n",
        "\n",
        "display(rap_cat)\n"
      ],
      "metadata": {
        "colab": {
          "base_uri": "https://localhost:8080/",
          "height": 72
        },
        "id": "yG-eqqZoA3av",
        "outputId": "7b3ff8c1-ca9a-4ae5-89b5-f2f9891b8f9f"
      },
      "execution_count": 17,
      "outputs": [
        {
          "output_type": "display_data",
          "data": {
            "text/plain": [
              "CODGEO    5136\n",
              "LIBGEO    5085\n",
              "dtype: int64"
            ]
          },
          "metadata": {}
        }
      ]
    },
    {
      "cell_type": "markdown",
      "source": [
        "nombre d'entrées ?????? \n",
        "36 000 commune en france, quelle couverture géographique ??"
      ],
      "metadata": {
        "id": "SxUg0dGiCyPw"
      }
    },
    {
      "cell_type": "markdown",
      "source": [
        "**DISTRIBUTION DES VARIABLES CONTINUES**"
      ],
      "metadata": {
        "id": "g4jRbGrODbC9"
      }
    },
    {
      "cell_type": "code",
      "source": [
        "df_cont=df.select_dtypes(include='float64')\n",
        "df_cont.boxplot(figsize=(30,5))\n",
        "plt.title('Distribution des variables continues')"
      ],
      "metadata": {
        "colab": {
          "base_uri": "https://localhost:8080/",
          "height": 397
        },
        "id": "LicgwTWODnZX",
        "outputId": "4cc41360-19e0-4b3a-d716-27ec8e16722f"
      },
      "execution_count": 25,
      "outputs": [
        {
          "output_type": "execute_result",
          "data": {
            "text/plain": [
              "Text(0.5, 1.0, 'Distribution des variables continues')"
            ]
          },
          "metadata": {},
          "execution_count": 25
        },
        {
          "output_type": "display_data",
          "data": {
            "text/plain": [
              "<Figure size 3000x500 with 1 Axes>"
            ],
            "image/png": "[encoded data removed]"
          },
          "metadata": {}
        }
      ]
    }
  ]
}