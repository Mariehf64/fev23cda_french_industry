{
 "cells": [
  {
   "cell_type": "markdown",
   "id": "50768e50",
   "metadata": {},
   "source": [
    "# Bibliotheques python"
   ]
  },
  {
   "cell_type": "code",
   "execution_count": 1,
   "id": "da3302b9",
   "metadata": {
    "scrolled": true
   },
   "outputs": [],
   "source": [
    "#bibliotheques python\n",
    "import pandas as pd\n",
    "import geopandas as gpd\n",
    "import numpy as np\n",
    "import matplotlib.pyplot as plt\n",
    "import seaborn as sns\n",
    "sns.set_theme()\n",
    "\n",
    "#élargissement de la visualisation des tableaux pandas\n",
    "pd.set_option('display.max_columns', None)\n",
    "\n",
    "#suppression des warnings\n",
    "import warnings\n",
    "warnings.filterwarnings('ignore')"
   ]
  },
  {
   "cell_type": "markdown",
   "id": "290b185a",
   "metadata": {},
   "source": [
    "# Création du dataframe"
   ]
  },
  {
   "cell_type": "code",
   "execution_count": 2,
   "id": "af3d1990",
   "metadata": {},
   "outputs": [],
   "source": [
    "# création du dataframe df à partir du fichier 'all_content_2020_v4'\n",
    "\n",
    "df=pd.read_csv('all_content_2020_v4.csv',na_values=['s','nd']) ## les valeurs 's' et 'nd' sont considérées comme des Nan"
   ]
  },
  {
   "cell_type": "markdown",
   "id": "d93d93b2",
   "metadata": {},
   "source": [
    "# Création des variables sociodémographiques"
   ]
  },
  {
   "cell_type": "code",
   "execution_count": 27,
   "id": "a95ea00d",
   "metadata": {},
   "outputs": [],
   "source": [
    "#SELECTION DES VARIABLES\n",
    "\n",
    "# 1) variables retenues pour qualifier l'age de la population : pyramide des ages\n",
    "\n",
    "age_population=['P19_POP','P19_POP1529','P19_POP3044','P19_POP4559','P19_POP6074','P19_POP7589']\n",
    "\n",
    "# 2) variables retenues pour qualifier la structure familiale de la population \n",
    "\n",
    "famille_population=['C19_MEN','C19_MENPSEUL','C19_MENCOUPAENF','C19_PMEN_MENCOUPSENF','C19_PMEN_MENCOUPAENF','C19_PMEN_MENFAMMONO']\n",
    "    "
   ]
  },
  {
   "cell_type": "code",
   "execution_count": 31,
   "id": "2692c07e",
   "metadata": {
    "scrolled": false
   },
   "outputs": [
    {
     "data": {
      "text/html": [
       "<div>\n",
       "<style scoped>\n",
       "    .dataframe tbody tr th:only-of-type {\n",
       "        vertical-align: middle;\n",
       "    }\n",
       "\n",
       "    .dataframe tbody tr th {\n",
       "        vertical-align: top;\n",
       "    }\n",
       "\n",
       "    .dataframe thead th {\n",
       "        text-align: right;\n",
       "    }\n",
       "</style>\n",
       "<table border=\"1\" class=\"dataframe\">\n",
       "  <thead>\n",
       "    <tr style=\"text-align: right;\">\n",
       "      <th></th>\n",
       "      <th>COD_VAR</th>\n",
       "      <th>LIB_VAR</th>\n",
       "      <th>LIB_VAR_LONG</th>\n",
       "    </tr>\n",
       "  </thead>\n",
       "  <tbody>\n",
       "    <tr>\n",
       "      <th>0</th>\n",
       "      <td>P19_POP</td>\n",
       "      <td>Population en 2019 (princ)</td>\n",
       "      <td>Population en 2019</td>\n",
       "    </tr>\n",
       "    <tr>\n",
       "      <th>2</th>\n",
       "      <td>P19_POP1529</td>\n",
       "      <td>Pop 15-29 ans en 2019 (princ)</td>\n",
       "      <td>Nombre de personnes de 15 à  29 ans en 2019</td>\n",
       "    </tr>\n",
       "    <tr>\n",
       "      <th>3</th>\n",
       "      <td>P19_POP3044</td>\n",
       "      <td>Pop 30-44 ans en 2019 (princ)</td>\n",
       "      <td>Nombre de personnes de 30 à  44 ans en 2019</td>\n",
       "    </tr>\n",
       "    <tr>\n",
       "      <th>4</th>\n",
       "      <td>P19_POP4559</td>\n",
       "      <td>Pop 45-59 ans en 2019 (princ)</td>\n",
       "      <td>Nombre de personnes de 45 à  59 ans en 2019</td>\n",
       "    </tr>\n",
       "    <tr>\n",
       "      <th>5</th>\n",
       "      <td>P19_POP6074</td>\n",
       "      <td>Pop 60-74 ans en 2019 (princ)</td>\n",
       "      <td>Nombre de personnes de 60 à  74 ans en 2019</td>\n",
       "    </tr>\n",
       "    <tr>\n",
       "      <th>6</th>\n",
       "      <td>P19_POP7589</td>\n",
       "      <td>Pop 75-89 ans en 2019 (princ)</td>\n",
       "      <td>Nombre de personnes de 75 à  89 ans en 2019</td>\n",
       "    </tr>\n",
       "    <tr>\n",
       "      <th>311</th>\n",
       "      <td>C19_MEN</td>\n",
       "      <td>Ménages en 2019 (compl)</td>\n",
       "      <td>Nombre de ménages en 2019</td>\n",
       "    </tr>\n",
       "    <tr>\n",
       "      <th>312</th>\n",
       "      <td>C19_MENPSEUL</td>\n",
       "      <td>Ménages 1 personne en 2019 (compl)</td>\n",
       "      <td>Nombre de ménages d'une personne en 2019</td>\n",
       "    </tr>\n",
       "    <tr>\n",
       "      <th>318</th>\n",
       "      <td>C19_MENCOUPAENF</td>\n",
       "      <td>Mén fam princ Couple avec enfant(s) en 2019 (c...</td>\n",
       "      <td>Nombre de ménages dont la famille principale e...</td>\n",
       "    </tr>\n",
       "    <tr>\n",
       "      <th>326</th>\n",
       "      <td>C19_PMEN_MENCOUPSENF</td>\n",
       "      <td>Pop mén fam princ Couple sans enfant en 2019 (...</td>\n",
       "      <td>Nombre de personnes des ménages dont la famill...</td>\n",
       "    </tr>\n",
       "    <tr>\n",
       "      <th>327</th>\n",
       "      <td>C19_PMEN_MENCOUPAENF</td>\n",
       "      <td>Pop mén fam princ Couple avec enfant(s) en 201...</td>\n",
       "      <td>Nombre de personnes des ménages dont la famill...</td>\n",
       "    </tr>\n",
       "    <tr>\n",
       "      <th>328</th>\n",
       "      <td>C19_PMEN_MENFAMMONO</td>\n",
       "      <td>Pop mén fam princ Famille mono en 2019 (compl)</td>\n",
       "      <td>Nombre de personnes des ménages dont la famill...</td>\n",
       "    </tr>\n",
       "  </tbody>\n",
       "</table>\n",
       "</div>"
      ],
      "text/plain": [
       "                  COD_VAR                                            LIB_VAR  \\\n",
       "0                 P19_POP                         Population en 2019 (princ)   \n",
       "2             P19_POP1529                      Pop 15-29 ans en 2019 (princ)   \n",
       "3             P19_POP3044                      Pop 30-44 ans en 2019 (princ)   \n",
       "4             P19_POP4559                      Pop 45-59 ans en 2019 (princ)   \n",
       "5             P19_POP6074                      Pop 60-74 ans en 2019 (princ)   \n",
       "6             P19_POP7589                      Pop 75-89 ans en 2019 (princ)   \n",
       "311               C19_MEN                            Ménages en 2019 (compl)   \n",
       "312          C19_MENPSEUL                 Ménages 1 personne en 2019 (compl)   \n",
       "318       C19_MENCOUPAENF  Mén fam princ Couple avec enfant(s) en 2019 (c...   \n",
       "326  C19_PMEN_MENCOUPSENF  Pop mén fam princ Couple sans enfant en 2019 (...   \n",
       "327  C19_PMEN_MENCOUPAENF  Pop mén fam princ Couple avec enfant(s) en 201...   \n",
       "328   C19_PMEN_MENFAMMONO     Pop mén fam princ Famille mono en 2019 (compl)   \n",
       "\n",
       "                                          LIB_VAR_LONG  \n",
       "0                                   Population en 2019  \n",
       "2          Nombre de personnes de 15 à  29 ans en 2019  \n",
       "3          Nombre de personnes de 30 à  44 ans en 2019  \n",
       "4          Nombre de personnes de 45 à  59 ans en 2019  \n",
       "5          Nombre de personnes de 60 à  74 ans en 2019  \n",
       "6          Nombre de personnes de 75 à  89 ans en 2019  \n",
       "311                          Nombre de ménages en 2019  \n",
       "312           Nombre de ménages d'une personne en 2019  \n",
       "318  Nombre de ménages dont la famille principale e...  \n",
       "326  Nombre de personnes des ménages dont la famill...  \n",
       "327  Nombre de personnes des ménages dont la famill...  \n",
       "328  Nombre de personnes des ménages dont la famill...  "
      ]
     },
     "execution_count": 31,
     "metadata": {},
     "output_type": "execute_result"
    }
   ],
   "source": [
    "# DESCRIPTION DES VARIABLES\n",
    "\n",
    "variables_df=pd.read_excel('meta_dossier_complet.xlsx')\n",
    "\n",
    "variables_df[['COD_VAR','LIB_VAR','LIB_VAR_LONG']][variables_df.COD_VAR.isin(age_population+famille_population)]\n"
   ]
  },
  {
   "cell_type": "code",
   "execution_count": 33,
   "id": "fcf75832",
   "metadata": {},
   "outputs": [
    {
     "name": "stdout",
     "output_type": "stream",
     "text": [
      "P19_POP        17\n",
      "P19_POP1529    17\n",
      "P19_POP3044    17\n",
      "P19_POP4559    17\n",
      "P19_POP6074    17\n",
      "P19_POP7589    17\n",
      "dtype: int64\n",
      "C19_MEN                 17\n",
      "C19_MENPSEUL            17\n",
      "C19_MENCOUPAENF         17\n",
      "C19_PMEN_MENCOUPSENF    17\n",
      "C19_PMEN_MENCOUPAENF    17\n",
      "C19_PMEN_MENFAMMONO     17\n",
      "dtype: int64\n"
     ]
    }
   ],
   "source": [
    "# COMPLETUDE DES VARIABLES\n",
    "\n",
    "# 1) variable pyramide des ages \n",
    "print(df[age_population].isna().sum())\n",
    "\n",
    "# 2) structure familliale \n",
    "\n",
    "print(df[famille_population].isna().sum())\n"
   ]
  },
  {
   "cell_type": "code",
   "execution_count": 37,
   "id": "26940a9a",
   "metadata": {},
   "outputs": [
    {
     "name": "stdout",
     "output_type": "stream",
     "text": [
      "R_P19_POP1529\n",
      "R_P19_POP3044\n",
      "R_P19_POP4559\n",
      "R_P19_POP6074\n",
      "R_P19_POP7589\n",
      "R_C19_MENPSEUL\n",
      "R_C19_MENCOUPSENF\n",
      "R_C19_MENCOUPAENF\n",
      "R_C19_MENFAMMONO\n"
     ]
    }
   ],
   "source": [
    "#CREATION DES RATIOS \n",
    "\n",
    "# afin de neutraliser le facteur \"taille de la population \" un ratio est créé pour chaque variable.\n",
    "\n",
    "# 1) variable pyramide des ages \n",
    "# liste de variables sans la variable population totale P19_POP, prise comme dénominateur commun\n",
    "age_population_bis=['P19_POP1529','P19_POP3044','P19_POP4559','P19_POP6074','P19_POP7589'] \n",
    "\n",
    "for i in age_population_bis :\n",
    "    y='R_'+i\n",
    "    df[y]=df[i]/df.P19_POP\n",
    "    print(y) # vérification \n",
    "    \n",
    "    \n",
    "# 2) Structure familliale \n",
    "# liste de variables sans le variable nombre de ménage total C19_MEN,prise comme dénominateur commun\n",
    "\n",
    "famille_population_bis=['C19_MENPSEUL','C19_MENCOUPSENF','C19_MENCOUPAENF','C19_MENFAMMONO']\n",
    "\n",
    "for i in famille_population_bis :\n",
    "    y='R_'+i\n",
    "    df[y]=df[i]/df.C19_MEN\n",
    "    print(y) # vérification       \n",
    "       "
   ]
  },
  {
   "cell_type": "code",
   "execution_count": 39,
   "id": "c3d1d944",
   "metadata": {
    "scrolled": true
   },
   "outputs": [
    {
     "name": "stdout",
     "output_type": "stream",
     "text": [
      "<class 'pandas.core.frame.DataFrame'>\n",
      "RangeIndex: 34955 entries, 0 to 34954\n",
      "Data columns (total 9 columns):\n",
      " #   Column             Non-Null Count  Dtype  \n",
      "---  ------             --------------  -----  \n",
      " 0   R_P19_POP1529      34932 non-null  float64\n",
      " 1   R_P19_POP3044      34932 non-null  float64\n",
      " 2   R_P19_POP4559      34932 non-null  float64\n",
      " 3   R_P19_POP6074      34932 non-null  float64\n",
      " 4   R_P19_POP7589      34932 non-null  float64\n",
      " 5   R_C19_MENPSEUL     34926 non-null  float64\n",
      " 6   R_C19_MENCOUPSENF  34926 non-null  float64\n",
      " 7   R_C19_MENCOUPAENF  34926 non-null  float64\n",
      " 8   R_C19_MENFAMMONO   34926 non-null  float64\n",
      "dtypes: float64(9)\n",
      "memory usage: 2.4 MB\n",
      "None\n"
     ]
    }
   ],
   "source": [
    "# VERIFICATION \n",
    "\n",
    "variables_sociodemographiques=['R_P19_POP1529','R_P19_POP3044','R_P19_POP4559',\n",
    "                               'R_P19_POP6074','R_P19_POP7589','R_C19_MENPSEUL',\n",
    "                               'R_C19_MENCOUPSENF','R_C19_MENCOUPAENF','R_C19_MENFAMMONO']\n",
    "\n",
    "\n",
    "print(df[variables_sociodemographiques].info())\n"
   ]
  }
 ],
 "metadata": {
  "kernelspec": {
   "display_name": "Python 3 (ipykernel)",
   "language": "python",
   "name": "python3"
  },
  "language_info": {
   "codemirror_mode": {
    "name": "ipython",
    "version": 3
   },
   "file_extension": ".py",
   "mimetype": "text/x-python",
   "name": "python",
   "nbconvert_exporter": "python",
   "pygments_lexer": "ipython3",
   "version": "3.11.4"
  }
 },
 "nbformat": 4,
 "nbformat_minor": 5
}
