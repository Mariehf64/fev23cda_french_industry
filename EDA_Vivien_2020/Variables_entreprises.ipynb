{
 "cells": [
  {
   "cell_type": "markdown",
   "id": "dfdcb358",
   "metadata": {},
   "source": [
    "## SELECTION DE 5 VARIABLES \"ENTREPRISES\" POUR LE DATASET FINAL ##"
   ]
  },
  {
   "cell_type": "markdown",
   "id": "b335dce0",
   "metadata": {},
   "source": [
    "Dans notre dataset, nous disposons de 738 variables dont 168 concernant les entreprises réparties entre deux thématiques principales déclinées par plusieurs sous-thèmes:\n",
    "\n",
    "- Démographie des entreprises\n",
    "- Caractèristiques des établissements\n",
    "\n",
    "Par entreprise, on distingue une [unité légale](https://www.insee.fr/fr/metadonnees/definition/c1044) d'un [établissement](https://www.insee.fr/fr/metadonnees/definition/c1377).\n",
    "\n",
    "Les établissements étant beaucoup plus représentatifs du tissu économique que les unités légales, qui peuvent finalement n'être que des simples boites aux lettres ou des auto-entrepreneurs, nous choisissons volontairement d'orienter le choix des variables vers des données concernant les établissements.\n",
    "\n",
    "Les 168 variables d'entreprises sont des déclinaisons des quantités d'entreprises sur une année par :\n",
    "   - activité\n",
    "   - taille\n",
    "   - effectif\n",
    "   - création\n",
    "   - [sphère](https://www.insee.fr/fr/metadonnees/definition/c1886#:~:text=Il%20s'agit%20des%20activit%C3%A9s,les%20entreprises%20de%20cette%20sph%C3%A8re.)\n",
    "\n",
    "A partir de ces variables, nous allons garder le nombre total d'entreprises par commune et créér 4 nouvelles variables :\n",
    "\n",
    "- **ets_impact_local_p** : basé sur les données de sphère de l'INSEE, c'est le calcul du taux d'établissements ayant une sphère présentielle, c'est à dire ayant une une activité de production de biens et de services visant la satisfaction des besoins de personnes au niveeau local\n",
    "- **ets_creation_p** : taux de création d'entreprises\n",
    "- **ets_industrie_p** : taux d'établissements de type industrie\n",
    "- **ets_taille50p_p** : taux d'établissements ayant 50 et plus salariés, la plus grande catégorie d'effectif proposée par l'INSEE"
   ]
  },
  {
   "cell_type": "code",
   "execution_count": 1,
   "id": "d250cfce",
   "metadata": {},
   "outputs": [],
   "source": [
    "import pandas as pd\n",
    "import numpy as np\n",
    "import matplotlib.pyplot as plt\n",
    "import seaborn as sns\n",
    "pd.set_option('display.max_columns', None)"
   ]
  },
  {
   "cell_type": "code",
   "execution_count": 2,
   "id": "1c1a3975",
   "metadata": {},
   "outputs": [
    {
     "name": "stderr",
     "output_type": "stream",
     "text": [
      "C:\\Users\\vivie\\anaconda3\\lib\\site-packages\\IPython\\core\\interactiveshell.py:3444: DtypeWarning: Columns (4,8,519,520,521) have mixed types.Specify dtype option on import or set low_memory=False.\n",
      "  exec(code_obj, self.user_global_ns, self.user_ns)\n"
     ]
    }
   ],
   "source": [
    "df = pd.read_csv('../all_content_2020_v4.csv', dtype={'CODGEO': 'string'})"
   ]
  },
  {
   "cell_type": "code",
   "execution_count": 3,
   "id": "b781ea7e",
   "metadata": {},
   "outputs": [],
   "source": [
    "ets = pd.DataFrame({'CODGEO': df.CODGEO, \n",
    "                    'ets_total':df.ETTOT20, \n",
    "                    'ets_local': df.ETPRES20, \n",
    "                    'ets_externe':df.ETNPRES20, \n",
    "                    'ets_creation': df.ETCTOT20,\n",
    "                    'ent_creation': df.ENCTOT20,\n",
    "                    'ets_industrie': df.ETBE20,\n",
    "                    'ets_effectif50p_p': df.ETTEF5020})"
   ]
  },
  {
   "cell_type": "code",
   "execution_count": 4,
   "id": "c23925c5",
   "metadata": {},
   "outputs": [],
   "source": [
    "ets.ets_total = ets.ets_total.replace(0.0, np.nan)"
   ]
  },
  {
   "cell_type": "code",
   "execution_count": 5,
   "id": "c83b18bb",
   "metadata": {},
   "outputs": [],
   "source": [
    "ets = ets.dropna(subset=['ets_total']).reset_index(drop=True)"
   ]
  },
  {
   "cell_type": "code",
   "execution_count": 6,
   "id": "ad1ed172",
   "metadata": {},
   "outputs": [
    {
     "data": {
      "text/html": [
       "<div>\n",
       "<style scoped>\n",
       "    .dataframe tbody tr th:only-of-type {\n",
       "        vertical-align: middle;\n",
       "    }\n",
       "\n",
       "    .dataframe tbody tr th {\n",
       "        vertical-align: top;\n",
       "    }\n",
       "\n",
       "    .dataframe thead th {\n",
       "        text-align: right;\n",
       "    }\n",
       "</style>\n",
       "<table border=\"1\" class=\"dataframe\">\n",
       "  <thead>\n",
       "    <tr style=\"text-align: right;\">\n",
       "      <th></th>\n",
       "      <th>CODGEO</th>\n",
       "      <th>ets_total</th>\n",
       "      <th>ets_local</th>\n",
       "      <th>ets_externe</th>\n",
       "      <th>ets_creation</th>\n",
       "      <th>ent_creation</th>\n",
       "      <th>ets_industrie</th>\n",
       "      <th>ets_effectif50p_p</th>\n",
       "    </tr>\n",
       "  </thead>\n",
       "  <tbody>\n",
       "    <tr>\n",
       "      <th>0</th>\n",
       "      <td>01001</td>\n",
       "      <td>14.0</td>\n",
       "      <td>9.0</td>\n",
       "      <td>5.0</td>\n",
       "      <td>12</td>\n",
       "      <td>11</td>\n",
       "      <td>0.0</td>\n",
       "      <td>0.0</td>\n",
       "    </tr>\n",
       "    <tr>\n",
       "      <th>1</th>\n",
       "      <td>01002</td>\n",
       "      <td>4.0</td>\n",
       "      <td>2.0</td>\n",
       "      <td>2.0</td>\n",
       "      <td>3</td>\n",
       "      <td>3</td>\n",
       "      <td>0.0</td>\n",
       "      <td>0.0</td>\n",
       "    </tr>\n",
       "    <tr>\n",
       "      <th>2</th>\n",
       "      <td>01004</td>\n",
       "      <td>586.0</td>\n",
       "      <td>462.0</td>\n",
       "      <td>124.0</td>\n",
       "      <td>192</td>\n",
       "      <td>176</td>\n",
       "      <td>31.0</td>\n",
       "      <td>21.0</td>\n",
       "    </tr>\n",
       "    <tr>\n",
       "      <th>3</th>\n",
       "      <td>01005</td>\n",
       "      <td>46.0</td>\n",
       "      <td>36.0</td>\n",
       "      <td>10.0</td>\n",
       "      <td>24</td>\n",
       "      <td>23</td>\n",
       "      <td>4.0</td>\n",
       "      <td>0.0</td>\n",
       "    </tr>\n",
       "    <tr>\n",
       "      <th>4</th>\n",
       "      <td>01006</td>\n",
       "      <td>2.0</td>\n",
       "      <td>1.0</td>\n",
       "      <td>1.0</td>\n",
       "      <td>0</td>\n",
       "      <td>0</td>\n",
       "      <td>0.0</td>\n",
       "      <td>0.0</td>\n",
       "    </tr>\n",
       "  </tbody>\n",
       "</table>\n",
       "</div>"
      ],
      "text/plain": [
       "  CODGEO  ets_total  ets_local  ets_externe  ets_creation  ent_creation  \\\n",
       "0  01001       14.0        9.0          5.0            12            11   \n",
       "1  01002        4.0        2.0          2.0             3             3   \n",
       "2  01004      586.0      462.0        124.0           192           176   \n",
       "3  01005       46.0       36.0         10.0            24            23   \n",
       "4  01006        2.0        1.0          1.0             0             0   \n",
       "\n",
       "   ets_industrie  ets_effectif50p_p  \n",
       "0            0.0                0.0  \n",
       "1            0.0                0.0  \n",
       "2           31.0               21.0  \n",
       "3            4.0                0.0  \n",
       "4            0.0                0.0  "
      ]
     },
     "execution_count": 6,
     "metadata": {},
     "output_type": "execute_result"
    }
   ],
   "source": [
    "ets.head()"
   ]
  },
  {
   "cell_type": "code",
   "execution_count": 7,
   "id": "6f5deebe",
   "metadata": {},
   "outputs": [],
   "source": [
    "ets['ets_impact'] = ets.apply(lambda x: 'local' if x['ets_local'] > x['ets_externe'] else ('externe' if x['ets_externe'] > x['ets_local'] else 'équilibré') , axis=1)"
   ]
  },
  {
   "cell_type": "code",
   "execution_count": 8,
   "id": "1d86fffc",
   "metadata": {},
   "outputs": [],
   "source": [
    "ets['ets_impact_local_p'] = ets.apply(lambda x:  np.round(x['ets_local'] / x['ets_total'] * 100,1), axis=1)"
   ]
  },
  {
   "cell_type": "code",
   "execution_count": 9,
   "id": "fc77f701",
   "metadata": {},
   "outputs": [],
   "source": [
    "ets['ets_creation_p'] = ets.apply(lambda x: np.round(x['ets_creation'] / x['ets_total'] * 100,1), axis=1)"
   ]
  },
  {
   "cell_type": "code",
   "execution_count": 10,
   "id": "04621071",
   "metadata": {},
   "outputs": [],
   "source": [
    "ets['ets_industrie_p'] = ets.apply(lambda x: np.round(x['ets_industrie'] / x['ets_total'] * 100,1), axis=1)"
   ]
  },
  {
   "cell_type": "code",
   "execution_count": 11,
   "id": "88c963e3",
   "metadata": {},
   "outputs": [],
   "source": [
    "ets['ets_taille50p_p'] = ets.apply(lambda x: np.round(x['ets_effectif50p_p'] / x['ets_total'] * 100,1), axis=1)"
   ]
  },
  {
   "cell_type": "code",
   "execution_count": 12,
   "id": "cb8afa8d",
   "metadata": {},
   "outputs": [
    {
     "data": {
      "text/plain": [
       "local        23339\n",
       "externe       7919\n",
       "équilibré     3572\n",
       "Name: ets_impact, dtype: int64"
      ]
     },
     "execution_count": 12,
     "metadata": {},
     "output_type": "execute_result"
    }
   ],
   "source": [
    "ets.ets_impact.value_counts()"
   ]
  },
  {
   "cell_type": "code",
   "execution_count": 13,
   "id": "55db4103",
   "metadata": {},
   "outputs": [],
   "source": [
    "ets = ets.drop(['ets_local', 'ets_externe', 'ets_creation', 'ets_impact', 'ent_creation', 'ets_industrie', 'ets_effectif50p_p'], axis=1)"
   ]
  },
  {
   "cell_type": "code",
   "execution_count": 14,
   "id": "ffead1e1",
   "metadata": {
    "scrolled": true
   },
   "outputs": [
    {
     "data": {
      "text/html": [
       "<div>\n",
       "<style scoped>\n",
       "    .dataframe tbody tr th:only-of-type {\n",
       "        vertical-align: middle;\n",
       "    }\n",
       "\n",
       "    .dataframe tbody tr th {\n",
       "        vertical-align: top;\n",
       "    }\n",
       "\n",
       "    .dataframe thead th {\n",
       "        text-align: right;\n",
       "    }\n",
       "</style>\n",
       "<table border=\"1\" class=\"dataframe\">\n",
       "  <thead>\n",
       "    <tr style=\"text-align: right;\">\n",
       "      <th></th>\n",
       "      <th>CODGEO</th>\n",
       "      <th>ets_total</th>\n",
       "      <th>ets_impact_local_p</th>\n",
       "      <th>ets_creation_p</th>\n",
       "      <th>ets_industrie_p</th>\n",
       "      <th>ets_taille50p_p</th>\n",
       "    </tr>\n",
       "  </thead>\n",
       "  <tbody>\n",
       "    <tr>\n",
       "      <th>0</th>\n",
       "      <td>01001</td>\n",
       "      <td>14.0</td>\n",
       "      <td>64.3</td>\n",
       "      <td>85.7</td>\n",
       "      <td>0.0</td>\n",
       "      <td>0.0</td>\n",
       "    </tr>\n",
       "    <tr>\n",
       "      <th>1</th>\n",
       "      <td>01002</td>\n",
       "      <td>4.0</td>\n",
       "      <td>50.0</td>\n",
       "      <td>75.0</td>\n",
       "      <td>0.0</td>\n",
       "      <td>0.0</td>\n",
       "    </tr>\n",
       "    <tr>\n",
       "      <th>2</th>\n",
       "      <td>01004</td>\n",
       "      <td>586.0</td>\n",
       "      <td>78.8</td>\n",
       "      <td>32.8</td>\n",
       "      <td>5.3</td>\n",
       "      <td>3.6</td>\n",
       "    </tr>\n",
       "    <tr>\n",
       "      <th>3</th>\n",
       "      <td>01005</td>\n",
       "      <td>46.0</td>\n",
       "      <td>78.3</td>\n",
       "      <td>52.2</td>\n",
       "      <td>8.7</td>\n",
       "      <td>0.0</td>\n",
       "    </tr>\n",
       "    <tr>\n",
       "      <th>4</th>\n",
       "      <td>01006</td>\n",
       "      <td>2.0</td>\n",
       "      <td>50.0</td>\n",
       "      <td>0.0</td>\n",
       "      <td>0.0</td>\n",
       "      <td>0.0</td>\n",
       "    </tr>\n",
       "  </tbody>\n",
       "</table>\n",
       "</div>"
      ],
      "text/plain": [
       "  CODGEO  ets_total  ets_impact_local_p  ets_creation_p  ets_industrie_p  \\\n",
       "0  01001       14.0                64.3            85.7              0.0   \n",
       "1  01002        4.0                50.0            75.0              0.0   \n",
       "2  01004      586.0                78.8            32.8              5.3   \n",
       "3  01005       46.0                78.3            52.2              8.7   \n",
       "4  01006        2.0                50.0             0.0              0.0   \n",
       "\n",
       "   ets_taille50p_p  \n",
       "0              0.0  \n",
       "1              0.0  \n",
       "2              3.6  \n",
       "3              0.0  \n",
       "4              0.0  "
      ]
     },
     "execution_count": 14,
     "metadata": {},
     "output_type": "execute_result"
    }
   ],
   "source": [
    "ets.head()"
   ]
  },
  {
   "cell_type": "code",
   "execution_count": 16,
   "id": "44b67a17",
   "metadata": {},
   "outputs": [],
   "source": [
    "ets.ets_industrie_p = ets.ets_industrie_p.fillna(0)\n",
    "ets.ets_taille50p_p = ets.ets_taille50p_p.fillna(0)"
   ]
  },
  {
   "cell_type": "code",
   "execution_count": 17,
   "id": "8f74925d",
   "metadata": {},
   "outputs": [
    {
     "data": {
      "text/plain": [
       "40.896017800746485"
      ]
     },
     "execution_count": 17,
     "metadata": {},
     "output_type": "execute_result"
    }
   ],
   "source": [
    "np.average(ets['ets_creation_p'])"
   ]
  },
  {
   "cell_type": "code",
   "execution_count": 18,
   "id": "9e77cdae",
   "metadata": {},
   "outputs": [
    {
     "data": {
      "text/plain": [
       "34830"
      ]
     },
     "execution_count": 18,
     "metadata": {},
     "output_type": "execute_result"
    }
   ],
   "source": [
    "len(ets)"
   ]
  },
  {
   "cell_type": "code",
   "execution_count": 19,
   "id": "cc20fdc4",
   "metadata": {},
   "outputs": [
    {
     "data": {
      "text/plain": [
       "CODGEO                0\n",
       "ets_total             0\n",
       "ets_impact_local_p    0\n",
       "ets_creation_p        0\n",
       "ets_industrie_p       0\n",
       "ets_taille50p_p       0\n",
       "dtype: int64"
      ]
     },
     "execution_count": 19,
     "metadata": {},
     "output_type": "execute_result"
    }
   ],
   "source": [
    "ets.isna().sum()"
   ]
  },
  {
   "cell_type": "code",
   "execution_count": 20,
   "id": "99ddcda9",
   "metadata": {},
   "outputs": [],
   "source": [
    "ets.to_csv('variables_ets.csv', index=False)"
   ]
  },
  {
   "cell_type": "code",
   "execution_count": 21,
   "id": "d45c4e60",
   "metadata": {},
   "outputs": [],
   "source": [
    "aires = pd.read_csv('../Aires_attraction_villes/attraction_villes.csv', sep=';')"
   ]
  },
  {
   "cell_type": "code",
   "execution_count": 22,
   "id": "0afe8631",
   "metadata": {},
   "outputs": [
    {
     "data": {
      "text/html": [
       "<div>\n",
       "<style scoped>\n",
       "    .dataframe tbody tr th:only-of-type {\n",
       "        vertical-align: middle;\n",
       "    }\n",
       "\n",
       "    .dataframe tbody tr th {\n",
       "        vertical-align: top;\n",
       "    }\n",
       "\n",
       "    .dataframe thead th {\n",
       "        text-align: right;\n",
       "    }\n",
       "</style>\n",
       "<table border=\"1\" class=\"dataframe\">\n",
       "  <thead>\n",
       "    <tr style=\"text-align: right;\">\n",
       "      <th></th>\n",
       "      <th>CODGEO</th>\n",
       "      <th>LIBGEO</th>\n",
       "      <th>AAV2020</th>\n",
       "      <th>LIBAAV2020</th>\n",
       "      <th>CATEAAV2020</th>\n",
       "      <th>DEP</th>\n",
       "      <th>REG</th>\n",
       "    </tr>\n",
       "  </thead>\n",
       "  <tbody>\n",
       "    <tr>\n",
       "      <th>0</th>\n",
       "      <td>01001</td>\n",
       "      <td>L'Abergement-Clémenciat</td>\n",
       "      <td>524</td>\n",
       "      <td>Châtillon-sur-Chalaronne</td>\n",
       "      <td>20</td>\n",
       "      <td>01</td>\n",
       "      <td>84</td>\n",
       "    </tr>\n",
       "    <tr>\n",
       "      <th>1</th>\n",
       "      <td>01002</td>\n",
       "      <td>L'Abergement-de-Varey</td>\n",
       "      <td>000</td>\n",
       "      <td>Commune hors attraction des villes</td>\n",
       "      <td>30</td>\n",
       "      <td>01</td>\n",
       "      <td>84</td>\n",
       "    </tr>\n",
       "    <tr>\n",
       "      <th>2</th>\n",
       "      <td>01004</td>\n",
       "      <td>Ambérieu-en-Bugey</td>\n",
       "      <td>243</td>\n",
       "      <td>Ambérieu-en-Bugey</td>\n",
       "      <td>11</td>\n",
       "      <td>01</td>\n",
       "      <td>84</td>\n",
       "    </tr>\n",
       "    <tr>\n",
       "      <th>3</th>\n",
       "      <td>01005</td>\n",
       "      <td>Ambérieux-en-Dombes</td>\n",
       "      <td>002</td>\n",
       "      <td>Lyon</td>\n",
       "      <td>20</td>\n",
       "      <td>01</td>\n",
       "      <td>84</td>\n",
       "    </tr>\n",
       "    <tr>\n",
       "      <th>4</th>\n",
       "      <td>01006</td>\n",
       "      <td>Ambléon</td>\n",
       "      <td>286</td>\n",
       "      <td>Belley</td>\n",
       "      <td>20</td>\n",
       "      <td>01</td>\n",
       "      <td>84</td>\n",
       "    </tr>\n",
       "  </tbody>\n",
       "</table>\n",
       "</div>"
      ],
      "text/plain": [
       "  CODGEO                   LIBGEO AAV2020                          LIBAAV2020  \\\n",
       "0  01001  L'Abergement-Clémenciat     524            Châtillon-sur-Chalaronne   \n",
       "1  01002    L'Abergement-de-Varey     000  Commune hors attraction des villes   \n",
       "2  01004        Ambérieu-en-Bugey     243                   Ambérieu-en-Bugey   \n",
       "3  01005      Ambérieux-en-Dombes     002                                Lyon   \n",
       "4  01006                  Ambléon     286                              Belley   \n",
       "\n",
       "   CATEAAV2020 DEP  REG  \n",
       "0           20  01   84  \n",
       "1           30  01   84  \n",
       "2           11  01   84  \n",
       "3           20  01   84  \n",
       "4           20  01   84  "
      ]
     },
     "execution_count": 22,
     "metadata": {},
     "output_type": "execute_result"
    }
   ],
   "source": [
    "aires.head()"
   ]
  },
  {
   "cell_type": "code",
   "execution_count": 44,
   "id": "ba72adba",
   "metadata": {},
   "outputs": [
    {
     "data": {
      "text/plain": [
       "34839"
      ]
     },
     "execution_count": 44,
     "metadata": {},
     "output_type": "execute_result"
    }
   ],
   "source": [
    "import shapefile as shp\n",
    "import seaborn as sns\n",
    "sns.set(style='whitegrid', palette='pastel', color_codes=True)\n",
    "sns.mpl.rc('figure', figsize=(10,6))\n",
    "sf = shp.Reader('zMetro.dbf')\n",
    "len(sf.shapes())"
   ]
  }
 ],
 "metadata": {
  "kernelspec": {
   "display_name": "Python 3 (ipykernel)",
   "language": "python",
   "name": "python3"
  },
  "language_info": {
   "codemirror_mode": {
    "name": "ipython",
    "version": 3
   },
   "file_extension": ".py",
   "mimetype": "text/x-python",
   "name": "python",
   "nbconvert_exporter": "python",
   "pygments_lexer": "ipython3",
   "version": "3.9.7"
  }
 },
 "nbformat": 4,
 "nbformat_minor": 5
}
