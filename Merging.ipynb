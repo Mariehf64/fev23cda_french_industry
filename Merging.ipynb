{
 "cells": [
  {
   "cell_type": "markdown",
   "id": "8197fea5",
   "metadata": {},
   "source": [
    "# Merging #"
   ]
  },
  {
   "cell_type": "code",
   "execution_count": 1,
   "id": "083b6cb9",
   "metadata": {},
   "outputs": [],
   "source": [
    "import pandas as pd\n",
    "pd.set_option('display.max_columns', None)\n",
    "\n",
    "ets = pd.read_csv('./data/base_etablissement_par_tranche_effectif.csv')\n",
    "salary = pd.read_csv('./data/net_salary_per_town_categories.csv')\n",
    "population = pd.read_csv('population.csv', dtype={'CODGEO': 'string'}) #Pour corriger le dtype qui s'affiche en integer par défaut\n",
    "geo = pd.read_csv('./data/name_geographic_information.csv', dtype={'code_insee': 'string'})"
   ]
  },
  {
   "cell_type": "code",
   "execution_count": 2,
   "id": "55c7124c",
   "metadata": {},
   "outputs": [
    {
     "data": {
      "text/html": [
       "<div>\n",
       "<style scoped>\n",
       "    .dataframe tbody tr th:only-of-type {\n",
       "        vertical-align: middle;\n",
       "    }\n",
       "\n",
       "    .dataframe tbody tr th {\n",
       "        vertical-align: top;\n",
       "    }\n",
       "\n",
       "    .dataframe thead th {\n",
       "        text-align: right;\n",
       "    }\n",
       "</style>\n",
       "<table border=\"1\" class=\"dataframe\">\n",
       "  <thead>\n",
       "    <tr style=\"text-align: right;\">\n",
       "      <th></th>\n",
       "      <th>CODGEO</th>\n",
       "      <th>LIBGEO</th>\n",
       "      <th>REG</th>\n",
       "      <th>DEP</th>\n",
       "      <th>E14TST</th>\n",
       "      <th>E14TS0ND</th>\n",
       "      <th>E14TS1</th>\n",
       "      <th>E14TS6</th>\n",
       "      <th>E14TS10</th>\n",
       "      <th>E14TS20</th>\n",
       "      <th>E14TS50</th>\n",
       "      <th>E14TS100</th>\n",
       "      <th>E14TS200</th>\n",
       "      <th>E14TS500</th>\n",
       "    </tr>\n",
       "  </thead>\n",
       "  <tbody>\n",
       "    <tr>\n",
       "      <th>0</th>\n",
       "      <td>01001</td>\n",
       "      <td>L'Abergement-Clémenciat</td>\n",
       "      <td>82</td>\n",
       "      <td>01</td>\n",
       "      <td>25</td>\n",
       "      <td>22</td>\n",
       "      <td>1</td>\n",
       "      <td>2</td>\n",
       "      <td>0</td>\n",
       "      <td>0</td>\n",
       "      <td>0</td>\n",
       "      <td>0</td>\n",
       "      <td>0</td>\n",
       "      <td>0</td>\n",
       "    </tr>\n",
       "    <tr>\n",
       "      <th>1</th>\n",
       "      <td>01002</td>\n",
       "      <td>L'Abergement-de-Varey</td>\n",
       "      <td>82</td>\n",
       "      <td>01</td>\n",
       "      <td>10</td>\n",
       "      <td>9</td>\n",
       "      <td>1</td>\n",
       "      <td>0</td>\n",
       "      <td>0</td>\n",
       "      <td>0</td>\n",
       "      <td>0</td>\n",
       "      <td>0</td>\n",
       "      <td>0</td>\n",
       "      <td>0</td>\n",
       "    </tr>\n",
       "    <tr>\n",
       "      <th>2</th>\n",
       "      <td>01004</td>\n",
       "      <td>Ambérieu-en-Bugey</td>\n",
       "      <td>82</td>\n",
       "      <td>01</td>\n",
       "      <td>996</td>\n",
       "      <td>577</td>\n",
       "      <td>272</td>\n",
       "      <td>63</td>\n",
       "      <td>46</td>\n",
       "      <td>24</td>\n",
       "      <td>9</td>\n",
       "      <td>3</td>\n",
       "      <td>2</td>\n",
       "      <td>0</td>\n",
       "    </tr>\n",
       "    <tr>\n",
       "      <th>3</th>\n",
       "      <td>01005</td>\n",
       "      <td>Ambérieux-en-Dombes</td>\n",
       "      <td>82</td>\n",
       "      <td>01</td>\n",
       "      <td>99</td>\n",
       "      <td>73</td>\n",
       "      <td>20</td>\n",
       "      <td>3</td>\n",
       "      <td>1</td>\n",
       "      <td>2</td>\n",
       "      <td>0</td>\n",
       "      <td>0</td>\n",
       "      <td>0</td>\n",
       "      <td>0</td>\n",
       "    </tr>\n",
       "    <tr>\n",
       "      <th>4</th>\n",
       "      <td>01006</td>\n",
       "      <td>Ambléon</td>\n",
       "      <td>82</td>\n",
       "      <td>01</td>\n",
       "      <td>4</td>\n",
       "      <td>4</td>\n",
       "      <td>0</td>\n",
       "      <td>0</td>\n",
       "      <td>0</td>\n",
       "      <td>0</td>\n",
       "      <td>0</td>\n",
       "      <td>0</td>\n",
       "      <td>0</td>\n",
       "      <td>0</td>\n",
       "    </tr>\n",
       "  </tbody>\n",
       "</table>\n",
       "</div>"
      ],
      "text/plain": [
       "  CODGEO                   LIBGEO  REG DEP  E14TST  E14TS0ND  E14TS1  E14TS6  \\\n",
       "0  01001  L'Abergement-Clémenciat   82  01      25        22       1       2   \n",
       "1  01002    L'Abergement-de-Varey   82  01      10         9       1       0   \n",
       "2  01004        Ambérieu-en-Bugey   82  01     996       577     272      63   \n",
       "3  01005      Ambérieux-en-Dombes   82  01      99        73      20       3   \n",
       "4  01006                  Ambléon   82  01       4         4       0       0   \n",
       "\n",
       "   E14TS10  E14TS20  E14TS50  E14TS100  E14TS200  E14TS500  \n",
       "0        0        0        0         0         0         0  \n",
       "1        0        0        0         0         0         0  \n",
       "2       46       24        9         3         2         0  \n",
       "3        1        2        0         0         0         0  \n",
       "4        0        0        0         0         0         0  "
      ]
     },
     "execution_count": 2,
     "metadata": {},
     "output_type": "execute_result"
    }
   ],
   "source": [
    "ets.head()"
   ]
  },
  {
   "cell_type": "code",
   "execution_count": 3,
   "id": "10efe768",
   "metadata": {},
   "outputs": [
    {
     "data": {
      "text/html": [
       "<div>\n",
       "<style scoped>\n",
       "    .dataframe tbody tr th:only-of-type {\n",
       "        vertical-align: middle;\n",
       "    }\n",
       "\n",
       "    .dataframe tbody tr th {\n",
       "        vertical-align: top;\n",
       "    }\n",
       "\n",
       "    .dataframe thead th {\n",
       "        text-align: right;\n",
       "    }\n",
       "</style>\n",
       "<table border=\"1\" class=\"dataframe\">\n",
       "  <thead>\n",
       "    <tr style=\"text-align: right;\">\n",
       "      <th></th>\n",
       "      <th>CODGEO</th>\n",
       "      <th>LIBGEO</th>\n",
       "      <th>SNHM14</th>\n",
       "      <th>SNHMC14</th>\n",
       "      <th>SNHMP14</th>\n",
       "      <th>SNHME14</th>\n",
       "      <th>SNHMO14</th>\n",
       "      <th>SNHMF14</th>\n",
       "      <th>SNHMFC14</th>\n",
       "      <th>SNHMFP14</th>\n",
       "      <th>SNHMFE14</th>\n",
       "      <th>SNHMFO14</th>\n",
       "      <th>SNHMH14</th>\n",
       "      <th>SNHMHC14</th>\n",
       "      <th>SNHMHP14</th>\n",
       "      <th>SNHMHE14</th>\n",
       "      <th>SNHMHO14</th>\n",
       "      <th>SNHM1814</th>\n",
       "      <th>SNHM2614</th>\n",
       "      <th>SNHM5014</th>\n",
       "      <th>SNHMF1814</th>\n",
       "      <th>SNHMF2614</th>\n",
       "      <th>SNHMF5014</th>\n",
       "      <th>SNHMH1814</th>\n",
       "      <th>SNHMH2614</th>\n",
       "      <th>SNHMH5014</th>\n",
       "    </tr>\n",
       "  </thead>\n",
       "  <tbody>\n",
       "    <tr>\n",
       "      <th>0</th>\n",
       "      <td>01004</td>\n",
       "      <td>Ambérieu-en-Bugey</td>\n",
       "      <td>13.7</td>\n",
       "      <td>24.2</td>\n",
       "      <td>15.5</td>\n",
       "      <td>10.3</td>\n",
       "      <td>11.2</td>\n",
       "      <td>11.6</td>\n",
       "      <td>19.1</td>\n",
       "      <td>13.2</td>\n",
       "      <td>10.1</td>\n",
       "      <td>9.6</td>\n",
       "      <td>15.0</td>\n",
       "      <td>26.4</td>\n",
       "      <td>16.7</td>\n",
       "      <td>11.0</td>\n",
       "      <td>11.6</td>\n",
       "      <td>10.5</td>\n",
       "      <td>13.7</td>\n",
       "      <td>16.1</td>\n",
       "      <td>9.7</td>\n",
       "      <td>11.8</td>\n",
       "      <td>12.5</td>\n",
       "      <td>11.0</td>\n",
       "      <td>14.9</td>\n",
       "      <td>18.6</td>\n",
       "    </tr>\n",
       "    <tr>\n",
       "      <th>1</th>\n",
       "      <td>01007</td>\n",
       "      <td>Ambronay</td>\n",
       "      <td>13.5</td>\n",
       "      <td>22.1</td>\n",
       "      <td>14.7</td>\n",
       "      <td>10.7</td>\n",
       "      <td>11.4</td>\n",
       "      <td>11.9</td>\n",
       "      <td>19.0</td>\n",
       "      <td>13.3</td>\n",
       "      <td>10.6</td>\n",
       "      <td>10.0</td>\n",
       "      <td>14.7</td>\n",
       "      <td>23.3</td>\n",
       "      <td>15.8</td>\n",
       "      <td>11.3</td>\n",
       "      <td>11.7</td>\n",
       "      <td>9.8</td>\n",
       "      <td>13.8</td>\n",
       "      <td>14.6</td>\n",
       "      <td>9.2</td>\n",
       "      <td>12.2</td>\n",
       "      <td>12.5</td>\n",
       "      <td>10.2</td>\n",
       "      <td>14.9</td>\n",
       "      <td>16.4</td>\n",
       "    </tr>\n",
       "    <tr>\n",
       "      <th>2</th>\n",
       "      <td>01014</td>\n",
       "      <td>Arbent</td>\n",
       "      <td>13.5</td>\n",
       "      <td>27.6</td>\n",
       "      <td>15.6</td>\n",
       "      <td>11.1</td>\n",
       "      <td>11.1</td>\n",
       "      <td>10.9</td>\n",
       "      <td>19.5</td>\n",
       "      <td>11.7</td>\n",
       "      <td>10.8</td>\n",
       "      <td>9.5</td>\n",
       "      <td>15.3</td>\n",
       "      <td>30.2</td>\n",
       "      <td>17.2</td>\n",
       "      <td>12.4</td>\n",
       "      <td>11.8</td>\n",
       "      <td>9.3</td>\n",
       "      <td>13.3</td>\n",
       "      <td>16.0</td>\n",
       "      <td>8.9</td>\n",
       "      <td>10.6</td>\n",
       "      <td>12.5</td>\n",
       "      <td>9.6</td>\n",
       "      <td>15.1</td>\n",
       "      <td>18.6</td>\n",
       "    </tr>\n",
       "    <tr>\n",
       "      <th>3</th>\n",
       "      <td>01024</td>\n",
       "      <td>Attignat</td>\n",
       "      <td>12.9</td>\n",
       "      <td>21.8</td>\n",
       "      <td>14.1</td>\n",
       "      <td>11.0</td>\n",
       "      <td>11.3</td>\n",
       "      <td>11.4</td>\n",
       "      <td>19.0</td>\n",
       "      <td>13.0</td>\n",
       "      <td>10.3</td>\n",
       "      <td>9.9</td>\n",
       "      <td>13.8</td>\n",
       "      <td>23.0</td>\n",
       "      <td>14.7</td>\n",
       "      <td>13.2</td>\n",
       "      <td>11.6</td>\n",
       "      <td>9.6</td>\n",
       "      <td>12.9</td>\n",
       "      <td>14.2</td>\n",
       "      <td>9.3</td>\n",
       "      <td>11.4</td>\n",
       "      <td>12.2</td>\n",
       "      <td>9.7</td>\n",
       "      <td>13.8</td>\n",
       "      <td>15.9</td>\n",
       "    </tr>\n",
       "    <tr>\n",
       "      <th>4</th>\n",
       "      <td>01025</td>\n",
       "      <td>Bâgé-la-Ville</td>\n",
       "      <td>13.0</td>\n",
       "      <td>22.8</td>\n",
       "      <td>14.1</td>\n",
       "      <td>10.5</td>\n",
       "      <td>11.1</td>\n",
       "      <td>11.6</td>\n",
       "      <td>19.4</td>\n",
       "      <td>13.6</td>\n",
       "      <td>10.2</td>\n",
       "      <td>9.8</td>\n",
       "      <td>13.8</td>\n",
       "      <td>24.1</td>\n",
       "      <td>14.4</td>\n",
       "      <td>11.7</td>\n",
       "      <td>11.4</td>\n",
       "      <td>9.4</td>\n",
       "      <td>12.8</td>\n",
       "      <td>15.2</td>\n",
       "      <td>9.0</td>\n",
       "      <td>11.8</td>\n",
       "      <td>12.3</td>\n",
       "      <td>9.7</td>\n",
       "      <td>13.4</td>\n",
       "      <td>16.9</td>\n",
       "    </tr>\n",
       "  </tbody>\n",
       "</table>\n",
       "</div>"
      ],
      "text/plain": [
       "  CODGEO             LIBGEO  SNHM14  SNHMC14  SNHMP14  SNHME14  SNHMO14  \\\n",
       "0  01004  Ambérieu-en-Bugey    13.7     24.2     15.5     10.3     11.2   \n",
       "1  01007           Ambronay    13.5     22.1     14.7     10.7     11.4   \n",
       "2  01014             Arbent    13.5     27.6     15.6     11.1     11.1   \n",
       "3  01024           Attignat    12.9     21.8     14.1     11.0     11.3   \n",
       "4  01025      Bâgé-la-Ville    13.0     22.8     14.1     10.5     11.1   \n",
       "\n",
       "   SNHMF14  SNHMFC14  SNHMFP14  SNHMFE14  SNHMFO14  SNHMH14  SNHMHC14  \\\n",
       "0     11.6      19.1      13.2      10.1       9.6     15.0      26.4   \n",
       "1     11.9      19.0      13.3      10.6      10.0     14.7      23.3   \n",
       "2     10.9      19.5      11.7      10.8       9.5     15.3      30.2   \n",
       "3     11.4      19.0      13.0      10.3       9.9     13.8      23.0   \n",
       "4     11.6      19.4      13.6      10.2       9.8     13.8      24.1   \n",
       "\n",
       "   SNHMHP14  SNHMHE14  SNHMHO14  SNHM1814  SNHM2614  SNHM5014  SNHMF1814  \\\n",
       "0      16.7      11.0      11.6      10.5      13.7      16.1        9.7   \n",
       "1      15.8      11.3      11.7       9.8      13.8      14.6        9.2   \n",
       "2      17.2      12.4      11.8       9.3      13.3      16.0        8.9   \n",
       "3      14.7      13.2      11.6       9.6      12.9      14.2        9.3   \n",
       "4      14.4      11.7      11.4       9.4      12.8      15.2        9.0   \n",
       "\n",
       "   SNHMF2614  SNHMF5014  SNHMH1814  SNHMH2614  SNHMH5014  \n",
       "0       11.8       12.5       11.0       14.9       18.6  \n",
       "1       12.2       12.5       10.2       14.9       16.4  \n",
       "2       10.6       12.5        9.6       15.1       18.6  \n",
       "3       11.4       12.2        9.7       13.8       15.9  \n",
       "4       11.8       12.3        9.7       13.4       16.9  "
      ]
     },
     "execution_count": 3,
     "metadata": {},
     "output_type": "execute_result"
    }
   ],
   "source": [
    "salary.head()"
   ]
  },
  {
   "cell_type": "code",
   "execution_count": 4,
   "id": "6e129451",
   "metadata": {},
   "outputs": [
    {
     "data": {
      "text/html": [
       "<div>\n",
       "<style scoped>\n",
       "    .dataframe tbody tr th:only-of-type {\n",
       "        vertical-align: middle;\n",
       "    }\n",
       "\n",
       "    .dataframe tbody tr th {\n",
       "        vertical-align: top;\n",
       "    }\n",
       "\n",
       "    .dataframe thead th {\n",
       "        text-align: right;\n",
       "    }\n",
       "</style>\n",
       "<table border=\"1\" class=\"dataframe\">\n",
       "  <thead>\n",
       "    <tr style=\"text-align: right;\">\n",
       "      <th></th>\n",
       "      <th>NIVGEO</th>\n",
       "      <th>CODGEO</th>\n",
       "      <th>LIBGEO</th>\n",
       "      <th>MOCO</th>\n",
       "      <th>AGEQ80_17</th>\n",
       "      <th>SEXE</th>\n",
       "      <th>NB</th>\n",
       "    </tr>\n",
       "  </thead>\n",
       "  <tbody>\n",
       "    <tr>\n",
       "      <th>0</th>\n",
       "      <td>COM</td>\n",
       "      <td>01001</td>\n",
       "      <td>L'Abergement-Clémenciat</td>\n",
       "      <td>11</td>\n",
       "      <td>0</td>\n",
       "      <td>1</td>\n",
       "      <td>15</td>\n",
       "    </tr>\n",
       "    <tr>\n",
       "      <th>1</th>\n",
       "      <td>COM</td>\n",
       "      <td>01001</td>\n",
       "      <td>L'Abergement-Clémenciat</td>\n",
       "      <td>11</td>\n",
       "      <td>0</td>\n",
       "      <td>2</td>\n",
       "      <td>15</td>\n",
       "    </tr>\n",
       "    <tr>\n",
       "      <th>2</th>\n",
       "      <td>COM</td>\n",
       "      <td>01001</td>\n",
       "      <td>L'Abergement-Clémenciat</td>\n",
       "      <td>11</td>\n",
       "      <td>5</td>\n",
       "      <td>1</td>\n",
       "      <td>20</td>\n",
       "    </tr>\n",
       "    <tr>\n",
       "      <th>3</th>\n",
       "      <td>COM</td>\n",
       "      <td>01001</td>\n",
       "      <td>L'Abergement-Clémenciat</td>\n",
       "      <td>11</td>\n",
       "      <td>5</td>\n",
       "      <td>2</td>\n",
       "      <td>20</td>\n",
       "    </tr>\n",
       "    <tr>\n",
       "      <th>4</th>\n",
       "      <td>COM</td>\n",
       "      <td>01001</td>\n",
       "      <td>L'Abergement-Clémenciat</td>\n",
       "      <td>11</td>\n",
       "      <td>10</td>\n",
       "      <td>1</td>\n",
       "      <td>20</td>\n",
       "    </tr>\n",
       "  </tbody>\n",
       "</table>\n",
       "</div>"
      ],
      "text/plain": [
       "  NIVGEO CODGEO                   LIBGEO  MOCO  AGEQ80_17  SEXE  NB\n",
       "0    COM  01001  L'Abergement-Clémenciat    11          0     1  15\n",
       "1    COM  01001  L'Abergement-Clémenciat    11          0     2  15\n",
       "2    COM  01001  L'Abergement-Clémenciat    11          5     1  20\n",
       "3    COM  01001  L'Abergement-Clémenciat    11          5     2  20\n",
       "4    COM  01001  L'Abergement-Clémenciat    11         10     1  20"
      ]
     },
     "execution_count": 4,
     "metadata": {},
     "output_type": "execute_result"
    }
   ],
   "source": [
    "population.head()"
   ]
  },
  {
   "cell_type": "code",
   "execution_count": 5,
   "id": "b2c2b580",
   "metadata": {},
   "outputs": [
    {
     "data": {
      "text/plain": [
       "8536584"
      ]
     },
     "execution_count": 5,
     "metadata": {},
     "output_type": "execute_result"
    }
   ],
   "source": [
    "len(population)"
   ]
  },
  {
   "cell_type": "code",
   "execution_count": 6,
   "id": "2d8a49b3",
   "metadata": {},
   "outputs": [],
   "source": [
    "geo['code_insee_len'] = geo['code_insee'].apply(lambda x: len(x))"
   ]
  },
  {
   "cell_type": "code",
   "execution_count": 7,
   "id": "35ae623c",
   "metadata": {},
   "outputs": [
    {
     "data": {
      "text/plain": [
       "5    33607\n",
       "4     3233\n",
       "Name: code_insee_len, dtype: int64"
      ]
     },
     "execution_count": 7,
     "metadata": {},
     "output_type": "execute_result"
    }
   ],
   "source": [
    "#il ya donc 3233 CODGEO avec 4 caractères au lieu de 4. Manque le 0 uniquement ?\n",
    "geo['code_insee_len'].value_counts()"
   ]
  },
  {
   "cell_type": "code",
   "execution_count": 8,
   "id": "72f32630",
   "metadata": {},
   "outputs": [
    {
     "data": {
      "text/plain": [
       "02    816\n",
       "08    464\n",
       "01    419\n",
       "07    339\n",
       "09    332\n",
       "03    320\n",
       "04    200\n",
       "05    177\n",
       "06    166\n",
       "Name: numéro_département, dtype: int64"
      ]
     },
     "execution_count": 8,
     "metadata": {},
     "output_type": "execute_result"
    }
   ],
   "source": [
    "#Ce ne sont bien que les départements commençant par 0 qui apparaissent dans les codes insee à 4 caractères. C'est donc bien le 0 du code INSEE qui est tronqué\n",
    "geo[geo['code_insee_len'] == 4]['numéro_département'].value_counts()"
   ]
  },
  {
   "cell_type": "code",
   "execution_count": 9,
   "id": "423412cc",
   "metadata": {},
   "outputs": [],
   "source": [
    "def change_code_insee(x):\n",
    "    if x['code_insee_len'] == 4:\n",
    "        return '0'+ x['code_insee']\n",
    "    else:\n",
    "        return x['code_insee']\n",
    "geo['code_insee'] = geo.apply(lambda x: change_code_insee(x), axis=1)"
   ]
  },
  {
   "cell_type": "code",
   "execution_count": 10,
   "id": "5ace7d47",
   "metadata": {},
   "outputs": [],
   "source": [
    "geo = geo.rename(columns={'code_insee': 'CODGEO'})"
   ]
  },
  {
   "cell_type": "code",
   "execution_count": 11,
   "id": "9c1cfe0f",
   "metadata": {},
   "outputs": [],
   "source": [
    "geo = geo.drop(['code_insee_len'], axis=1)"
   ]
  },
  {
   "cell_type": "code",
   "execution_count": 12,
   "id": "726c1e15",
   "metadata": {},
   "outputs": [
    {
     "data": {
      "text/html": [
       "<div>\n",
       "<style scoped>\n",
       "    .dataframe tbody tr th:only-of-type {\n",
       "        vertical-align: middle;\n",
       "    }\n",
       "\n",
       "    .dataframe tbody tr th {\n",
       "        vertical-align: top;\n",
       "    }\n",
       "\n",
       "    .dataframe thead th {\n",
       "        text-align: right;\n",
       "    }\n",
       "</style>\n",
       "<table border=\"1\" class=\"dataframe\">\n",
       "  <thead>\n",
       "    <tr style=\"text-align: right;\">\n",
       "      <th></th>\n",
       "      <th>EU_circo</th>\n",
       "      <th>code_région</th>\n",
       "      <th>nom_région</th>\n",
       "      <th>chef.lieu_région</th>\n",
       "      <th>numéro_département</th>\n",
       "      <th>nom_département</th>\n",
       "      <th>préfecture</th>\n",
       "      <th>numéro_circonscription</th>\n",
       "      <th>nom_commune</th>\n",
       "      <th>codes_postaux</th>\n",
       "      <th>CODGEO</th>\n",
       "      <th>latitude</th>\n",
       "      <th>longitude</th>\n",
       "      <th>éloignement</th>\n",
       "    </tr>\n",
       "  </thead>\n",
       "  <tbody>\n",
       "    <tr>\n",
       "      <th>0</th>\n",
       "      <td>Sud-Est</td>\n",
       "      <td>82</td>\n",
       "      <td>Rhône-Alpes</td>\n",
       "      <td>Lyon</td>\n",
       "      <td>01</td>\n",
       "      <td>Ain</td>\n",
       "      <td>Bourg-en-Bresse</td>\n",
       "      <td>1</td>\n",
       "      <td>Attignat</td>\n",
       "      <td>01340</td>\n",
       "      <td>01024</td>\n",
       "      <td>46.283333</td>\n",
       "      <td>5.166667</td>\n",
       "      <td>1.21</td>\n",
       "    </tr>\n",
       "    <tr>\n",
       "      <th>1</th>\n",
       "      <td>Sud-Est</td>\n",
       "      <td>82</td>\n",
       "      <td>Rhône-Alpes</td>\n",
       "      <td>Lyon</td>\n",
       "      <td>01</td>\n",
       "      <td>Ain</td>\n",
       "      <td>Bourg-en-Bresse</td>\n",
       "      <td>1</td>\n",
       "      <td>Beaupont</td>\n",
       "      <td>01270</td>\n",
       "      <td>01029</td>\n",
       "      <td>46.400000</td>\n",
       "      <td>5.266667</td>\n",
       "      <td>1.91</td>\n",
       "    </tr>\n",
       "    <tr>\n",
       "      <th>2</th>\n",
       "      <td>Sud-Est</td>\n",
       "      <td>82</td>\n",
       "      <td>Rhône-Alpes</td>\n",
       "      <td>Lyon</td>\n",
       "      <td>01</td>\n",
       "      <td>Ain</td>\n",
       "      <td>Bourg-en-Bresse</td>\n",
       "      <td>1</td>\n",
       "      <td>Bény</td>\n",
       "      <td>01370</td>\n",
       "      <td>01038</td>\n",
       "      <td>46.333333</td>\n",
       "      <td>5.283333</td>\n",
       "      <td>1.51</td>\n",
       "    </tr>\n",
       "    <tr>\n",
       "      <th>3</th>\n",
       "      <td>Sud-Est</td>\n",
       "      <td>82</td>\n",
       "      <td>Rhône-Alpes</td>\n",
       "      <td>Lyon</td>\n",
       "      <td>01</td>\n",
       "      <td>Ain</td>\n",
       "      <td>Bourg-en-Bresse</td>\n",
       "      <td>1</td>\n",
       "      <td>Béreyziat</td>\n",
       "      <td>01340</td>\n",
       "      <td>01040</td>\n",
       "      <td>46.366667</td>\n",
       "      <td>5.05</td>\n",
       "      <td>1.71</td>\n",
       "    </tr>\n",
       "    <tr>\n",
       "      <th>4</th>\n",
       "      <td>Sud-Est</td>\n",
       "      <td>82</td>\n",
       "      <td>Rhône-Alpes</td>\n",
       "      <td>Lyon</td>\n",
       "      <td>01</td>\n",
       "      <td>Ain</td>\n",
       "      <td>Bourg-en-Bresse</td>\n",
       "      <td>1</td>\n",
       "      <td>Bohas-Meyriat-Rignat</td>\n",
       "      <td>01250</td>\n",
       "      <td>01245</td>\n",
       "      <td>46.133333</td>\n",
       "      <td>5.4</td>\n",
       "      <td>1.01</td>\n",
       "    </tr>\n",
       "  </tbody>\n",
       "</table>\n",
       "</div>"
      ],
      "text/plain": [
       "  EU_circo  code_région   nom_région chef.lieu_région numéro_département  \\\n",
       "0  Sud-Est           82  Rhône-Alpes             Lyon                 01   \n",
       "1  Sud-Est           82  Rhône-Alpes             Lyon                 01   \n",
       "2  Sud-Est           82  Rhône-Alpes             Lyon                 01   \n",
       "3  Sud-Est           82  Rhône-Alpes             Lyon                 01   \n",
       "4  Sud-Est           82  Rhône-Alpes             Lyon                 01   \n",
       "\n",
       "  nom_département       préfecture  numéro_circonscription  \\\n",
       "0             Ain  Bourg-en-Bresse                       1   \n",
       "1             Ain  Bourg-en-Bresse                       1   \n",
       "2             Ain  Bourg-en-Bresse                       1   \n",
       "3             Ain  Bourg-en-Bresse                       1   \n",
       "4             Ain  Bourg-en-Bresse                       1   \n",
       "\n",
       "            nom_commune codes_postaux CODGEO   latitude longitude  éloignement  \n",
       "0              Attignat         01340  01024  46.283333  5.166667         1.21  \n",
       "1              Beaupont         01270  01029  46.400000  5.266667         1.91  \n",
       "2                  Bény         01370  01038  46.333333  5.283333         1.51  \n",
       "3             Béreyziat         01340  01040  46.366667      5.05         1.71  \n",
       "4  Bohas-Meyriat-Rignat         01250  01245  46.133333       5.4         1.01  "
      ]
     },
     "execution_count": 12,
     "metadata": {},
     "output_type": "execute_result"
    }
   ],
   "source": [
    "geo.head()"
   ]
  },
  {
   "attachments": {
    "image.png": {
     "image/png": "[encoded data removed]"
    }
   },
   "cell_type": "markdown",
   "id": "5591c0eb",
   "metadata": {},
   "source": [
    "### analyse_CODGEO (avant cleaning) ###\n",
    "\n",
    "![image.png](attachment:image.png)\n",
    "\n",
    "C'est donc dans la table géo qu'on a le plus de CODGEO et qui doit servir de point de départ.\n",
    "\n",
    "Création de 4 listes de CODGEO, une par table :"
   ]
  },
  {
   "cell_type": "code",
   "execution_count": 13,
   "id": "a57f3a79",
   "metadata": {},
   "outputs": [],
   "source": [
    "import numpy as np\n",
    "CODGEO_geo = np.array([i for i in geo.CODGEO])\n",
    "CODGEO_ets = np.array([i for i in ets.CODGEO])\n",
    "CODGEO_sal = np.array([i for i in salary.CODGEO])\n",
    "CODGEO_pop = np.array([i for i in population.CODGEO])"
   ]
  },
  {
   "cell_type": "markdown",
   "id": "9e51212b",
   "metadata": {},
   "source": [
    "### Création d'un dataframe ###"
   ]
  },
  {
   "cell_type": "code",
   "execution_count": 14,
   "id": "44dde8b2",
   "metadata": {},
   "outputs": [],
   "source": [
    "analyse_CODGEO = pd.DataFrame({'CODGEO_geo': CODGEO_geo})"
   ]
  },
  {
   "cell_type": "code",
   "execution_count": 15,
   "id": "a405f7c4",
   "metadata": {},
   "outputs": [
    {
     "data": {
      "text/html": [
       "<div>\n",
       "<style scoped>\n",
       "    .dataframe tbody tr th:only-of-type {\n",
       "        vertical-align: middle;\n",
       "    }\n",
       "\n",
       "    .dataframe tbody tr th {\n",
       "        vertical-align: top;\n",
       "    }\n",
       "\n",
       "    .dataframe thead th {\n",
       "        text-align: right;\n",
       "    }\n",
       "</style>\n",
       "<table border=\"1\" class=\"dataframe\">\n",
       "  <thead>\n",
       "    <tr style=\"text-align: right;\">\n",
       "      <th></th>\n",
       "      <th>CODGEO_geo</th>\n",
       "    </tr>\n",
       "  </thead>\n",
       "  <tbody>\n",
       "    <tr>\n",
       "      <th>0</th>\n",
       "      <td>01024</td>\n",
       "    </tr>\n",
       "    <tr>\n",
       "      <th>1</th>\n",
       "      <td>01029</td>\n",
       "    </tr>\n",
       "    <tr>\n",
       "      <th>2</th>\n",
       "      <td>01038</td>\n",
       "    </tr>\n",
       "    <tr>\n",
       "      <th>3</th>\n",
       "      <td>01040</td>\n",
       "    </tr>\n",
       "    <tr>\n",
       "      <th>4</th>\n",
       "      <td>01245</td>\n",
       "    </tr>\n",
       "  </tbody>\n",
       "</table>\n",
       "</div>"
      ],
      "text/plain": [
       "  CODGEO_geo\n",
       "0      01024\n",
       "1      01029\n",
       "2      01038\n",
       "3      01040\n",
       "4      01245"
      ]
     },
     "execution_count": 15,
     "metadata": {},
     "output_type": "execute_result"
    }
   ],
   "source": [
    "analyse_CODGEO.head()"
   ]
  },
  {
   "cell_type": "code",
   "execution_count": 19,
   "id": "b4ec6f7f",
   "metadata": {},
   "outputs": [
    {
     "data": {
      "text/plain": [
       "\"\\nanalyse_CODGEO['in pop?'] = analyse_CODGEO['CODGEO_geo'].apply(lambda x: True if x in CODGEO_pop else False)\\n\""
      ]
     },
     "execution_count": 19,
     "metadata": {},
     "output_type": "execute_result"
    }
   ],
   "source": [
    "\n",
    "analyse_CODGEO['in ets?'] = analyse_CODGEO['CODGEO_geo'].apply(lambda x: True if x in CODGEO_ets else False)\n",
    "\n",
    "analyse_CODGEO['in sal?'] = analyse_CODGEO['CODGEO_geo'].apply(lambda x: True if x in CODGEO_sal else False)\n",
    "\n",
    "\n",
    "\n",
    "\n"
   ]
  },
  {
   "cell_type": "code",
   "execution_count": 20,
   "id": "98c77012",
   "metadata": {},
   "outputs": [],
   "source": [
    "analyse_CODGEO['in pop?'] = analyse_CODGEO['CODGEO_geo'].apply(lambda x: True if x in CODGEO_pop else False)"
   ]
  },
  {
   "cell_type": "code",
   "execution_count": 21,
   "id": "be02f7e0",
   "metadata": {},
   "outputs": [
    {
     "data": {
      "text/html": [
       "<div>\n",
       "<style scoped>\n",
       "    .dataframe tbody tr th:only-of-type {\n",
       "        vertical-align: middle;\n",
       "    }\n",
       "\n",
       "    .dataframe tbody tr th {\n",
       "        vertical-align: top;\n",
       "    }\n",
       "\n",
       "    .dataframe thead th {\n",
       "        text-align: right;\n",
       "    }\n",
       "</style>\n",
       "<table border=\"1\" class=\"dataframe\">\n",
       "  <thead>\n",
       "    <tr style=\"text-align: right;\">\n",
       "      <th></th>\n",
       "      <th>CODGEO_geo</th>\n",
       "      <th>in ets?</th>\n",
       "      <th>in sal?</th>\n",
       "      <th>in pop?</th>\n",
       "    </tr>\n",
       "  </thead>\n",
       "  <tbody>\n",
       "    <tr>\n",
       "      <th>0</th>\n",
       "      <td>01024</td>\n",
       "      <td>True</td>\n",
       "      <td>True</td>\n",
       "      <td>True</td>\n",
       "    </tr>\n",
       "    <tr>\n",
       "      <th>1</th>\n",
       "      <td>01029</td>\n",
       "      <td>True</td>\n",
       "      <td>False</td>\n",
       "      <td>True</td>\n",
       "    </tr>\n",
       "    <tr>\n",
       "      <th>2</th>\n",
       "      <td>01038</td>\n",
       "      <td>True</td>\n",
       "      <td>False</td>\n",
       "      <td>True</td>\n",
       "    </tr>\n",
       "    <tr>\n",
       "      <th>3</th>\n",
       "      <td>01040</td>\n",
       "      <td>True</td>\n",
       "      <td>False</td>\n",
       "      <td>True</td>\n",
       "    </tr>\n",
       "    <tr>\n",
       "      <th>4</th>\n",
       "      <td>01245</td>\n",
       "      <td>True</td>\n",
       "      <td>False</td>\n",
       "      <td>True</td>\n",
       "    </tr>\n",
       "  </tbody>\n",
       "</table>\n",
       "</div>"
      ],
      "text/plain": [
       "  CODGEO_geo  in ets?  in sal?  in pop?\n",
       "0      01024     True     True     True\n",
       "1      01029     True    False     True\n",
       "2      01038     True    False     True\n",
       "3      01040     True    False     True\n",
       "4      01245     True    False     True"
      ]
     },
     "execution_count": 21,
     "metadata": {},
     "output_type": "execute_result"
    }
   ],
   "source": [
    "analyse_CODGEO.head()"
   ]
  },
  {
   "cell_type": "code",
   "execution_count": 23,
   "id": "7542fa0e",
   "metadata": {},
   "outputs": [
    {
     "data": {
      "text/plain": [
       "True     36446\n",
       "False      394\n",
       "Name: in ets?, dtype: int64"
      ]
     },
     "execution_count": 23,
     "metadata": {},
     "output_type": "execute_result"
    }
   ],
   "source": [
    "analyse_CODGEO['in ets?'].value_counts()"
   ]
  },
  {
   "cell_type": "code",
   "execution_count": 24,
   "id": "5aa3e2ce",
   "metadata": {},
   "outputs": [
    {
     "data": {
      "text/plain": [
       "False    31592\n",
       "True      5248\n",
       "Name: in sal?, dtype: int64"
      ]
     },
     "execution_count": 24,
     "metadata": {},
     "output_type": "execute_result"
    }
   ],
   "source": [
    "analyse_CODGEO['in sal?'].value_counts()"
   ]
  },
  {
   "cell_type": "code",
   "execution_count": 25,
   "id": "5cb35f1b",
   "metadata": {},
   "outputs": [
    {
     "data": {
      "text/plain": [
       "True     35634\n",
       "False     1206\n",
       "Name: in pop?, dtype: int64"
      ]
     },
     "execution_count": 25,
     "metadata": {},
     "output_type": "execute_result"
    }
   ],
   "source": [
    "analyse_CODGEO['in pop?'].value_counts()"
   ]
  },
  {
   "cell_type": "code",
   "execution_count": 27,
   "id": "a379367f",
   "metadata": {},
   "outputs": [
    {
     "data": {
      "text/plain": [
       "35634"
      ]
     },
     "execution_count": 27,
     "metadata": {},
     "output_type": "execute_result"
    }
   ],
   "source": [
    "len(analyse_CODGEO[(analyse_CODGEO['in ets?'] == True) & (analyse_CODGEO['in pop?'] == True)])"
   ]
  },
  {
   "cell_type": "code",
   "execution_count": 28,
   "id": "d0c4d86e",
   "metadata": {},
   "outputs": [
    {
     "data": {
      "text/plain": [
       "5219"
      ]
     },
     "execution_count": 28,
     "metadata": {},
     "output_type": "execute_result"
    }
   ],
   "source": [
    "len(analyse_CODGEO[(analyse_CODGEO['in ets?'] == True) & (analyse_CODGEO['in pop?'] == True) & (analyse_CODGEO['in sal?'] == True)])"
   ]
  },
  {
   "cell_type": "code",
   "execution_count": null,
   "id": "1bbe1f30",
   "metadata": {},
   "outputs": [],
   "source": [
    "geo.duplicated().value_counts()"
   ]
  },
  {
   "cell_type": "code",
   "execution_count": null,
   "id": "9093d761",
   "metadata": {},
   "outputs": [],
   "source": [
    "merged = geo.merge(ets, how='left', on='CODGEO')"
   ]
  },
  {
   "cell_type": "code",
   "execution_count": null,
   "id": "20d4caa1",
   "metadata": {},
   "outputs": [],
   "source": [
    "merged2 = merged.merge(salary, how='left', on='CODGEO')"
   ]
  },
  {
   "cell_type": "code",
   "execution_count": null,
   "id": "d07f02e3",
   "metadata": {},
   "outputs": [],
   "source": [
    "#merged3 = merged2.merge(population, how='left', on='CODGEO')"
   ]
  },
  {
   "cell_type": "code",
   "execution_count": null,
   "id": "6bc11407",
   "metadata": {},
   "outputs": [],
   "source": [
    "len(merged2)"
   ]
  },
  {
   "cell_type": "code",
   "execution_count": null,
   "id": "da83f55c",
   "metadata": {
    "scrolled": false
   },
   "outputs": [],
   "source": [
    "merged2.head(50)"
   ]
  },
  {
   "cell_type": "code",
   "execution_count": null,
   "id": "278f21f5",
   "metadata": {},
   "outputs": [],
   "source": [
    "merged2.columns.to_list()"
   ]
  },
  {
   "cell_type": "code",
   "execution_count": null,
   "id": "b1f22ad4",
   "metadata": {},
   "outputs": [],
   "source": [
    "merged2[pd.isnull(merged2['LIBGEO_x'])][['LIBGEO_x', 'LIBGEO_y']].isna().sum()"
   ]
  },
  {
   "cell_type": "code",
   "execution_count": null,
   "id": "2d908caf",
   "metadata": {},
   "outputs": [],
   "source": [
    "merged2 = merged2.drop(['LIBGEO_y'], axis=1)\n"
   ]
  },
  {
   "cell_type": "code",
   "execution_count": null,
   "id": "13639c45",
   "metadata": {},
   "outputs": [],
   "source": [
    "merged2 = merged2.rename(columns={'LIBGEO_x':'LIBGEO'})"
   ]
  },
  {
   "cell_type": "code",
   "execution_count": null,
   "id": "e0e6258e",
   "metadata": {},
   "outputs": [],
   "source": [
    "import numpy as np\n",
    "len(np.unique(merged2.CODGEO))"
   ]
  },
  {
   "cell_type": "code",
   "execution_count": null,
   "id": "24c0200e",
   "metadata": {},
   "outputs": [],
   "source": [
    "len(merged2)"
   ]
  },
  {
   "cell_type": "code",
   "execution_count": null,
   "id": "71d37983",
   "metadata": {},
   "outputs": [],
   "source": [
    "merged2.duplicated().value_counts()"
   ]
  },
  {
   "cell_type": "code",
   "execution_count": null,
   "id": "e3d25465",
   "metadata": {},
   "outputs": [],
   "source": [
    "no_float = []\n",
    "for i in merged2.longitude:\n",
    "    try:\n",
    "        float(i)\n",
    "    except:\n",
    "        no_float.append(i)\n",
    "print(np.unique(no_float))"
   ]
  },
  {
   "cell_type": "code",
   "execution_count": null,
   "id": "a650b5d7",
   "metadata": {},
   "outputs": [],
   "source": [
    "merged2.longitude = merged2.longitude.replace('-', np.nan)"
   ]
  },
  {
   "cell_type": "code",
   "execution_count": null,
   "id": "fd2bf671",
   "metadata": {},
   "outputs": [],
   "source": [
    "merged2.longitude = merged2.longitude.str.replace(',', '.')"
   ]
  },
  {
   "cell_type": "code",
   "execution_count": null,
   "id": "b1c952da",
   "metadata": {},
   "outputs": [],
   "source": [
    "merged2.longitude = merged2.longitude.astype(float)"
   ]
  },
  {
   "cell_type": "code",
   "execution_count": null,
   "id": "252ea8f9",
   "metadata": {},
   "outputs": [],
   "source": [
    "merged2.isna().sum()"
   ]
  },
  {
   "cell_type": "code",
   "execution_count": null,
   "id": "4ede5f26",
   "metadata": {},
   "outputs": [],
   "source": [
    "merged2.E14TST.isna().sum()"
   ]
  },
  {
   "cell_type": "code",
   "execution_count": null,
   "id": "95f019b2",
   "metadata": {},
   "outputs": [],
   "source": [
    "len(merged2)"
   ]
  },
  {
   "cell_type": "code",
   "execution_count": null,
   "id": "866b6ca4",
   "metadata": {},
   "outputs": [],
   "source": [
    "merged2 = merged2.dropna(subset=['E14TST']).reset_index(drop=True)"
   ]
  },
  {
   "cell_type": "code",
   "execution_count": null,
   "id": "1db3b572",
   "metadata": {},
   "outputs": [],
   "source": [
    "len(merged2)"
   ]
  },
  {
   "cell_type": "code",
   "execution_count": null,
   "id": "0236db8b",
   "metadata": {},
   "outputs": [],
   "source": [
    "merged2['ets_categorie'] = pd.qcut(merged2['E14TST'], q=[0,0.25,0.50,0.75,1], labels=['quantile 1', 'quantile 2', 'quantile 3', 'quantile 4'])"
   ]
  },
  {
   "cell_type": "code",
   "execution_count": null,
   "id": "c6f59f77",
   "metadata": {},
   "outputs": [],
   "source": [
    "merged_ets = merged2[['longitude', 'latitude', 'E14TST', 'ets_categorie']]"
   ]
  },
  {
   "cell_type": "code",
   "execution_count": null,
   "id": "ce2d96b5",
   "metadata": {
    "scrolled": true
   },
   "outputs": [],
   "source": [
    "def Gcolor(x):\n",
    "    if x == 'quantile 1':\n",
    "        return 230\n",
    "    elif x == 'quantile 2':\n",
    "        return 190\n",
    "    elif x == 'quantile 3':\n",
    "        return 130\n",
    "    else:\n",
    "        return 0\n",
    "merged_ets['Gcolor'] = merged_ets['ets_categorie'].apply(lambda x: Gcolor(x))"
   ]
  },
  {
   "cell_type": "code",
   "execution_count": null,
   "id": "3ecef95b",
   "metadata": {},
   "outputs": [],
   "source": [
    "merged_ets = merged_ets.dropna().reset_index(drop=True)"
   ]
  },
  {
   "cell_type": "code",
   "execution_count": null,
   "id": "1b4d8f36",
   "metadata": {},
   "outputs": [],
   "source": [
    "len(merged_ets)"
   ]
  },
  {
   "cell_type": "code",
   "execution_count": null,
   "id": "d8999657",
   "metadata": {},
   "outputs": [],
   "source": [
    "merged_ets.to_csv('merged_ets.csv')"
   ]
  },
  {
   "cell_type": "code",
   "execution_count": null,
   "id": "3f6c6e58",
   "metadata": {},
   "outputs": [],
   "source": [
    "merged_ets['E14TST'].max()"
   ]
  },
  {
   "cell_type": "code",
   "execution_count": null,
   "id": "f160aa57",
   "metadata": {},
   "outputs": [],
   "source": [
    "merged_ets.head()"
   ]
  },
  {
   "cell_type": "code",
   "execution_count": null,
   "id": "28f5c9ae",
   "metadata": {},
   "outputs": [],
   "source": [
    "merged_ets[merged_ets['ets_categorie'] == 'quantile 1'].E14TST.min()"
   ]
  },
  {
   "cell_type": "code",
   "execution_count": null,
   "id": "88f02c47",
   "metadata": {},
   "outputs": [],
   "source": [
    "merged_ets[merged_ets['ets_categorie'] == 'quantile 1'].E14TST.max()"
   ]
  },
  {
   "cell_type": "code",
   "execution_count": null,
   "id": "28d4282b",
   "metadata": {},
   "outputs": [],
   "source": [
    "merged_ets[merged_ets['ets_categorie'] == 'quantile 2'].E14TST.min()"
   ]
  },
  {
   "cell_type": "code",
   "execution_count": null,
   "id": "f26159cb",
   "metadata": {},
   "outputs": [],
   "source": [
    "merged_ets[merged_ets['ets_categorie'] == 'quantile 2'].E14TST.max()"
   ]
  },
  {
   "cell_type": "code",
   "execution_count": null,
   "id": "6a117dd4",
   "metadata": {
    "scrolled": true
   },
   "outputs": [],
   "source": [
    "merged_ets[merged_ets['ets_categorie'] == 'quantile 3'].E14TST.min()"
   ]
  },
  {
   "cell_type": "code",
   "execution_count": null,
   "id": "862284ac",
   "metadata": {},
   "outputs": [],
   "source": [
    "merged_ets[merged_ets['ets_categorie'] == 'quantile 3'].E14TST.max()"
   ]
  },
  {
   "cell_type": "code",
   "execution_count": null,
   "id": "73740a21",
   "metadata": {},
   "outputs": [],
   "source": [
    "merged_ets[merged_ets['ets_categorie'] == 'quantile 4'].E14TST.min()"
   ]
  }
 ],
 "metadata": {
  "kernelspec": {
   "display_name": "Python 3 (ipykernel)",
   "language": "python",
   "name": "python3"
  },
  "language_info": {
   "codemirror_mode": {
    "name": "ipython",
    "version": 3
   },
   "file_extension": ".py",
   "mimetype": "text/x-python",
   "name": "python",
   "nbconvert_exporter": "python",
   "pygments_lexer": "ipython3",
   "version": "3.9.13"
  }
 },
 "nbformat": 4,
 "nbformat_minor": 5
}
